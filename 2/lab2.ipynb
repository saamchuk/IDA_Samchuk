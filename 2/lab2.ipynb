{
 "cells": [
  {
   "cell_type": "markdown",
   "id": "f44a2f2b",
   "metadata": {},
   "source": [
    "# 100 numpy exercises\n",
    "\n",
    "This is a collection of exercises that have been collected in the numpy mailing list, on stack overflow\n",
    "and in the numpy documentation. The goal of this collection is to offer a quick reference for both old\n",
    "and new users but also to provide a set of exercises for those who teach."
   ]
  },
  {
   "cell_type": "markdown",
   "id": "96443564",
   "metadata": {},
   "source": [
    "#### 1. Import the numpy package under the name `np` (★☆☆)"
   ]
  },
  {
   "cell_type": "code",
   "execution_count": 415,
   "id": "ffe1047e",
   "metadata": {},
   "outputs": [],
   "source": [
    "import numpy as np"
   ]
  },
  {
   "cell_type": "markdown",
   "id": "c807bf1d",
   "metadata": {},
   "source": [
    "#### 2. Print the numpy version and the configuration (★☆☆)"
   ]
  },
  {
   "cell_type": "code",
   "execution_count": 416,
   "id": "f396b717",
   "metadata": {},
   "outputs": [
    {
     "name": "stdout",
     "output_type": "stream",
     "text": [
      "The NumpPy version: 1.24.3\n",
      "The NumPy configuration:\n",
      "blas_armpl_info:\n",
      "  NOT AVAILABLE\n",
      "blas_mkl_info:\n",
      "    libraries = ['mkl_rt']\n",
      "    library_dirs = ['C:/Users/user/anaconda3\\\\Library\\\\lib']\n",
      "    define_macros = [('SCIPY_MKL_H', None), ('HAVE_CBLAS', None)]\n",
      "    include_dirs = ['C:/Users/user/anaconda3\\\\Library\\\\include']\n",
      "blas_opt_info:\n",
      "    libraries = ['mkl_rt']\n",
      "    library_dirs = ['C:/Users/user/anaconda3\\\\Library\\\\lib']\n",
      "    define_macros = [('SCIPY_MKL_H', None), ('HAVE_CBLAS', None)]\n",
      "    include_dirs = ['C:/Users/user/anaconda3\\\\Library\\\\include']\n",
      "lapack_armpl_info:\n",
      "  NOT AVAILABLE\n",
      "lapack_mkl_info:\n",
      "    libraries = ['mkl_rt']\n",
      "    library_dirs = ['C:/Users/user/anaconda3\\\\Library\\\\lib']\n",
      "    define_macros = [('SCIPY_MKL_H', None), ('HAVE_CBLAS', None)]\n",
      "    include_dirs = ['C:/Users/user/anaconda3\\\\Library\\\\include']\n",
      "lapack_opt_info:\n",
      "    libraries = ['mkl_rt']\n",
      "    library_dirs = ['C:/Users/user/anaconda3\\\\Library\\\\lib']\n",
      "    define_macros = [('SCIPY_MKL_H', None), ('HAVE_CBLAS', None)]\n",
      "    include_dirs = ['C:/Users/user/anaconda3\\\\Library\\\\include']\n",
      "Supported SIMD extensions in this NumPy install:\n",
      "    baseline = SSE,SSE2,SSE3\n",
      "    found = SSSE3,SSE41,POPCNT,SSE42,AVX,F16C,FMA3,AVX2,AVX512F,AVX512CD,AVX512_SKX,AVX512_CLX,AVX512_CNL,AVX512_ICL\n",
      "    not found = \n"
     ]
    }
   ],
   "source": [
    "print('The NumpPy version:', np.__version__)\n",
    "print('The NumPy configuration:')\n",
    "np.show_config()"
   ]
  },
  {
   "cell_type": "markdown",
   "id": "572c1bdb",
   "metadata": {},
   "source": [
    "#### 3. Create a null vector of size 10 (★☆☆)"
   ]
  },
  {
   "cell_type": "code",
   "execution_count": 417,
   "id": "31c9f6a5",
   "metadata": {},
   "outputs": [
    {
     "name": "stdout",
     "output_type": "stream",
     "text": [
      "[0. 0. 0. 0. 0. 0. 0. 0. 0. 0.]\n"
     ]
    }
   ],
   "source": [
    "nullVector = np.zeros(10)\n",
    "print(nullVector)"
   ]
  },
  {
   "cell_type": "markdown",
   "id": "337e6e36",
   "metadata": {},
   "source": [
    "#### 4. How to find the memory size of any array (★☆☆)"
   ]
  },
  {
   "cell_type": "code",
   "execution_count": 418,
   "id": "31e8ec2e",
   "metadata": {},
   "outputs": [
    {
     "name": "stdout",
     "output_type": "stream",
     "text": [
      "80\n"
     ]
    }
   ],
   "source": [
    "print(nullVector.nbytes)"
   ]
  },
  {
   "cell_type": "markdown",
   "id": "166079c8",
   "metadata": {},
   "source": [
    "#### 5. How to get the documentation of the numpy add function from the command line? (★☆☆)"
   ]
  },
  {
   "cell_type": "code",
   "execution_count": 419,
   "id": "593cd80f",
   "metadata": {},
   "outputs": [],
   "source": [
    "###pydoc numpy.add"
   ]
  },
  {
   "cell_type": "markdown",
   "id": "3add7101",
   "metadata": {},
   "source": [
    "#### 6. Create a null vector of size 10 but the fifth value which is 1 (★☆☆)"
   ]
  },
  {
   "cell_type": "code",
   "execution_count": 420,
   "id": "2edf3c42",
   "metadata": {},
   "outputs": [
    {
     "name": "stdout",
     "output_type": "stream",
     "text": [
      "[0. 0. 0. 0. 1. 0. 0. 0. 0. 0.]\n"
     ]
    }
   ],
   "source": [
    "nullVector[4] = 1\n",
    "print(nullVector)"
   ]
  },
  {
   "cell_type": "markdown",
   "id": "cfc46304",
   "metadata": {},
   "source": [
    "#### 7. Create a vector with values ranging from 10 to 49 (★☆☆)"
   ]
  },
  {
   "cell_type": "code",
   "execution_count": 421,
   "id": "d8b86640",
   "metadata": {},
   "outputs": [
    {
     "name": "stdout",
     "output_type": "stream",
     "text": [
      "[10 11 12 13 14 15 16 17 18 19 20 21 22 23 24 25 26 27 28 29 30 31 32 33\n",
      " 34 35 36 37 38 39 40 41 42 43 44 45 46 47 48 49]\n"
     ]
    }
   ],
   "source": [
    "vector = np.arange(10,50)\n",
    "print(vector)"
   ]
  },
  {
   "cell_type": "markdown",
   "id": "0cc200be",
   "metadata": {},
   "source": [
    "#### 8. Reverse a vector (first element becomes last) (★☆☆)"
   ]
  },
  {
   "cell_type": "code",
   "execution_count": 422,
   "id": "ec044bb5",
   "metadata": {},
   "outputs": [
    {
     "name": "stdout",
     "output_type": "stream",
     "text": [
      "[49 48 47 46 45 44 43 42 41 40 39 38 37 36 35 34 33 32 31 30 29 28 27 26\n",
      " 25 24 23 22 21 20 19 18 17 16 15 14 13 12 11 10]\n"
     ]
    }
   ],
   "source": [
    "vector = vector[::-1]\n",
    "print(vector)"
   ]
  },
  {
   "cell_type": "markdown",
   "id": "29d9ede4",
   "metadata": {},
   "source": [
    "#### 9. Create a 3x3 matrix with values ranging from 0 to 8 (★☆☆)"
   ]
  },
  {
   "cell_type": "code",
   "execution_count": 423,
   "id": "d9e39043",
   "metadata": {},
   "outputs": [
    {
     "name": "stdout",
     "output_type": "stream",
     "text": [
      "[[0 1 2]\n",
      " [3 4 5]\n",
      " [6 7 8]]\n"
     ]
    }
   ],
   "source": [
    "vector = np.arange(9).reshape(3,3)\n",
    "print(vector)"
   ]
  },
  {
   "cell_type": "markdown",
   "id": "88905ceb",
   "metadata": {},
   "source": [
    "#### 10. Find indices of non-zero elements from [1,2,0,0,4,0] (★☆☆)"
   ]
  },
  {
   "cell_type": "code",
   "execution_count": 424,
   "id": "b2f3c90a",
   "metadata": {},
   "outputs": [
    {
     "name": "stdout",
     "output_type": "stream",
     "text": [
      "(array([0, 1, 4], dtype=int64),)\n"
     ]
    }
   ],
   "source": [
    "array = [1,2,0,0,4,0]\n",
    "indices = np.nonzero(array)\n",
    "print(indices)"
   ]
  },
  {
   "cell_type": "markdown",
   "id": "49603e91",
   "metadata": {},
   "source": [
    "#### 11. Create a 3x3 identity matrix (★☆☆)"
   ]
  },
  {
   "cell_type": "code",
   "execution_count": 425,
   "id": "5b607b5c",
   "metadata": {},
   "outputs": [
    {
     "name": "stdout",
     "output_type": "stream",
     "text": [
      "[[1. 0. 0.]\n",
      " [0. 1. 0.]\n",
      " [0. 0. 1.]]\n"
     ]
    }
   ],
   "source": [
    "identityMatrix = np.eye(3,3)\n",
    "print(identityMatrix)"
   ]
  },
  {
   "cell_type": "markdown",
   "id": "e15c249a",
   "metadata": {},
   "source": [
    "#### 12. Create a 3x3x3 array with random values (★☆☆)"
   ]
  },
  {
   "cell_type": "code",
   "execution_count": 426,
   "id": "ab21ed50",
   "metadata": {},
   "outputs": [
    {
     "name": "stdout",
     "output_type": "stream",
     "text": [
      "[[[3 0 5]\n",
      "  [6 1 2]\n",
      "  [3 8 3]]\n",
      "\n",
      " [[9 2 9]\n",
      "  [6 5 0]\n",
      "  [5 4 3]]\n",
      "\n",
      " [[4 7 1]\n",
      "  [3 8 5]\n",
      "  [7 4 2]]]\n"
     ]
    }
   ],
   "source": [
    "randomArray = np.random.randint(0, 10, (3,3,3))\n",
    "print(randomArray)"
   ]
  },
  {
   "cell_type": "markdown",
   "id": "157a129c",
   "metadata": {},
   "source": [
    "#### 13. Create a 10x10 array with random values and find the minimum and maximum values (★☆☆)"
   ]
  },
  {
   "cell_type": "code",
   "execution_count": 427,
   "id": "c0066de5",
   "metadata": {},
   "outputs": [
    {
     "name": "stdout",
     "output_type": "stream",
     "text": [
      "The array:\n",
      " [[95 34 47 43 58 40 16 92 46 66]\n",
      " [35 30 71 53 18 10 41 30 26 99]\n",
      " [34 95 81 32 33 54 48 50 32 50]\n",
      " [89 53 17 81 58 96 25 38 59 77]\n",
      " [80 78 52 83 22 55 35 52  8 35]\n",
      " [28 74 33 25 67 12 99  1 61 40]\n",
      " [ 3 53 60 24 44 94 11  4 34 78]\n",
      " [67 52 75 10 94 48  0 35 45 57]\n",
      " [10 99  2 69 27 50 52 59 76 38]\n",
      " [42 40 14 51 60 16 12 15 61 20]]\n",
      "The minimum value: 0\n",
      "The maximum value: 99\n"
     ]
    }
   ],
   "source": [
    "array = np.random.randint(0, 100, (10,10))\n",
    "print('The array:\\n', array)\n",
    "print('The minimum value:', array.min())\n",
    "print('The maximum value:', array.max())"
   ]
  },
  {
   "cell_type": "markdown",
   "id": "d92d7b32",
   "metadata": {},
   "source": [
    "#### 14. Create a random vector of size 30 and find the mean value (★☆☆)"
   ]
  },
  {
   "cell_type": "code",
   "execution_count": 428,
   "id": "9672d023",
   "metadata": {},
   "outputs": [
    {
     "name": "stdout",
     "output_type": "stream",
     "text": [
      "The vector:\n",
      " [0.92905929 0.54060893 0.69658126 0.71406737 0.05555856 0.20641244\n",
      " 0.28937225 0.94515105 0.17923214 0.17653522 0.39168142 0.37504361\n",
      " 0.57303207 0.28636563 0.17436915 0.57112244 0.29545022 0.11600813\n",
      " 0.55593331 0.75476118 0.45062492 0.25588364 0.37039547 0.66496225\n",
      " 0.06075333 0.72371351 0.38996903 0.63339166 0.81333899 0.40850938]\n",
      "The mean value: 0.45326292782012645\n"
     ]
    }
   ],
   "source": [
    "vector = np.random.rand(30)\n",
    "print('The vector:\\n', vector)\n",
    "print('The mean value:', vector.mean())"
   ]
  },
  {
   "cell_type": "markdown",
   "id": "f361efc0",
   "metadata": {},
   "source": [
    "#### 15. Create a 2d array with 1 on the border and 0 inside (★☆☆)"
   ]
  },
  {
   "cell_type": "code",
   "execution_count": 429,
   "id": "a55b6666",
   "metadata": {},
   "outputs": [
    {
     "name": "stdout",
     "output_type": "stream",
     "text": [
      "[[1. 1. 1. 1. 1.]\n",
      " [1. 0. 0. 0. 1.]\n",
      " [1. 0. 0. 0. 1.]\n",
      " [1. 0. 0. 0. 1.]\n",
      " [1. 1. 1. 1. 1.]]\n"
     ]
    }
   ],
   "source": [
    "array = np.ones((5,5))\n",
    "array[1:-1,1:-1] = 0\n",
    "print(array)"
   ]
  },
  {
   "cell_type": "markdown",
   "id": "475808cb",
   "metadata": {},
   "source": [
    "#### 16. How to add a border (filled with 0's) around an existing array? (★☆☆)"
   ]
  },
  {
   "cell_type": "code",
   "execution_count": 430,
   "id": "b2df3a8a",
   "metadata": {},
   "outputs": [
    {
     "name": "stdout",
     "output_type": "stream",
     "text": [
      "The initial array:\n",
      " [[0 1 2]\n",
      " [3 4 5]\n",
      " [6 7 8]]\n",
      "\n",
      "The resulting array:\n",
      " [[0. 0. 0. 0. 0.]\n",
      " [0. 0. 1. 2. 0.]\n",
      " [0. 3. 4. 5. 0.]\n",
      " [0. 6. 7. 8. 0.]\n",
      " [0. 0. 0. 0. 0.]]\n"
     ]
    }
   ],
   "source": [
    "initialArray = np.arange(9).reshape(3,3)\n",
    "rows, columns = initialArray.shape\n",
    "print('The initial array:\\n', initialArray)\n",
    "\n",
    "array = np.zeros((rows+2, columns+2))\n",
    "array[1:-1,1:-1] = initialArray\n",
    "print('\\nThe resulting array:\\n', array)\n"
   ]
  },
  {
   "cell_type": "markdown",
   "id": "1af07d85",
   "metadata": {},
   "source": [
    "#### 17. What is the result of the following expression? (★☆☆)\n",
    "```python\n",
    "0 * np.nan\n",
    "np.nan == np.nan\n",
    "np.inf > np.nan\n",
    "np.nan - np.nan\n",
    "np.nan in set([np.nan])\n",
    "0.3 == 3 * 0.1\n",
    "```"
   ]
  },
  {
   "cell_type": "code",
   "execution_count": 431,
   "id": "109cf327",
   "metadata": {},
   "outputs": [
    {
     "name": "stdout",
     "output_type": "stream",
     "text": [
      "nan\n",
      "False\n",
      "False\n",
      "nan\n",
      "True\n",
      "False\n"
     ]
    }
   ],
   "source": [
    "print(0*np.nan)\n",
    "print(np.nan == np.nan)\n",
    "print(np.inf > np.nan)\n",
    "print(np.nan - np.nan)\n",
    "print(np.nan in set([np.nan]))\n",
    "print(0.3 == 3*0.1)"
   ]
  },
  {
   "cell_type": "markdown",
   "id": "6a235316",
   "metadata": {},
   "source": [
    "#### 18. Create a 5x5 matrix with values 1,2,3,4 just below the diagonal (★☆☆)"
   ]
  },
  {
   "cell_type": "code",
   "execution_count": 432,
   "id": "f2e6cfa6",
   "metadata": {},
   "outputs": [
    {
     "name": "stdout",
     "output_type": "stream",
     "text": [
      "[[0 0 0 0 0]\n",
      " [1 0 0 0 0]\n",
      " [0 2 0 0 0]\n",
      " [0 0 3 0 0]\n",
      " [0 0 0 4 0]]\n"
     ]
    }
   ],
   "source": [
    "array = np.diag(np.arange(1,5), k=-1)\n",
    "print(array)"
   ]
  },
  {
   "cell_type": "markdown",
   "id": "25362e98",
   "metadata": {},
   "source": [
    "#### 19. Create a 8x8 matrix and fill it with a checkerboard pattern (★☆☆)"
   ]
  },
  {
   "cell_type": "code",
   "execution_count": 433,
   "id": "cabdf298",
   "metadata": {},
   "outputs": [
    {
     "name": "stdout",
     "output_type": "stream",
     "text": [
      "[[0. 1. 0. 1. 0. 1. 0. 1.]\n",
      " [1. 0. 1. 0. 1. 0. 1. 0.]\n",
      " [0. 1. 0. 1. 0. 1. 0. 1.]\n",
      " [1. 0. 1. 0. 1. 0. 1. 0.]\n",
      " [0. 1. 0. 1. 0. 1. 0. 1.]\n",
      " [1. 0. 1. 0. 1. 0. 1. 0.]\n",
      " [0. 1. 0. 1. 0. 1. 0. 1.]\n",
      " [1. 0. 1. 0. 1. 0. 1. 0.]]\n"
     ]
    }
   ],
   "source": [
    "array = np.zeros((8,8))\n",
    "array[1::2, ::2] = 1\n",
    "array[::2, 1::2] = 1\n",
    "print(array)"
   ]
  },
  {
   "cell_type": "markdown",
   "id": "6431e977",
   "metadata": {},
   "source": [
    "#### 20. Consider a (6,7,8) shape array, what is the index (x,y,z) of the 100th element? (★☆☆)"
   ]
  },
  {
   "cell_type": "code",
   "execution_count": 434,
   "id": "de8b0245",
   "metadata": {},
   "outputs": [
    {
     "name": "stdout",
     "output_type": "stream",
     "text": [
      "(1, 5, 4)\n"
     ]
    }
   ],
   "source": [
    "print(np.unravel_index(100, (6,7,8)))"
   ]
  },
  {
   "cell_type": "markdown",
   "id": "31abe6fe",
   "metadata": {},
   "source": [
    "#### 21. Create a checkerboard 8x8 matrix using the tile function (★☆☆)"
   ]
  },
  {
   "cell_type": "code",
   "execution_count": 435,
   "id": "6da26fd3",
   "metadata": {},
   "outputs": [
    {
     "name": "stdout",
     "output_type": "stream",
     "text": [
      "[[0 1 0 1 0 1 0 1]\n",
      " [1 0 1 0 1 0 1 0]\n",
      " [0 1 0 1 0 1 0 1]\n",
      " [1 0 1 0 1 0 1 0]\n",
      " [0 1 0 1 0 1 0 1]\n",
      " [1 0 1 0 1 0 1 0]\n",
      " [0 1 0 1 0 1 0 1]\n",
      " [1 0 1 0 1 0 1 0]]\n"
     ]
    }
   ],
   "source": [
    "array = np.tile(np.array([[0 , 1], [1, 0]]), (4, 4))\n",
    "print(array)"
   ]
  },
  {
   "cell_type": "markdown",
   "id": "fd88b3f4",
   "metadata": {},
   "source": [
    "#### 22. Normalize a 5x5 random matrix (★☆☆)"
   ]
  },
  {
   "cell_type": "code",
   "execution_count": 436,
   "id": "ee6ced60",
   "metadata": {},
   "outputs": [
    {
     "name": "stdout",
     "output_type": "stream",
     "text": [
      "The initial array:\n",
      " [[-5  3  2  4  2]\n",
      " [ 2 -2 -3  3  1]\n",
      " [-5 -2  1 -5  1]\n",
      " [ 1 -3  0  1 -1]\n",
      " [-2 -3  0 -2 -5]]\n",
      "\n",
      "The resulting array:\n",
      " [[-1.59480185  1.35853491  0.98936781  1.727702    0.98936781]\n",
      " [ 0.98936781 -0.48730056 -0.85646766  1.35853491  0.62020072]\n",
      " [-1.59480185 -0.48730056  0.62020072 -1.59480185  0.62020072]\n",
      " [ 0.62020072 -0.85646766  0.25103362  0.62020072 -0.11813347]\n",
      " [-0.48730056 -0.85646766  0.25103362 -0.48730056 -1.59480185]]\n"
     ]
    }
   ],
   "source": [
    "array = np.random.randint(-5, 5, (5, 5))\n",
    "print('The initial array:\\n', array)\n",
    "array = (array - np.mean(array)) / np.std(array)\n",
    "print('\\nThe resulting array:\\n', array)"
   ]
  },
  {
   "cell_type": "markdown",
   "id": "464d8590",
   "metadata": {},
   "source": [
    "#### 23. Create a custom dtype that describes a color as four unsigned bytes (RGBA) (★☆☆)"
   ]
  },
  {
   "cell_type": "code",
   "execution_count": 437,
   "id": "e2f9cfc6",
   "metadata": {},
   "outputs": [],
   "source": [
    "custom_dtype = np.dtype([('R', np.ubyte), ('G', np.ubyte), ('B', np.ubyte), ('A', np.ubyte)])"
   ]
  },
  {
   "cell_type": "markdown",
   "id": "06c63bb3",
   "metadata": {},
   "source": [
    "#### 24. Multiply a 5x3 matrix by a 3x2 matrix (real matrix product) (★☆☆)"
   ]
  },
  {
   "cell_type": "code",
   "execution_count": 438,
   "id": "9fc0d553",
   "metadata": {},
   "outputs": [
    {
     "name": "stdout",
     "output_type": "stream",
     "text": [
      "The first array:\n",
      " [[2 4 4]\n",
      " [1 3 2]\n",
      " [2 4 1]\n",
      " [4 2 2]\n",
      " [1 2 3]]\n",
      "\n",
      "The second array:\n",
      " [[3 1]\n",
      " [3 4]\n",
      " [3 4]]\n",
      "\n",
      "The resulting array:\n",
      " [[30 34]\n",
      " [18 21]\n",
      " [21 22]\n",
      " [24 20]\n",
      " [18 21]]\n"
     ]
    }
   ],
   "source": [
    "array1 = np.random.randint(1, 5, (5, 3))\n",
    "print('The first array:\\n', array1)\n",
    "array2 = np.random.randint(1, 5, (3, 2))\n",
    "print('\\nThe second array:\\n', array2)\n",
    "array = np.dot(array1, array2)\n",
    "print('\\nThe resulting array:\\n', array)"
   ]
  },
  {
   "cell_type": "markdown",
   "id": "76fa6285",
   "metadata": {},
   "source": [
    "#### 25. Given a 1D array, negate all elements which are between 3 and 8, in place. (★☆☆)"
   ]
  },
  {
   "cell_type": "code",
   "execution_count": 439,
   "id": "0e25eca7",
   "metadata": {},
   "outputs": [
    {
     "name": "stdout",
     "output_type": "stream",
     "text": [
      "The initial array: [1 2 7 6 2 5 0 7 9 7 4 6 7 6 3]\n",
      "\n",
      "The resulting array: [ 1  2 -7 -6  2 -5  0 -7  9 -7 -4 -6 -7 -6  3]\n"
     ]
    }
   ],
   "source": [
    "array = np.random.randint(0, 10, 15)\n",
    "print('The initial array:', array)\n",
    "array[(3 < array) & (array < 8)] *= -1\n",
    "print('\\nThe resulting array:', array)"
   ]
  },
  {
   "cell_type": "markdown",
   "id": "930ed8bb",
   "metadata": {},
   "source": [
    "#### 26. What is the output of the following script? (★☆☆)\n",
    "```python\n",
    "# Author: Jake VanderPlas\n",
    "\n",
    "print(sum(range(5),-1))\n",
    "from numpy import *\n",
    "print(sum(range(5),-1))\n",
    "```"
   ]
  },
  {
   "cell_type": "code",
   "execution_count": 445,
   "id": "f02eedba",
   "metadata": {},
   "outputs": [
    {
     "name": "stdout",
     "output_type": "stream",
     "text": [
      "10\n"
     ]
    }
   ],
   "source": [
    "print(np.sum(range(5), -1))"
   ]
  },
  {
   "cell_type": "markdown",
   "id": "177120e7",
   "metadata": {},
   "source": [
    "#### 27. Consider an integer vector Z, which of these expressions are legal? (★☆☆)\n",
    "```python\n",
    "Z**Z\n",
    "2 << Z >> 2\n",
    "Z <- Z\n",
    "1j*Z\n",
    "Z/1/1\n",
    "Z<Z>Z\n",
    "```"
   ]
  },
  {
   "cell_type": "code",
   "execution_count": null,
   "id": "86d6cbef",
   "metadata": {},
   "outputs": [
    {
     "name": "stdout",
     "output_type": "stream",
     "text": [
      "The array:\n",
      " [0 1 2 3 4]\n",
      "\n",
      "Z**Z\n",
      " [  1   1   4  27 256]\n",
      "\n",
      "2 << Z >> 2\n",
      " [0 1 2 4 8]\n",
      "\n",
      "Z <- Z\n",
      " [False False False False False]\n",
      "\n",
      "1j * Z\n",
      " [0.+0.j 0.+1.j 0.+2.j 0.+3.j 0.+4.j]\n",
      "\n",
      "Z/1/1\n",
      " [0. 1. 2. 3. 4.]\n"
     ]
    }
   ],
   "source": [
    "Z = np.arange(5)\n",
    "print('The array:\\n', Z)\n",
    "print('\\nZ**Z\\n', (Z**Z))\n",
    "print('\\n2 << Z >> 2\\n', (2 << Z >> 2))\n",
    "print('\\nZ <- Z\\n', (Z <- Z))\n",
    "print('\\n1j * Z\\n', (1j*Z))\n",
    "print('\\nZ/1/1\\n', (Z/1/1))\n",
    "#print('\\nZ<Z>Z\\n', (Z<Z>Z))"
   ]
  },
  {
   "cell_type": "markdown",
   "id": "a6eaf0e8",
   "metadata": {},
   "source": [
    "#### 28. What are the result of the following expressions? (★☆☆)\n",
    "```python\n",
    "np.array(0) / np.array(0)\n",
    "np.array(0) // np.array(0)\n",
    "np.array([np.nan]).astype(int).astype(float)\n",
    "```"
   ]
  },
  {
   "cell_type": "code",
   "execution_count": null,
   "id": "93684068",
   "metadata": {},
   "outputs": [
    {
     "name": "stdout",
     "output_type": "stream",
     "text": [
      "np.array(0) / np.array(0) = nan\n",
      "\n",
      "np.array(0) // np.array(0) = 0\n",
      "\n",
      "np.array([np.nan]).astype(int).astype(float) = [-2.14748365e+09]\n"
     ]
    },
    {
     "name": "stderr",
     "output_type": "stream",
     "text": [
      "C:\\Users\\user\\AppData\\Local\\Temp\\ipykernel_8932\\2212509283.py:1: RuntimeWarning: invalid value encountered in divide\n",
      "  print('np.array(0) / np.array(0) =', np.array(0) / np.array(0))\n",
      "C:\\Users\\user\\AppData\\Local\\Temp\\ipykernel_8932\\2212509283.py:3: RuntimeWarning: divide by zero encountered in floor_divide\n",
      "  print('\\nnp.array(0) // np.array(0) =', np.array(0) // np.array(0))\n",
      "C:\\Users\\user\\AppData\\Local\\Temp\\ipykernel_8932\\2212509283.py:5: RuntimeWarning: invalid value encountered in cast\n",
      "  print('\\nnp.array([np.nan]).astype(int).astype(float) =', np.array([np.nan]).astype(int).astype(float))\n"
     ]
    }
   ],
   "source": [
    "print('np.array(0) / np.array(0) =', np.array(0) / np.array(0))\n",
    "\n",
    "print('\\nnp.array(0) // np.array(0) =', np.array(0) // np.array(0))\n",
    "\n",
    "print('\\nnp.array([np.nan]).astype(int).astype(float) =', np.array([np.nan]).astype(int).astype(float))"
   ]
  },
  {
   "cell_type": "markdown",
   "id": "524b65f8",
   "metadata": {},
   "source": [
    "#### 29. How to round away from zero a float array ? (★☆☆)"
   ]
  },
  {
   "cell_type": "code",
   "execution_count": null,
   "id": "61fbb78e",
   "metadata": {},
   "outputs": [
    {
     "name": "stdout",
     "output_type": "stream",
     "text": [
      "The initial array:\n",
      " [-3.2  -2.45 -1.7  -0.95 -0.2   0.55  1.3   2.05  2.8   3.55]\n",
      "\n",
      "The resulting array:\n",
      " [-4. -3. -2. -1. -1.  1.  2.  3.  3.  4.]\n"
     ]
    }
   ],
   "source": [
    "array = np.arange(-3.2, 4, 0.75)\n",
    "print('The initial array:\\n', array)\n",
    "array = np.where(array > 0, np.ceil(array), np.floor(array))\n",
    "print('\\nThe resulting array:\\n', array)"
   ]
  },
  {
   "cell_type": "markdown",
   "id": "8dc40752",
   "metadata": {},
   "source": [
    "#### 30. How to find common values between two arrays? (★☆☆)"
   ]
  },
  {
   "cell_type": "code",
   "execution_count": null,
   "id": "54399cbe",
   "metadata": {},
   "outputs": [
    {
     "name": "stdout",
     "output_type": "stream",
     "text": [
      "The first array:\n",
      " [ 3  1 -4  4  1  3  1 -1  0 -1]\n",
      "\n",
      "The second array:\n",
      " [-4 -3  1 -5  2 -1 -3  3 -4 -1]\n",
      "\n",
      "The common values:\n",
      " [-4 -1  1  3]\n"
     ]
    }
   ],
   "source": [
    "array1 = np.random.randint(-5, 5, 10)\n",
    "array2 = np.random.randint(-5, 5, 10)\n",
    "print('The first array:\\n', array1)\n",
    "print('\\nThe second array:\\n', array2)\n",
    "print('\\nThe common values:\\n', np.intersect1d(array1, array2))"
   ]
  },
  {
   "cell_type": "markdown",
   "id": "b7f38e21",
   "metadata": {},
   "source": [
    "#### 31. How to ignore all numpy warnings (not recommended)? (★☆☆)"
   ]
  },
  {
   "cell_type": "code",
   "execution_count": null,
   "id": "2ca3289c",
   "metadata": {},
   "outputs": [
    {
     "name": "stdout",
     "output_type": "stream",
     "text": [
      "{'divide': 'warn', 'over': 'warn', 'under': 'ignore', 'invalid': 'warn'} \n",
      "\n",
      "{'divide': 'ignore', 'over': 'ignore', 'under': 'ignore', 'invalid': 'ignore'} \n",
      "\n",
      "nan\n",
      "{'divide': 'warn', 'over': 'warn', 'under': 'ignore', 'invalid': 'warn'}\n",
      "nan\n"
     ]
    },
    {
     "name": "stderr",
     "output_type": "stream",
     "text": [
      "C:\\Users\\user\\AppData\\Local\\Temp\\ipykernel_8932\\3434036659.py:7: RuntimeWarning: invalid value encountered in divide\n",
      "  print(np.array(0) / np.array(0))\n"
     ]
    }
   ],
   "source": [
    "print(np.geterr(), '\\n')\n",
    "settings = np.seterr(all='ignore') \n",
    "print(np.geterr(), '\\n')\n",
    "print(np.array(0) / np.array(0))\n",
    "np.seterr(**settings)\n",
    "print(np.geterr())\n",
    "print(np.array(0) / np.array(0))"
   ]
  },
  {
   "cell_type": "markdown",
   "id": "2d850aab",
   "metadata": {},
   "source": [
    "#### 32. Is the following expressions true? (★☆☆)\n",
    "```python\n",
    "np.sqrt(-1) == np.emath.sqrt(-1)\n",
    "```"
   ]
  },
  {
   "cell_type": "code",
   "execution_count": 446,
   "id": "5c83ffce",
   "metadata": {},
   "outputs": [
    {
     "name": "stdout",
     "output_type": "stream",
     "text": [
      "False\n"
     ]
    },
    {
     "name": "stderr",
     "output_type": "stream",
     "text": [
      "C:\\Users\\user\\AppData\\Local\\Temp\\ipykernel_8932\\2770867030.py:1: RuntimeWarning: invalid value encountered in sqrt\n",
      "  print(np.sqrt(-1) == np.emath.sqrt(-1))\n"
     ]
    }
   ],
   "source": [
    "print(np.sqrt(-1) == np.emath.sqrt(-1))"
   ]
  },
  {
   "cell_type": "markdown",
   "id": "5c4a556f",
   "metadata": {},
   "source": [
    "#### 33. How to get the dates of yesterday, today and tomorrow? (★☆☆)"
   ]
  },
  {
   "cell_type": "code",
   "execution_count": null,
   "id": "c3b683a0",
   "metadata": {},
   "outputs": [
    {
     "name": "stdout",
     "output_type": "stream",
     "text": [
      "Yesterday: 2023-10-24\n",
      "Today: 2023-10-25\n",
      "Tomorrow: 2023-10-26\n"
     ]
    }
   ],
   "source": [
    "today = np.datetime64('today')\n",
    "yesterday = today - np.timedelta64(1)\n",
    "tomorrow = today + np.timedelta64(1)\n",
    "\n",
    "print('Yesterday:', yesterday)\n",
    "print('Today:', today)\n",
    "print('Tomorrow:', tomorrow)"
   ]
  },
  {
   "cell_type": "markdown",
   "id": "453cdd64",
   "metadata": {},
   "source": [
    "#### 34. How to get all the dates corresponding to the month of July 2016? (★★☆)"
   ]
  },
  {
   "cell_type": "code",
   "execution_count": null,
   "id": "4ba4d37c",
   "metadata": {},
   "outputs": [
    {
     "name": "stdout",
     "output_type": "stream",
     "text": [
      "['2016-07-01' '2016-07-02' '2016-07-03' '2016-07-04' '2016-07-05'\n",
      " '2016-07-06' '2016-07-07' '2016-07-08' '2016-07-09' '2016-07-10'\n",
      " '2016-07-11' '2016-07-12' '2016-07-13' '2016-07-14' '2016-07-15'\n",
      " '2016-07-16' '2016-07-17' '2016-07-18' '2016-07-19' '2016-07-20'\n",
      " '2016-07-21' '2016-07-22' '2016-07-23' '2016-07-24' '2016-07-25'\n",
      " '2016-07-26' '2016-07-27' '2016-07-28' '2016-07-29' '2016-07-30'\n",
      " '2016-07-31']\n"
     ]
    }
   ],
   "source": [
    "july = np.arange('2016-07', '2016-08', dtype='datetime64[D]')\n",
    "print(july)"
   ]
  },
  {
   "cell_type": "markdown",
   "id": "52667b6e",
   "metadata": {},
   "source": [
    "#### 35. How to compute ((A+B)*(-A/2)) in place (without copy)? (★★☆)"
   ]
  },
  {
   "cell_type": "code",
   "execution_count": null,
   "id": "e6e7c030",
   "metadata": {},
   "outputs": [
    {
     "name": "stdout",
     "output_type": "stream",
     "text": [
      "A: [1. 3. 5.]\n",
      "\n",
      "B: [2. 4. 6.]\n",
      "\n",
      "add: [ 3.  7. 11.]\n",
      "\n",
      "negative: [-1. -3. -5.]\n",
      "\n",
      "divide: [-0.5 -1.5 -2.5]\n",
      "\n",
      "multiply: [ -1.5 -10.5 -27.5]\n"
     ]
    }
   ],
   "source": [
    "A = np.array([1, 3, 5], dtype=float)\n",
    "B = np.array([2, 4, 6], dtype=float)\n",
    "\n",
    "print('A:', A)\n",
    "print('\\nB:', B)\n",
    "\n",
    "np.add(A, B, out=B)\n",
    "print('\\nadd:', B)\n",
    "np.negative(A, out=A)\n",
    "print('\\nnegative:', A)\n",
    "np.divide(A, 2, out=A)\n",
    "print('\\ndivide:', A)\n",
    "np.multiply(B, A, out=A)\n",
    "print('\\nmultiply:', A)"
   ]
  },
  {
   "cell_type": "markdown",
   "id": "9a8f3738",
   "metadata": {},
   "source": [
    "#### 36. Extract the integer part of a random array of positive numbers using 4 different methods (★★☆)"
   ]
  },
  {
   "cell_type": "code",
   "execution_count": null,
   "id": "368a801a",
   "metadata": {},
   "outputs": [
    {
     "name": "stdout",
     "output_type": "stream",
     "text": [
      "The initial array:\n",
      " [6.40984014 0.58944717 2.03361379 5.96809852 8.47991443]\n",
      "\n",
      "The first method: [6. 0. 2. 5. 8.]\n",
      "\n",
      "The second method: [7. 1. 3. 6. 9.]\n",
      "\n",
      "The third method: [6. 0. 2. 5. 8.]\n",
      "\n",
      "The fourth method: [6. 0. 2. 5. 8.]\n"
     ]
    }
   ],
   "source": [
    "array = np.random.rand(5)*10\n",
    "print('The initial array:\\n', array)\n",
    "print('\\nThe first method:', array // 1)\n",
    "print('\\nThe second method:', np.ceil(array))\n",
    "print('\\nThe third method:', np.floor(array))\n",
    "print('\\nThe fourth method:', np.trunc(array))"
   ]
  },
  {
   "cell_type": "markdown",
   "id": "cab1eed1",
   "metadata": {},
   "source": [
    "#### 37. Create a 5x5 matrix with row values ranging from 0 to 4 (★★☆)"
   ]
  },
  {
   "cell_type": "code",
   "execution_count": 448,
   "id": "f1b579ba",
   "metadata": {},
   "outputs": [
    {
     "name": "stdout",
     "output_type": "stream",
     "text": [
      "[[0 1 2 3 4]\n",
      " [0 1 2 3 4]\n",
      " [0 1 2 3 4]\n",
      " [0 1 2 3 4]\n",
      " [0 1 2 3 4]]\n"
     ]
    }
   ],
   "source": [
    "array = np.tile(np.array(np.arange(5)), (5, 1))\n",
    "print(array)"
   ]
  },
  {
   "cell_type": "markdown",
   "id": "cd0ce6b1",
   "metadata": {},
   "source": [
    "#### 38. Consider a generator function that generates 10 integers and use it to build an array (★☆☆)"
   ]
  },
  {
   "cell_type": "code",
   "execution_count": null,
   "id": "aab193a6",
   "metadata": {},
   "outputs": [
    {
     "name": "stdout",
     "output_type": "stream",
     "text": [
      "[0 1 2 3 4 5 6 7 8 9]\n"
     ]
    }
   ],
   "source": [
    "def generator():\n",
    "    for i in range(10):\n",
    "        yield i\n",
    "\n",
    "array = np.fromiter(generator(), dtype=int)\n",
    "\n",
    "print(array)"
   ]
  },
  {
   "cell_type": "markdown",
   "id": "c4c942d1",
   "metadata": {},
   "source": [
    "#### 39. Create a vector of size 10 with values ranging from 0 to 1, both excluded (★★☆)"
   ]
  },
  {
   "cell_type": "code",
   "execution_count": 453,
   "id": "e42eaa4b",
   "metadata": {},
   "outputs": [
    {
     "name": "stdout",
     "output_type": "stream",
     "text": [
      "[0.09090909 0.18181818 0.27272727 0.36363636 0.45454545 0.54545455\n",
      " 0.63636364 0.72727273 0.81818182 0.90909091]\n"
     ]
    }
   ],
   "source": [
    "#array = np.random.rand(10)\n",
    "#array = np.arange(0, 1, 0.09)[1:11]\n",
    "array = np.linspace(0, 1, 11, endpoint=False)[1:]\n",
    "print(array)"
   ]
  },
  {
   "cell_type": "markdown",
   "id": "9b3cb8d2",
   "metadata": {},
   "source": [
    "#### 40. Create a random vector of size 10 and sort it (★★☆)"
   ]
  },
  {
   "cell_type": "code",
   "execution_count": null,
   "id": "37d2b341",
   "metadata": {},
   "outputs": [
    {
     "name": "stdout",
     "output_type": "stream",
     "text": [
      "[1.02096276 1.38430679 1.65529751 4.17383356 4.59162575 4.72878831\n",
      " 5.34914424 6.18259361 7.56826003 8.67398541]\n"
     ]
    }
   ],
   "source": [
    "array = np.random.random(10)*10\n",
    "array.sort()\n",
    "print(array)"
   ]
  },
  {
   "cell_type": "markdown",
   "id": "2facfddc",
   "metadata": {},
   "source": [
    "#### 41. How to sum a small array faster than np.sum? (★★☆)"
   ]
  },
  {
   "cell_type": "code",
   "execution_count": 455,
   "id": "4bb8864f",
   "metadata": {},
   "outputs": [
    {
     "name": "stdout",
     "output_type": "stream",
     "text": [
      "The array: [5 7 2 9 2]\n",
      "25\n"
     ]
    }
   ],
   "source": [
    "array = np.random.randint(0, 10, 5)\n",
    "print('The array:', array)\n",
    "print(np.add.reduce(array))"
   ]
  },
  {
   "cell_type": "markdown",
   "id": "539cd2a5",
   "metadata": {},
   "source": [
    "#### 42. Consider two random array A and B, check if they are equal (★★☆)"
   ]
  },
  {
   "cell_type": "code",
   "execution_count": 493,
   "id": "5246d7bf",
   "metadata": {},
   "outputs": [
    {
     "name": "stdout",
     "output_type": "stream",
     "text": [
      "A: [1 2 2]\n",
      "B: [1 2 2]\n",
      "True\n"
     ]
    }
   ],
   "source": [
    "A = np.random.randint(0, 3, 3)\n",
    "B = np.random.randint(0, 3, 3)\n",
    "print('A:', A)\n",
    "print('B:', B)\n",
    "print(np.array_equal(A,B))"
   ]
  },
  {
   "cell_type": "markdown",
   "id": "448f8274",
   "metadata": {},
   "source": [
    "#### 43. Make an array immutable (read-only) (★★☆)"
   ]
  },
  {
   "cell_type": "code",
   "execution_count": 495,
   "id": "7cf2b3dd",
   "metadata": {},
   "outputs": [
    {
     "name": "stdout",
     "output_type": "stream",
     "text": [
      "The initial array: [0 1 2 3 4]\n"
     ]
    }
   ],
   "source": [
    "array = np.arange(5)\n",
    "array.flags.writeable = False\n",
    "print('The initial array:', array)\n",
    "#array[2] = 9"
   ]
  },
  {
   "cell_type": "markdown",
   "id": "d7b7aaf3",
   "metadata": {},
   "source": [
    "#### 44. Consider a random 10x2 matrix representing cartesian coordinates, convert them to polar coordinates (★★☆)"
   ]
  },
  {
   "cell_type": "code",
   "execution_count": 517,
   "id": "e2337585",
   "metadata": {},
   "outputs": [
    {
     "name": "stdout",
     "output_type": "stream",
     "text": [
      "The cartesian coordinates:\n",
      " [[0.64799852 0.63646189]\n",
      " [0.02677825 0.70003133]\n",
      " [0.95210519 0.19733364]\n",
      " [0.49258635 0.9293064 ]\n",
      " [0.21877145 0.99699757]\n",
      " [0.22429707 0.50841382]\n",
      " [0.65370597 0.18646938]\n",
      " [0.19415511 0.15894454]\n",
      " [0.39194205 0.32834036]\n",
      " [0.42394349 0.72348075]]\n",
      "\n",
      "The polar coordinates:\n",
      "The radius:\n",
      " [0.9082873  0.70054331 0.97233988 1.051785   1.02071794 0.55569217\n",
      " 0.67978108 0.25091747 0.51129831 0.83854187]\n",
      "The angle:\n",
      " [0.77641672 1.53256204 0.2043668  1.08339242 1.35478951 1.1553094\n",
      " 0.27787002 0.68600823 0.69732554 1.04075124]\n"
     ]
    }
   ],
   "source": [
    "array = np.random.random((10, 2))\n",
    "\n",
    "x, y = array[:, 0], array[:, 1]\n",
    "\n",
    "radius = np.sqrt(x**2 + y**2)\n",
    "angle = np.arctan2(y, x)\n",
    "\n",
    "print('The cartesian coordinates:\\n', array)\n",
    "print('\\nThe polar coordinates:')\n",
    "print('The radius:\\n', radius)\n",
    "print('The angle:\\n', angle)"
   ]
  },
  {
   "cell_type": "markdown",
   "id": "a556027a",
   "metadata": {},
   "source": [
    "#### 45. Create random vector of size 10 and replace the maximum value by 0 (★★☆)"
   ]
  },
  {
   "cell_type": "code",
   "execution_count": 520,
   "id": "9e07cb87",
   "metadata": {},
   "outputs": [
    {
     "name": "stdout",
     "output_type": "stream",
     "text": [
      "The initial array:\n",
      " [3 0 5 9 0 3 1 7 6 5]\n",
      "\n",
      "The resulting array:\n",
      " [3 0 5 0 0 3 1 7 6 5]\n"
     ]
    }
   ],
   "source": [
    "array = np.random.randint(0, 10, 10)\n",
    "print('The initial array:\\n', array)\n",
    "array[array.argmax()] = 0\n",
    "print('\\nThe resulting array:\\n', array)"
   ]
  },
  {
   "cell_type": "markdown",
   "id": "004f3da1",
   "metadata": {},
   "source": [
    "#### 46. Create a structured array with `x` and `y` coordinates covering the [0,1]x[0,1] area (★★☆)"
   ]
  },
  {
   "cell_type": "code",
   "execution_count": 573,
   "id": "b3824741",
   "metadata": {},
   "outputs": [
    {
     "name": "stdout",
     "output_type": "stream",
     "text": [
      "The structured array:\n",
      "[(0.  , 0.  ) (0.25, 0.  ) (0.5 , 0.  ) (0.75, 0.  ) (1.  , 0.  )\n",
      " (0.  , 0.25) (0.25, 0.25) (0.5 , 0.25) (0.75, 0.25) (1.  , 0.25)\n",
      " (0.  , 0.5 ) (0.25, 0.5 ) (0.5 , 0.5 ) (0.75, 0.5 ) (1.  , 0.5 )\n",
      " (0.  , 0.75) (0.25, 0.75) (0.5 , 0.75) (0.75, 0.75) (1.  , 0.75)\n",
      " (0.  , 1.  ) (0.25, 1.  ) (0.5 , 1.  ) (0.75, 1.  ) (1.  , 1.  )]\n"
     ]
    }
   ],
   "source": [
    "x, y = np.meshgrid(np.linspace(0, 1, 5), np.linspace(0, 1, 5))\n",
    "\n",
    "array = np.ones((5*5), dtype=[('x', float), ('y', float)])\n",
    "\n",
    "array['x'] = x.flatten()\n",
    "array['y'] = y.flatten()\n",
    "\n",
    "print(\"The structured array:\")\n",
    "print(array)"
   ]
  },
  {
   "cell_type": "markdown",
   "id": "1c0adc0d",
   "metadata": {},
   "source": [
    "#### 47. Given two arrays, X and Y, construct the Cauchy matrix C (Cij =1/(xi - yj)) (★★☆)"
   ]
  },
  {
   "cell_type": "code",
   "execution_count": null,
   "id": "01b3bbb7",
   "metadata": {},
   "outputs": [
    {
     "name": "stdout",
     "output_type": "stream",
     "text": [
      "X: [1 2 3 4 5 6 7]\n",
      "\n",
      "Y: [ 5  6  7  8  9 10 11]\n",
      "\n",
      "The Cauchy matrix:\n",
      " [[-0.25       -0.2        -0.16666667 -0.14285714 -0.125      -0.11111111\n",
      "  -0.1       ]\n",
      " [-0.33333333 -0.25       -0.2        -0.16666667 -0.14285714 -0.125\n",
      "  -0.11111111]\n",
      " [-0.5        -0.33333333 -0.25       -0.2        -0.16666667 -0.14285714\n",
      "  -0.125     ]\n",
      " [-1.         -0.5        -0.33333333 -0.25       -0.2        -0.16666667\n",
      "  -0.14285714]\n",
      " [        inf -1.         -0.5        -0.33333333 -0.25       -0.2\n",
      "  -0.16666667]\n",
      " [ 1.                 inf -1.         -0.5        -0.33333333 -0.25\n",
      "  -0.2       ]\n",
      " [ 0.5         1.                 inf -1.         -0.5        -0.33333333\n",
      "  -0.25      ]]\n"
     ]
    },
    {
     "name": "stderr",
     "output_type": "stream",
     "text": [
      "C:\\Users\\user\\AppData\\Local\\Temp\\ipykernel_8932\\4057165680.py:7: RuntimeWarning: divide by zero encountered in divide\n",
      "  array = 1 / np.subtract.outer(X, Y)\n"
     ]
    }
   ],
   "source": [
    "X = np.arange(1, 8)\n",
    "Y = np.arange(5, 12)\n",
    "\n",
    "print('X:', X)\n",
    "print('\\nY:', Y)\n",
    "\n",
    "array = 1 / np.subtract.outer(X, Y)\n",
    "print('\\nThe Cauchy matrix:\\n', array)"
   ]
  },
  {
   "cell_type": "markdown",
   "id": "c8a2f65a",
   "metadata": {},
   "source": [
    "#### 48. Print the minimum and maximum representable value for each numpy scalar type (★★☆)"
   ]
  },
  {
   "cell_type": "code",
   "execution_count": null,
   "id": "35d844d6",
   "metadata": {},
   "outputs": [
    {
     "name": "stdout",
     "output_type": "stream",
     "text": [
      "The minimum representable value for int8: -128\n",
      "The maximum representable value for int8: 127\n",
      "\n",
      "The minimum representable value for int32: -2147483648\n",
      "The maximum representable value for int32: 2147483647\n",
      "\n",
      "The minimum representable value for int64: -9223372036854775808\n",
      "The maximum representable value for int64: 9223372036854775807\n",
      "\n",
      "The minimum representable value for uint8: 0\n",
      "The maximum representable value for uint8: 255\n",
      "\n",
      "The minimum representable value for uint16: 0\n",
      "The maximum representable value for uint16: 65535\n",
      "\n",
      "The minimum representable value for uint32: 0\n",
      "The maximum representable value for uint32: 4294967295\n",
      "\n",
      "The minimum representable value for uint64: 0\n",
      "The maximum representable value for uint64: 18446744073709551615\n",
      "\n",
      "The minimum representable value for float32: -3.4028235e+38\n",
      "The maximum representable value for float32: 3.4028235e+38\n",
      "\n",
      "The minimum representable value for float64: -1.7976931348623157e+308\n",
      "The maximum representable value for float64: 1.7976931348623157e+308\n",
      "\n"
     ]
    }
   ],
   "source": [
    "itypes = [np.int8, np.int32, np.int64, np.uint8, np.uint16, np.uint32, np.uint64]\n",
    "ftypes = [np.float32, np.float64]\n",
    "\n",
    "for type in itypes:\n",
    "    info = np.iinfo(type)\n",
    "    print(f'The minimum representable value for {type.__name__}:', info.min)\n",
    "    print(f'The maximum representable value for {type.__name__}:', info.max)\n",
    "    print()\n",
    "\n",
    "for type in ftypes:\n",
    "    info = np.finfo(type)\n",
    "    print(f'The minimum representable value for {type.__name__}:', info.min)\n",
    "    print(f'The maximum representable value for {type.__name__}:', info.max)\n",
    "    print()"
   ]
  },
  {
   "cell_type": "markdown",
   "id": "11727a69",
   "metadata": {},
   "source": [
    "#### 49. How to print all the values of an array? (★★☆)"
   ]
  },
  {
   "cell_type": "code",
   "execution_count": null,
   "id": "47e98473",
   "metadata": {},
   "outputs": [
    {
     "name": "stdout",
     "output_type": "stream",
     "text": [
      "[[0. 0. 0. 0. 0. 0. 0. 0. 0. 0. 0. 0. 0. 0. 0. 0. 0. 0. 0. 0. 0. 0. 0. 0.\n",
      "  0. 0. 0. 0. 0. 0. 0. 0. 0. 0. 0. 0. 0. 0. 0. 0. 0. 0. 0. 0. 0. 0. 0. 0.\n",
      "  0. 0. 0. 0. 0. 0. 0. 0. 0. 0. 0. 0. 0. 0. 0. 0. 0. 0. 0. 0. 0. 0. 0. 0.\n",
      "  0. 0. 0. 0. 0. 0. 0. 0. 0. 0. 0. 0. 0. 0. 0. 0. 0. 0. 0. 0. 0. 0. 0. 0.\n",
      "  0. 0. 0. 0.]\n",
      " [0. 0. 0. 0. 0. 0. 0. 0. 0. 0. 0. 0. 0. 0. 0. 0. 0. 0. 0. 0. 0. 0. 0. 0.\n",
      "  0. 0. 0. 0. 0. 0. 0. 0. 0. 0. 0. 0. 0. 0. 0. 0. 0. 0. 0. 0. 0. 0. 0. 0.\n",
      "  0. 0. 0. 0. 0. 0. 0. 0. 0. 0. 0. 0. 0. 0. 0. 0. 0. 0. 0. 0. 0. 0. 0. 0.\n",
      "  0. 0. 0. 0. 0. 0. 0. 0. 0. 0. 0. 0. 0. 0. 0. 0. 0. 0. 0. 0. 0. 0. 0. 0.\n",
      "  0. 0. 0. 0.]\n",
      " [0. 0. 0. 0. 0. 0. 0. 0. 0. 0. 0. 0. 0. 0. 0. 0. 0. 0. 0. 0. 0. 0. 0. 0.\n",
      "  0. 0. 0. 0. 0. 0. 0. 0. 0. 0. 0. 0. 0. 0. 0. 0. 0. 0. 0. 0. 0. 0. 0. 0.\n",
      "  0. 0. 0. 0. 0. 0. 0. 0. 0. 0. 0. 0. 0. 0. 0. 0. 0. 0. 0. 0. 0. 0. 0. 0.\n",
      "  0. 0. 0. 0. 0. 0. 0. 0. 0. 0. 0. 0. 0. 0. 0. 0. 0. 0. 0. 0. 0. 0. 0. 0.\n",
      "  0. 0. 0. 0.]\n",
      " [0. 0. 0. 0. 0. 0. 0. 0. 0. 0. 0. 0. 0. 0. 0. 0. 0. 0. 0. 0. 0. 0. 0. 0.\n",
      "  0. 0. 0. 0. 0. 0. 0. 0. 0. 0. 0. 0. 0. 0. 0. 0. 0. 0. 0. 0. 0. 0. 0. 0.\n",
      "  0. 0. 0. 0. 0. 0. 0. 0. 0. 0. 0. 0. 0. 0. 0. 0. 0. 0. 0. 0. 0. 0. 0. 0.\n",
      "  0. 0. 0. 0. 0. 0. 0. 0. 0. 0. 0. 0. 0. 0. 0. 0. 0. 0. 0. 0. 0. 0. 0. 0.\n",
      "  0. 0. 0. 0.]\n",
      " [0. 0. 0. 0. 0. 0. 0. 0. 0. 0. 0. 0. 0. 0. 0. 0. 0. 0. 0. 0. 0. 0. 0. 0.\n",
      "  0. 0. 0. 0. 0. 0. 0. 0. 0. 0. 0. 0. 0. 0. 0. 0. 0. 0. 0. 0. 0. 0. 0. 0.\n",
      "  0. 0. 0. 0. 0. 0. 0. 0. 0. 0. 0. 0. 0. 0. 0. 0. 0. 0. 0. 0. 0. 0. 0. 0.\n",
      "  0. 0. 0. 0. 0. 0. 0. 0. 0. 0. 0. 0. 0. 0. 0. 0. 0. 0. 0. 0. 0. 0. 0. 0.\n",
      "  0. 0. 0. 0.]\n",
      " [0. 0. 0. 0. 0. 0. 0. 0. 0. 0. 0. 0. 0. 0. 0. 0. 0. 0. 0. 0. 0. 0. 0. 0.\n",
      "  0. 0. 0. 0. 0. 0. 0. 0. 0. 0. 0. 0. 0. 0. 0. 0. 0. 0. 0. 0. 0. 0. 0. 0.\n",
      "  0. 0. 0. 0. 0. 0. 0. 0. 0. 0. 0. 0. 0. 0. 0. 0. 0. 0. 0. 0. 0. 0. 0. 0.\n",
      "  0. 0. 0. 0. 0. 0. 0. 0. 0. 0. 0. 0. 0. 0. 0. 0. 0. 0. 0. 0. 0. 0. 0. 0.\n",
      "  0. 0. 0. 0.]\n",
      " [0. 0. 0. 0. 0. 0. 0. 0. 0. 0. 0. 0. 0. 0. 0. 0. 0. 0. 0. 0. 0. 0. 0. 0.\n",
      "  0. 0. 0. 0. 0. 0. 0. 0. 0. 0. 0. 0. 0. 0. 0. 0. 0. 0. 0. 0. 0. 0. 0. 0.\n",
      "  0. 0. 0. 0. 0. 0. 0. 0. 0. 0. 0. 0. 0. 0. 0. 0. 0. 0. 0. 0. 0. 0. 0. 0.\n",
      "  0. 0. 0. 0. 0. 0. 0. 0. 0. 0. 0. 0. 0. 0. 0. 0. 0. 0. 0. 0. 0. 0. 0. 0.\n",
      "  0. 0. 0. 0.]\n",
      " [0. 0. 0. 0. 0. 0. 0. 0. 0. 0. 0. 0. 0. 0. 0. 0. 0. 0. 0. 0. 0. 0. 0. 0.\n",
      "  0. 0. 0. 0. 0. 0. 0. 0. 0. 0. 0. 0. 0. 0. 0. 0. 0. 0. 0. 0. 0. 0. 0. 0.\n",
      "  0. 0. 0. 0. 0. 0. 0. 0. 0. 0. 0. 0. 0. 0. 0. 0. 0. 0. 0. 0. 0. 0. 0. 0.\n",
      "  0. 0. 0. 0. 0. 0. 0. 0. 0. 0. 0. 0. 0. 0. 0. 0. 0. 0. 0. 0. 0. 0. 0. 0.\n",
      "  0. 0. 0. 0.]\n",
      " [0. 0. 0. 0. 0. 0. 0. 0. 0. 0. 0. 0. 0. 0. 0. 0. 0. 0. 0. 0. 0. 0. 0. 0.\n",
      "  0. 0. 0. 0. 0. 0. 0. 0. 0. 0. 0. 0. 0. 0. 0. 0. 0. 0. 0. 0. 0. 0. 0. 0.\n",
      "  0. 0. 0. 0. 0. 0. 0. 0. 0. 0. 0. 0. 0. 0. 0. 0. 0. 0. 0. 0. 0. 0. 0. 0.\n",
      "  0. 0. 0. 0. 0. 0. 0. 0. 0. 0. 0. 0. 0. 0. 0. 0. 0. 0. 0. 0. 0. 0. 0. 0.\n",
      "  0. 0. 0. 0.]\n",
      " [0. 0. 0. 0. 0. 0. 0. 0. 0. 0. 0. 0. 0. 0. 0. 0. 0. 0. 0. 0. 0. 0. 0. 0.\n",
      "  0. 0. 0. 0. 0. 0. 0. 0. 0. 0. 0. 0. 0. 0. 0. 0. 0. 0. 0. 0. 0. 0. 0. 0.\n",
      "  0. 0. 0. 0. 0. 0. 0. 0. 0. 0. 0. 0. 0. 0. 0. 0. 0. 0. 0. 0. 0. 0. 0. 0.\n",
      "  0. 0. 0. 0. 0. 0. 0. 0. 0. 0. 0. 0. 0. 0. 0. 0. 0. 0. 0. 0. 0. 0. 0. 0.\n",
      "  0. 0. 0. 0.]\n",
      " [0. 0. 0. 0. 0. 0. 0. 0. 0. 0. 0. 0. 0. 0. 0. 0. 0. 0. 0. 0. 0. 0. 0. 0.\n",
      "  0. 0. 0. 0. 0. 0. 0. 0. 0. 0. 0. 0. 0. 0. 0. 0. 0. 0. 0. 0. 0. 0. 0. 0.\n",
      "  0. 0. 0. 0. 0. 0. 0. 0. 0. 0. 0. 0. 0. 0. 0. 0. 0. 0. 0. 0. 0. 0. 0. 0.\n",
      "  0. 0. 0. 0. 0. 0. 0. 0. 0. 0. 0. 0. 0. 0. 0. 0. 0. 0. 0. 0. 0. 0. 0. 0.\n",
      "  0. 0. 0. 0.]\n",
      " [0. 0. 0. 0. 0. 0. 0. 0. 0. 0. 0. 0. 0. 0. 0. 0. 0. 0. 0. 0. 0. 0. 0. 0.\n",
      "  0. 0. 0. 0. 0. 0. 0. 0. 0. 0. 0. 0. 0. 0. 0. 0. 0. 0. 0. 0. 0. 0. 0. 0.\n",
      "  0. 0. 0. 0. 0. 0. 0. 0. 0. 0. 0. 0. 0. 0. 0. 0. 0. 0. 0. 0. 0. 0. 0. 0.\n",
      "  0. 0. 0. 0. 0. 0. 0. 0. 0. 0. 0. 0. 0. 0. 0. 0. 0. 0. 0. 0. 0. 0. 0. 0.\n",
      "  0. 0. 0. 0.]\n",
      " [0. 0. 0. 0. 0. 0. 0. 0. 0. 0. 0. 0. 0. 0. 0. 0. 0. 0. 0. 0. 0. 0. 0. 0.\n",
      "  0. 0. 0. 0. 0. 0. 0. 0. 0. 0. 0. 0. 0. 0. 0. 0. 0. 0. 0. 0. 0. 0. 0. 0.\n",
      "  0. 0. 0. 0. 0. 0. 0. 0. 0. 0. 0. 0. 0. 0. 0. 0. 0. 0. 0. 0. 0. 0. 0. 0.\n",
      "  0. 0. 0. 0. 0. 0. 0. 0. 0. 0. 0. 0. 0. 0. 0. 0. 0. 0. 0. 0. 0. 0. 0. 0.\n",
      "  0. 0. 0. 0.]\n",
      " [0. 0. 0. 0. 0. 0. 0. 0. 0. 0. 0. 0. 0. 0. 0. 0. 0. 0. 0. 0. 0. 0. 0. 0.\n",
      "  0. 0. 0. 0. 0. 0. 0. 0. 0. 0. 0. 0. 0. 0. 0. 0. 0. 0. 0. 0. 0. 0. 0. 0.\n",
      "  0. 0. 0. 0. 0. 0. 0. 0. 0. 0. 0. 0. 0. 0. 0. 0. 0. 0. 0. 0. 0. 0. 0. 0.\n",
      "  0. 0. 0. 0. 0. 0. 0. 0. 0. 0. 0. 0. 0. 0. 0. 0. 0. 0. 0. 0. 0. 0. 0. 0.\n",
      "  0. 0. 0. 0.]\n",
      " [0. 0. 0. 0. 0. 0. 0. 0. 0. 0. 0. 0. 0. 0. 0. 0. 0. 0. 0. 0. 0. 0. 0. 0.\n",
      "  0. 0. 0. 0. 0. 0. 0. 0. 0. 0. 0. 0. 0. 0. 0. 0. 0. 0. 0. 0. 0. 0. 0. 0.\n",
      "  0. 0. 0. 0. 0. 0. 0. 0. 0. 0. 0. 0. 0. 0. 0. 0. 0. 0. 0. 0. 0. 0. 0. 0.\n",
      "  0. 0. 0. 0. 0. 0. 0. 0. 0. 0. 0. 0. 0. 0. 0. 0. 0. 0. 0. 0. 0. 0. 0. 0.\n",
      "  0. 0. 0. 0.]\n",
      " [0. 0. 0. 0. 0. 0. 0. 0. 0. 0. 0. 0. 0. 0. 0. 0. 0. 0. 0. 0. 0. 0. 0. 0.\n",
      "  0. 0. 0. 0. 0. 0. 0. 0. 0. 0. 0. 0. 0. 0. 0. 0. 0. 0. 0. 0. 0. 0. 0. 0.\n",
      "  0. 0. 0. 0. 0. 0. 0. 0. 0. 0. 0. 0. 0. 0. 0. 0. 0. 0. 0. 0. 0. 0. 0. 0.\n",
      "  0. 0. 0. 0. 0. 0. 0. 0. 0. 0. 0. 0. 0. 0. 0. 0. 0. 0. 0. 0. 0. 0. 0. 0.\n",
      "  0. 0. 0. 0.]\n",
      " [0. 0. 0. 0. 0. 0. 0. 0. 0. 0. 0. 0. 0. 0. 0. 0. 0. 0. 0. 0. 0. 0. 0. 0.\n",
      "  0. 0. 0. 0. 0. 0. 0. 0. 0. 0. 0. 0. 0. 0. 0. 0. 0. 0. 0. 0. 0. 0. 0. 0.\n",
      "  0. 0. 0. 0. 0. 0. 0. 0. 0. 0. 0. 0. 0. 0. 0. 0. 0. 0. 0. 0. 0. 0. 0. 0.\n",
      "  0. 0. 0. 0. 0. 0. 0. 0. 0. 0. 0. 0. 0. 0. 0. 0. 0. 0. 0. 0. 0. 0. 0. 0.\n",
      "  0. 0. 0. 0.]\n",
      " [0. 0. 0. 0. 0. 0. 0. 0. 0. 0. 0. 0. 0. 0. 0. 0. 0. 0. 0. 0. 0. 0. 0. 0.\n",
      "  0. 0. 0. 0. 0. 0. 0. 0. 0. 0. 0. 0. 0. 0. 0. 0. 0. 0. 0. 0. 0. 0. 0. 0.\n",
      "  0. 0. 0. 0. 0. 0. 0. 0. 0. 0. 0. 0. 0. 0. 0. 0. 0. 0. 0. 0. 0. 0. 0. 0.\n",
      "  0. 0. 0. 0. 0. 0. 0. 0. 0. 0. 0. 0. 0. 0. 0. 0. 0. 0. 0. 0. 0. 0. 0. 0.\n",
      "  0. 0. 0. 0.]\n",
      " [0. 0. 0. 0. 0. 0. 0. 0. 0. 0. 0. 0. 0. 0. 0. 0. 0. 0. 0. 0. 0. 0. 0. 0.\n",
      "  0. 0. 0. 0. 0. 0. 0. 0. 0. 0. 0. 0. 0. 0. 0. 0. 0. 0. 0. 0. 0. 0. 0. 0.\n",
      "  0. 0. 0. 0. 0. 0. 0. 0. 0. 0. 0. 0. 0. 0. 0. 0. 0. 0. 0. 0. 0. 0. 0. 0.\n",
      "  0. 0. 0. 0. 0. 0. 0. 0. 0. 0. 0. 0. 0. 0. 0. 0. 0. 0. 0. 0. 0. 0. 0. 0.\n",
      "  0. 0. 0. 0.]\n",
      " [0. 0. 0. 0. 0. 0. 0. 0. 0. 0. 0. 0. 0. 0. 0. 0. 0. 0. 0. 0. 0. 0. 0. 0.\n",
      "  0. 0. 0. 0. 0. 0. 0. 0. 0. 0. 0. 0. 0. 0. 0. 0. 0. 0. 0. 0. 0. 0. 0. 0.\n",
      "  0. 0. 0. 0. 0. 0. 0. 0. 0. 0. 0. 0. 0. 0. 0. 0. 0. 0. 0. 0. 0. 0. 0. 0.\n",
      "  0. 0. 0. 0. 0. 0. 0. 0. 0. 0. 0. 0. 0. 0. 0. 0. 0. 0. 0. 0. 0. 0. 0. 0.\n",
      "  0. 0. 0. 0.]\n",
      " [0. 0. 0. 0. 0. 0. 0. 0. 0. 0. 0. 0. 0. 0. 0. 0. 0. 0. 0. 0. 0. 0. 0. 0.\n",
      "  0. 0. 0. 0. 0. 0. 0. 0. 0. 0. 0. 0. 0. 0. 0. 0. 0. 0. 0. 0. 0. 0. 0. 0.\n",
      "  0. 0. 0. 0. 0. 0. 0. 0. 0. 0. 0. 0. 0. 0. 0. 0. 0. 0. 0. 0. 0. 0. 0. 0.\n",
      "  0. 0. 0. 0. 0. 0. 0. 0. 0. 0. 0. 0. 0. 0. 0. 0. 0. 0. 0. 0. 0. 0. 0. 0.\n",
      "  0. 0. 0. 0.]\n",
      " [0. 0. 0. 0. 0. 0. 0. 0. 0. 0. 0. 0. 0. 0. 0. 0. 0. 0. 0. 0. 0. 0. 0. 0.\n",
      "  0. 0. 0. 0. 0. 0. 0. 0. 0. 0. 0. 0. 0. 0. 0. 0. 0. 0. 0. 0. 0. 0. 0. 0.\n",
      "  0. 0. 0. 0. 0. 0. 0. 0. 0. 0. 0. 0. 0. 0. 0. 0. 0. 0. 0. 0. 0. 0. 0. 0.\n",
      "  0. 0. 0. 0. 0. 0. 0. 0. 0. 0. 0. 0. 0. 0. 0. 0. 0. 0. 0. 0. 0. 0. 0. 0.\n",
      "  0. 0. 0. 0.]\n",
      " [0. 0. 0. 0. 0. 0. 0. 0. 0. 0. 0. 0. 0. 0. 0. 0. 0. 0. 0. 0. 0. 0. 0. 0.\n",
      "  0. 0. 0. 0. 0. 0. 0. 0. 0. 0. 0. 0. 0. 0. 0. 0. 0. 0. 0. 0. 0. 0. 0. 0.\n",
      "  0. 0. 0. 0. 0. 0. 0. 0. 0. 0. 0. 0. 0. 0. 0. 0. 0. 0. 0. 0. 0. 0. 0. 0.\n",
      "  0. 0. 0. 0. 0. 0. 0. 0. 0. 0. 0. 0. 0. 0. 0. 0. 0. 0. 0. 0. 0. 0. 0. 0.\n",
      "  0. 0. 0. 0.]\n",
      " [0. 0. 0. 0. 0. 0. 0. 0. 0. 0. 0. 0. 0. 0. 0. 0. 0. 0. 0. 0. 0. 0. 0. 0.\n",
      "  0. 0. 0. 0. 0. 0. 0. 0. 0. 0. 0. 0. 0. 0. 0. 0. 0. 0. 0. 0. 0. 0. 0. 0.\n",
      "  0. 0. 0. 0. 0. 0. 0. 0. 0. 0. 0. 0. 0. 0. 0. 0. 0. 0. 0. 0. 0. 0. 0. 0.\n",
      "  0. 0. 0. 0. 0. 0. 0. 0. 0. 0. 0. 0. 0. 0. 0. 0. 0. 0. 0. 0. 0. 0. 0. 0.\n",
      "  0. 0. 0. 0.]\n",
      " [0. 0. 0. 0. 0. 0. 0. 0. 0. 0. 0. 0. 0. 0. 0. 0. 0. 0. 0. 0. 0. 0. 0. 0.\n",
      "  0. 0. 0. 0. 0. 0. 0. 0. 0. 0. 0. 0. 0. 0. 0. 0. 0. 0. 0. 0. 0. 0. 0. 0.\n",
      "  0. 0. 0. 0. 0. 0. 0. 0. 0. 0. 0. 0. 0. 0. 0. 0. 0. 0. 0. 0. 0. 0. 0. 0.\n",
      "  0. 0. 0. 0. 0. 0. 0. 0. 0. 0. 0. 0. 0. 0. 0. 0. 0. 0. 0. 0. 0. 0. 0. 0.\n",
      "  0. 0. 0. 0.]\n",
      " [0. 0. 0. 0. 0. 0. 0. 0. 0. 0. 0. 0. 0. 0. 0. 0. 0. 0. 0. 0. 0. 0. 0. 0.\n",
      "  0. 0. 0. 0. 0. 0. 0. 0. 0. 0. 0. 0. 0. 0. 0. 0. 0. 0. 0. 0. 0. 0. 0. 0.\n",
      "  0. 0. 0. 0. 0. 0. 0. 0. 0. 0. 0. 0. 0. 0. 0. 0. 0. 0. 0. 0. 0. 0. 0. 0.\n",
      "  0. 0. 0. 0. 0. 0. 0. 0. 0. 0. 0. 0. 0. 0. 0. 0. 0. 0. 0. 0. 0. 0. 0. 0.\n",
      "  0. 0. 0. 0.]\n",
      " [0. 0. 0. 0. 0. 0. 0. 0. 0. 0. 0. 0. 0. 0. 0. 0. 0. 0. 0. 0. 0. 0. 0. 0.\n",
      "  0. 0. 0. 0. 0. 0. 0. 0. 0. 0. 0. 0. 0. 0. 0. 0. 0. 0. 0. 0. 0. 0. 0. 0.\n",
      "  0. 0. 0. 0. 0. 0. 0. 0. 0. 0. 0. 0. 0. 0. 0. 0. 0. 0. 0. 0. 0. 0. 0. 0.\n",
      "  0. 0. 0. 0. 0. 0. 0. 0. 0. 0. 0. 0. 0. 0. 0. 0. 0. 0. 0. 0. 0. 0. 0. 0.\n",
      "  0. 0. 0. 0.]\n",
      " [0. 0. 0. 0. 0. 0. 0. 0. 0. 0. 0. 0. 0. 0. 0. 0. 0. 0. 0. 0. 0. 0. 0. 0.\n",
      "  0. 0. 0. 0. 0. 0. 0. 0. 0. 0. 0. 0. 0. 0. 0. 0. 0. 0. 0. 0. 0. 0. 0. 0.\n",
      "  0. 0. 0. 0. 0. 0. 0. 0. 0. 0. 0. 0. 0. 0. 0. 0. 0. 0. 0. 0. 0. 0. 0. 0.\n",
      "  0. 0. 0. 0. 0. 0. 0. 0. 0. 0. 0. 0. 0. 0. 0. 0. 0. 0. 0. 0. 0. 0. 0. 0.\n",
      "  0. 0. 0. 0.]\n",
      " [0. 0. 0. 0. 0. 0. 0. 0. 0. 0. 0. 0. 0. 0. 0. 0. 0. 0. 0. 0. 0. 0. 0. 0.\n",
      "  0. 0. 0. 0. 0. 0. 0. 0. 0. 0. 0. 0. 0. 0. 0. 0. 0. 0. 0. 0. 0. 0. 0. 0.\n",
      "  0. 0. 0. 0. 0. 0. 0. 0. 0. 0. 0. 0. 0. 0. 0. 0. 0. 0. 0. 0. 0. 0. 0. 0.\n",
      "  0. 0. 0. 0. 0. 0. 0. 0. 0. 0. 0. 0. 0. 0. 0. 0. 0. 0. 0. 0. 0. 0. 0. 0.\n",
      "  0. 0. 0. 0.]\n",
      " [0. 0. 0. 0. 0. 0. 0. 0. 0. 0. 0. 0. 0. 0. 0. 0. 0. 0. 0. 0. 0. 0. 0. 0.\n",
      "  0. 0. 0. 0. 0. 0. 0. 0. 0. 0. 0. 0. 0. 0. 0. 0. 0. 0. 0. 0. 0. 0. 0. 0.\n",
      "  0. 0. 0. 0. 0. 0. 0. 0. 0. 0. 0. 0. 0. 0. 0. 0. 0. 0. 0. 0. 0. 0. 0. 0.\n",
      "  0. 0. 0. 0. 0. 0. 0. 0. 0. 0. 0. 0. 0. 0. 0. 0. 0. 0. 0. 0. 0. 0. 0. 0.\n",
      "  0. 0. 0. 0.]\n",
      " [0. 0. 0. 0. 0. 0. 0. 0. 0. 0. 0. 0. 0. 0. 0. 0. 0. 0. 0. 0. 0. 0. 0. 0.\n",
      "  0. 0. 0. 0. 0. 0. 0. 0. 0. 0. 0. 0. 0. 0. 0. 0. 0. 0. 0. 0. 0. 0. 0. 0.\n",
      "  0. 0. 0. 0. 0. 0. 0. 0. 0. 0. 0. 0. 0. 0. 0. 0. 0. 0. 0. 0. 0. 0. 0. 0.\n",
      "  0. 0. 0. 0. 0. 0. 0. 0. 0. 0. 0. 0. 0. 0. 0. 0. 0. 0. 0. 0. 0. 0. 0. 0.\n",
      "  0. 0. 0. 0.]\n",
      " [0. 0. 0. 0. 0. 0. 0. 0. 0. 0. 0. 0. 0. 0. 0. 0. 0. 0. 0. 0. 0. 0. 0. 0.\n",
      "  0. 0. 0. 0. 0. 0. 0. 0. 0. 0. 0. 0. 0. 0. 0. 0. 0. 0. 0. 0. 0. 0. 0. 0.\n",
      "  0. 0. 0. 0. 0. 0. 0. 0. 0. 0. 0. 0. 0. 0. 0. 0. 0. 0. 0. 0. 0. 0. 0. 0.\n",
      "  0. 0. 0. 0. 0. 0. 0. 0. 0. 0. 0. 0. 0. 0. 0. 0. 0. 0. 0. 0. 0. 0. 0. 0.\n",
      "  0. 0. 0. 0.]\n",
      " [0. 0. 0. 0. 0. 0. 0. 0. 0. 0. 0. 0. 0. 0. 0. 0. 0. 0. 0. 0. 0. 0. 0. 0.\n",
      "  0. 0. 0. 0. 0. 0. 0. 0. 0. 0. 0. 0. 0. 0. 0. 0. 0. 0. 0. 0. 0. 0. 0. 0.\n",
      "  0. 0. 0. 0. 0. 0. 0. 0. 0. 0. 0. 0. 0. 0. 0. 0. 0. 0. 0. 0. 0. 0. 0. 0.\n",
      "  0. 0. 0. 0. 0. 0. 0. 0. 0. 0. 0. 0. 0. 0. 0. 0. 0. 0. 0. 0. 0. 0. 0. 0.\n",
      "  0. 0. 0. 0.]\n",
      " [0. 0. 0. 0. 0. 0. 0. 0. 0. 0. 0. 0. 0. 0. 0. 0. 0. 0. 0. 0. 0. 0. 0. 0.\n",
      "  0. 0. 0. 0. 0. 0. 0. 0. 0. 0. 0. 0. 0. 0. 0. 0. 0. 0. 0. 0. 0. 0. 0. 0.\n",
      "  0. 0. 0. 0. 0. 0. 0. 0. 0. 0. 0. 0. 0. 0. 0. 0. 0. 0. 0. 0. 0. 0. 0. 0.\n",
      "  0. 0. 0. 0. 0. 0. 0. 0. 0. 0. 0. 0. 0. 0. 0. 0. 0. 0. 0. 0. 0. 0. 0. 0.\n",
      "  0. 0. 0. 0.]\n",
      " [0. 0. 0. 0. 0. 0. 0. 0. 0. 0. 0. 0. 0. 0. 0. 0. 0. 0. 0. 0. 0. 0. 0. 0.\n",
      "  0. 0. 0. 0. 0. 0. 0. 0. 0. 0. 0. 0. 0. 0. 0. 0. 0. 0. 0. 0. 0. 0. 0. 0.\n",
      "  0. 0. 0. 0. 0. 0. 0. 0. 0. 0. 0. 0. 0. 0. 0. 0. 0. 0. 0. 0. 0. 0. 0. 0.\n",
      "  0. 0. 0. 0. 0. 0. 0. 0. 0. 0. 0. 0. 0. 0. 0. 0. 0. 0. 0. 0. 0. 0. 0. 0.\n",
      "  0. 0. 0. 0.]\n",
      " [0. 0. 0. 0. 0. 0. 0. 0. 0. 0. 0. 0. 0. 0. 0. 0. 0. 0. 0. 0. 0. 0. 0. 0.\n",
      "  0. 0. 0. 0. 0. 0. 0. 0. 0. 0. 0. 0. 0. 0. 0. 0. 0. 0. 0. 0. 0. 0. 0. 0.\n",
      "  0. 0. 0. 0. 0. 0. 0. 0. 0. 0. 0. 0. 0. 0. 0. 0. 0. 0. 0. 0. 0. 0. 0. 0.\n",
      "  0. 0. 0. 0. 0. 0. 0. 0. 0. 0. 0. 0. 0. 0. 0. 0. 0. 0. 0. 0. 0. 0. 0. 0.\n",
      "  0. 0. 0. 0.]\n",
      " [0. 0. 0. 0. 0. 0. 0. 0. 0. 0. 0. 0. 0. 0. 0. 0. 0. 0. 0. 0. 0. 0. 0. 0.\n",
      "  0. 0. 0. 0. 0. 0. 0. 0. 0. 0. 0. 0. 0. 0. 0. 0. 0. 0. 0. 0. 0. 0. 0. 0.\n",
      "  0. 0. 0. 0. 0. 0. 0. 0. 0. 0. 0. 0. 0. 0. 0. 0. 0. 0. 0. 0. 0. 0. 0. 0.\n",
      "  0. 0. 0. 0. 0. 0. 0. 0. 0. 0. 0. 0. 0. 0. 0. 0. 0. 0. 0. 0. 0. 0. 0. 0.\n",
      "  0. 0. 0. 0.]\n",
      " [0. 0. 0. 0. 0. 0. 0. 0. 0. 0. 0. 0. 0. 0. 0. 0. 0. 0. 0. 0. 0. 0. 0. 0.\n",
      "  0. 0. 0. 0. 0. 0. 0. 0. 0. 0. 0. 0. 0. 0. 0. 0. 0. 0. 0. 0. 0. 0. 0. 0.\n",
      "  0. 0. 0. 0. 0. 0. 0. 0. 0. 0. 0. 0. 0. 0. 0. 0. 0. 0. 0. 0. 0. 0. 0. 0.\n",
      "  0. 0. 0. 0. 0. 0. 0. 0. 0. 0. 0. 0. 0. 0. 0. 0. 0. 0. 0. 0. 0. 0. 0. 0.\n",
      "  0. 0. 0. 0.]\n",
      " [0. 0. 0. 0. 0. 0. 0. 0. 0. 0. 0. 0. 0. 0. 0. 0. 0. 0. 0. 0. 0. 0. 0. 0.\n",
      "  0. 0. 0. 0. 0. 0. 0. 0. 0. 0. 0. 0. 0. 0. 0. 0. 0. 0. 0. 0. 0. 0. 0. 0.\n",
      "  0. 0. 0. 0. 0. 0. 0. 0. 0. 0. 0. 0. 0. 0. 0. 0. 0. 0. 0. 0. 0. 0. 0. 0.\n",
      "  0. 0. 0. 0. 0. 0. 0. 0. 0. 0. 0. 0. 0. 0. 0. 0. 0. 0. 0. 0. 0. 0. 0. 0.\n",
      "  0. 0. 0. 0.]\n",
      " [0. 0. 0. 0. 0. 0. 0. 0. 0. 0. 0. 0. 0. 0. 0. 0. 0. 0. 0. 0. 0. 0. 0. 0.\n",
      "  0. 0. 0. 0. 0. 0. 0. 0. 0. 0. 0. 0. 0. 0. 0. 0. 0. 0. 0. 0. 0. 0. 0. 0.\n",
      "  0. 0. 0. 0. 0. 0. 0. 0. 0. 0. 0. 0. 0. 0. 0. 0. 0. 0. 0. 0. 0. 0. 0. 0.\n",
      "  0. 0. 0. 0. 0. 0. 0. 0. 0. 0. 0. 0. 0. 0. 0. 0. 0. 0. 0. 0. 0. 0. 0. 0.\n",
      "  0. 0. 0. 0.]\n",
      " [0. 0. 0. 0. 0. 0. 0. 0. 0. 0. 0. 0. 0. 0. 0. 0. 0. 0. 0. 0. 0. 0. 0. 0.\n",
      "  0. 0. 0. 0. 0. 0. 0. 0. 0. 0. 0. 0. 0. 0. 0. 0. 0. 0. 0. 0. 0. 0. 0. 0.\n",
      "  0. 0. 0. 0. 0. 0. 0. 0. 0. 0. 0. 0. 0. 0. 0. 0. 0. 0. 0. 0. 0. 0. 0. 0.\n",
      "  0. 0. 0. 0. 0. 0. 0. 0. 0. 0. 0. 0. 0. 0. 0. 0. 0. 0. 0. 0. 0. 0. 0. 0.\n",
      "  0. 0. 0. 0.]\n",
      " [0. 0. 0. 0. 0. 0. 0. 0. 0. 0. 0. 0. 0. 0. 0. 0. 0. 0. 0. 0. 0. 0. 0. 0.\n",
      "  0. 0. 0. 0. 0. 0. 0. 0. 0. 0. 0. 0. 0. 0. 0. 0. 0. 0. 0. 0. 0. 0. 0. 0.\n",
      "  0. 0. 0. 0. 0. 0. 0. 0. 0. 0. 0. 0. 0. 0. 0. 0. 0. 0. 0. 0. 0. 0. 0. 0.\n",
      "  0. 0. 0. 0. 0. 0. 0. 0. 0. 0. 0. 0. 0. 0. 0. 0. 0. 0. 0. 0. 0. 0. 0. 0.\n",
      "  0. 0. 0. 0.]\n",
      " [0. 0. 0. 0. 0. 0. 0. 0. 0. 0. 0. 0. 0. 0. 0. 0. 0. 0. 0. 0. 0. 0. 0. 0.\n",
      "  0. 0. 0. 0. 0. 0. 0. 0. 0. 0. 0. 0. 0. 0. 0. 0. 0. 0. 0. 0. 0. 0. 0. 0.\n",
      "  0. 0. 0. 0. 0. 0. 0. 0. 0. 0. 0. 0. 0. 0. 0. 0. 0. 0. 0. 0. 0. 0. 0. 0.\n",
      "  0. 0. 0. 0. 0. 0. 0. 0. 0. 0. 0. 0. 0. 0. 0. 0. 0. 0. 0. 0. 0. 0. 0. 0.\n",
      "  0. 0. 0. 0.]\n",
      " [0. 0. 0. 0. 0. 0. 0. 0. 0. 0. 0. 0. 0. 0. 0. 0. 0. 0. 0. 0. 0. 0. 0. 0.\n",
      "  0. 0. 0. 0. 0. 0. 0. 0. 0. 0. 0. 0. 0. 0. 0. 0. 0. 0. 0. 0. 0. 0. 0. 0.\n",
      "  0. 0. 0. 0. 0. 0. 0. 0. 0. 0. 0. 0. 0. 0. 0. 0. 0. 0. 0. 0. 0. 0. 0. 0.\n",
      "  0. 0. 0. 0. 0. 0. 0. 0. 0. 0. 0. 0. 0. 0. 0. 0. 0. 0. 0. 0. 0. 0. 0. 0.\n",
      "  0. 0. 0. 0.]\n",
      " [0. 0. 0. 0. 0. 0. 0. 0. 0. 0. 0. 0. 0. 0. 0. 0. 0. 0. 0. 0. 0. 0. 0. 0.\n",
      "  0. 0. 0. 0. 0. 0. 0. 0. 0. 0. 0. 0. 0. 0. 0. 0. 0. 0. 0. 0. 0. 0. 0. 0.\n",
      "  0. 0. 0. 0. 0. 0. 0. 0. 0. 0. 0. 0. 0. 0. 0. 0. 0. 0. 0. 0. 0. 0. 0. 0.\n",
      "  0. 0. 0. 0. 0. 0. 0. 0. 0. 0. 0. 0. 0. 0. 0. 0. 0. 0. 0. 0. 0. 0. 0. 0.\n",
      "  0. 0. 0. 0.]\n",
      " [0. 0. 0. 0. 0. 0. 0. 0. 0. 0. 0. 0. 0. 0. 0. 0. 0. 0. 0. 0. 0. 0. 0. 0.\n",
      "  0. 0. 0. 0. 0. 0. 0. 0. 0. 0. 0. 0. 0. 0. 0. 0. 0. 0. 0. 0. 0. 0. 0. 0.\n",
      "  0. 0. 0. 0. 0. 0. 0. 0. 0. 0. 0. 0. 0. 0. 0. 0. 0. 0. 0. 0. 0. 0. 0. 0.\n",
      "  0. 0. 0. 0. 0. 0. 0. 0. 0. 0. 0. 0. 0. 0. 0. 0. 0. 0. 0. 0. 0. 0. 0. 0.\n",
      "  0. 0. 0. 0.]\n",
      " [0. 0. 0. 0. 0. 0. 0. 0. 0. 0. 0. 0. 0. 0. 0. 0. 0. 0. 0. 0. 0. 0. 0. 0.\n",
      "  0. 0. 0. 0. 0. 0. 0. 0. 0. 0. 0. 0. 0. 0. 0. 0. 0. 0. 0. 0. 0. 0. 0. 0.\n",
      "  0. 0. 0. 0. 0. 0. 0. 0. 0. 0. 0. 0. 0. 0. 0. 0. 0. 0. 0. 0. 0. 0. 0. 0.\n",
      "  0. 0. 0. 0. 0. 0. 0. 0. 0. 0. 0. 0. 0. 0. 0. 0. 0. 0. 0. 0. 0. 0. 0. 0.\n",
      "  0. 0. 0. 0.]\n",
      " [0. 0. 0. 0. 0. 0. 0. 0. 0. 0. 0. 0. 0. 0. 0. 0. 0. 0. 0. 0. 0. 0. 0. 0.\n",
      "  0. 0. 0. 0. 0. 0. 0. 0. 0. 0. 0. 0. 0. 0. 0. 0. 0. 0. 0. 0. 0. 0. 0. 0.\n",
      "  0. 0. 0. 0. 0. 0. 0. 0. 0. 0. 0. 0. 0. 0. 0. 0. 0. 0. 0. 0. 0. 0. 0. 0.\n",
      "  0. 0. 0. 0. 0. 0. 0. 0. 0. 0. 0. 0. 0. 0. 0. 0. 0. 0. 0. 0. 0. 0. 0. 0.\n",
      "  0. 0. 0. 0.]\n",
      " [0. 0. 0. 0. 0. 0. 0. 0. 0. 0. 0. 0. 0. 0. 0. 0. 0. 0. 0. 0. 0. 0. 0. 0.\n",
      "  0. 0. 0. 0. 0. 0. 0. 0. 0. 0. 0. 0. 0. 0. 0. 0. 0. 0. 0. 0. 0. 0. 0. 0.\n",
      "  0. 0. 0. 0. 0. 0. 0. 0. 0. 0. 0. 0. 0. 0. 0. 0. 0. 0. 0. 0. 0. 0. 0. 0.\n",
      "  0. 0. 0. 0. 0. 0. 0. 0. 0. 0. 0. 0. 0. 0. 0. 0. 0. 0. 0. 0. 0. 0. 0. 0.\n",
      "  0. 0. 0. 0.]\n",
      " [0. 0. 0. 0. 0. 0. 0. 0. 0. 0. 0. 0. 0. 0. 0. 0. 0. 0. 0. 0. 0. 0. 0. 0.\n",
      "  0. 0. 0. 0. 0. 0. 0. 0. 0. 0. 0. 0. 0. 0. 0. 0. 0. 0. 0. 0. 0. 0. 0. 0.\n",
      "  0. 0. 0. 0. 0. 0. 0. 0. 0. 0. 0. 0. 0. 0. 0. 0. 0. 0. 0. 0. 0. 0. 0. 0.\n",
      "  0. 0. 0. 0. 0. 0. 0. 0. 0. 0. 0. 0. 0. 0. 0. 0. 0. 0. 0. 0. 0. 0. 0. 0.\n",
      "  0. 0. 0. 0.]\n",
      " [0. 0. 0. 0. 0. 0. 0. 0. 0. 0. 0. 0. 0. 0. 0. 0. 0. 0. 0. 0. 0. 0. 0. 0.\n",
      "  0. 0. 0. 0. 0. 0. 0. 0. 0. 0. 0. 0. 0. 0. 0. 0. 0. 0. 0. 0. 0. 0. 0. 0.\n",
      "  0. 0. 0. 0. 0. 0. 0. 0. 0. 0. 0. 0. 0. 0. 0. 0. 0. 0. 0. 0. 0. 0. 0. 0.\n",
      "  0. 0. 0. 0. 0. 0. 0. 0. 0. 0. 0. 0. 0. 0. 0. 0. 0. 0. 0. 0. 0. 0. 0. 0.\n",
      "  0. 0. 0. 0.]\n",
      " [0. 0. 0. 0. 0. 0. 0. 0. 0. 0. 0. 0. 0. 0. 0. 0. 0. 0. 0. 0. 0. 0. 0. 0.\n",
      "  0. 0. 0. 0. 0. 0. 0. 0. 0. 0. 0. 0. 0. 0. 0. 0. 0. 0. 0. 0. 0. 0. 0. 0.\n",
      "  0. 0. 0. 0. 0. 0. 0. 0. 0. 0. 0. 0. 0. 0. 0. 0. 0. 0. 0. 0. 0. 0. 0. 0.\n",
      "  0. 0. 0. 0. 0. 0. 0. 0. 0. 0. 0. 0. 0. 0. 0. 0. 0. 0. 0. 0. 0. 0. 0. 0.\n",
      "  0. 0. 0. 0.]\n",
      " [0. 0. 0. 0. 0. 0. 0. 0. 0. 0. 0. 0. 0. 0. 0. 0. 0. 0. 0. 0. 0. 0. 0. 0.\n",
      "  0. 0. 0. 0. 0. 0. 0. 0. 0. 0. 0. 0. 0. 0. 0. 0. 0. 0. 0. 0. 0. 0. 0. 0.\n",
      "  0. 0. 0. 0. 0. 0. 0. 0. 0. 0. 0. 0. 0. 0. 0. 0. 0. 0. 0. 0. 0. 0. 0. 0.\n",
      "  0. 0. 0. 0. 0. 0. 0. 0. 0. 0. 0. 0. 0. 0. 0. 0. 0. 0. 0. 0. 0. 0. 0. 0.\n",
      "  0. 0. 0. 0.]\n",
      " [0. 0. 0. 0. 0. 0. 0. 0. 0. 0. 0. 0. 0. 0. 0. 0. 0. 0. 0. 0. 0. 0. 0. 0.\n",
      "  0. 0. 0. 0. 0. 0. 0. 0. 0. 0. 0. 0. 0. 0. 0. 0. 0. 0. 0. 0. 0. 0. 0. 0.\n",
      "  0. 0. 0. 0. 0. 0. 0. 0. 0. 0. 0. 0. 0. 0. 0. 0. 0. 0. 0. 0. 0. 0. 0. 0.\n",
      "  0. 0. 0. 0. 0. 0. 0. 0. 0. 0. 0. 0. 0. 0. 0. 0. 0. 0. 0. 0. 0. 0. 0. 0.\n",
      "  0. 0. 0. 0.]\n",
      " [0. 0. 0. 0. 0. 0. 0. 0. 0. 0. 0. 0. 0. 0. 0. 0. 0. 0. 0. 0. 0. 0. 0. 0.\n",
      "  0. 0. 0. 0. 0. 0. 0. 0. 0. 0. 0. 0. 0. 0. 0. 0. 0. 0. 0. 0. 0. 0. 0. 0.\n",
      "  0. 0. 0. 0. 0. 0. 0. 0. 0. 0. 0. 0. 0. 0. 0. 0. 0. 0. 0. 0. 0. 0. 0. 0.\n",
      "  0. 0. 0. 0. 0. 0. 0. 0. 0. 0. 0. 0. 0. 0. 0. 0. 0. 0. 0. 0. 0. 0. 0. 0.\n",
      "  0. 0. 0. 0.]\n",
      " [0. 0. 0. 0. 0. 0. 0. 0. 0. 0. 0. 0. 0. 0. 0. 0. 0. 0. 0. 0. 0. 0. 0. 0.\n",
      "  0. 0. 0. 0. 0. 0. 0. 0. 0. 0. 0. 0. 0. 0. 0. 0. 0. 0. 0. 0. 0. 0. 0. 0.\n",
      "  0. 0. 0. 0. 0. 0. 0. 0. 0. 0. 0. 0. 0. 0. 0. 0. 0. 0. 0. 0. 0. 0. 0. 0.\n",
      "  0. 0. 0. 0. 0. 0. 0. 0. 0. 0. 0. 0. 0. 0. 0. 0. 0. 0. 0. 0. 0. 0. 0. 0.\n",
      "  0. 0. 0. 0.]\n",
      " [0. 0. 0. 0. 0. 0. 0. 0. 0. 0. 0. 0. 0. 0. 0. 0. 0. 0. 0. 0. 0. 0. 0. 0.\n",
      "  0. 0. 0. 0. 0. 0. 0. 0. 0. 0. 0. 0. 0. 0. 0. 0. 0. 0. 0. 0. 0. 0. 0. 0.\n",
      "  0. 0. 0. 0. 0. 0. 0. 0. 0. 0. 0. 0. 0. 0. 0. 0. 0. 0. 0. 0. 0. 0. 0. 0.\n",
      "  0. 0. 0. 0. 0. 0. 0. 0. 0. 0. 0. 0. 0. 0. 0. 0. 0. 0. 0. 0. 0. 0. 0. 0.\n",
      "  0. 0. 0. 0.]\n",
      " [0. 0. 0. 0. 0. 0. 0. 0. 0. 0. 0. 0. 0. 0. 0. 0. 0. 0. 0. 0. 0. 0. 0. 0.\n",
      "  0. 0. 0. 0. 0. 0. 0. 0. 0. 0. 0. 0. 0. 0. 0. 0. 0. 0. 0. 0. 0. 0. 0. 0.\n",
      "  0. 0. 0. 0. 0. 0. 0. 0. 0. 0. 0. 0. 0. 0. 0. 0. 0. 0. 0. 0. 0. 0. 0. 0.\n",
      "  0. 0. 0. 0. 0. 0. 0. 0. 0. 0. 0. 0. 0. 0. 0. 0. 0. 0. 0. 0. 0. 0. 0. 0.\n",
      "  0. 0. 0. 0.]\n",
      " [0. 0. 0. 0. 0. 0. 0. 0. 0. 0. 0. 0. 0. 0. 0. 0. 0. 0. 0. 0. 0. 0. 0. 0.\n",
      "  0. 0. 0. 0. 0. 0. 0. 0. 0. 0. 0. 0. 0. 0. 0. 0. 0. 0. 0. 0. 0. 0. 0. 0.\n",
      "  0. 0. 0. 0. 0. 0. 0. 0. 0. 0. 0. 0. 0. 0. 0. 0. 0. 0. 0. 0. 0. 0. 0. 0.\n",
      "  0. 0. 0. 0. 0. 0. 0. 0. 0. 0. 0. 0. 0. 0. 0. 0. 0. 0. 0. 0. 0. 0. 0. 0.\n",
      "  0. 0. 0. 0.]\n",
      " [0. 0. 0. 0. 0. 0. 0. 0. 0. 0. 0. 0. 0. 0. 0. 0. 0. 0. 0. 0. 0. 0. 0. 0.\n",
      "  0. 0. 0. 0. 0. 0. 0. 0. 0. 0. 0. 0. 0. 0. 0. 0. 0. 0. 0. 0. 0. 0. 0. 0.\n",
      "  0. 0. 0. 0. 0. 0. 0. 0. 0. 0. 0. 0. 0. 0. 0. 0. 0. 0. 0. 0. 0. 0. 0. 0.\n",
      "  0. 0. 0. 0. 0. 0. 0. 0. 0. 0. 0. 0. 0. 0. 0. 0. 0. 0. 0. 0. 0. 0. 0. 0.\n",
      "  0. 0. 0. 0.]\n",
      " [0. 0. 0. 0. 0. 0. 0. 0. 0. 0. 0. 0. 0. 0. 0. 0. 0. 0. 0. 0. 0. 0. 0. 0.\n",
      "  0. 0. 0. 0. 0. 0. 0. 0. 0. 0. 0. 0. 0. 0. 0. 0. 0. 0. 0. 0. 0. 0. 0. 0.\n",
      "  0. 0. 0. 0. 0. 0. 0. 0. 0. 0. 0. 0. 0. 0. 0. 0. 0. 0. 0. 0. 0. 0. 0. 0.\n",
      "  0. 0. 0. 0. 0. 0. 0. 0. 0. 0. 0. 0. 0. 0. 0. 0. 0. 0. 0. 0. 0. 0. 0. 0.\n",
      "  0. 0. 0. 0.]\n",
      " [0. 0. 0. 0. 0. 0. 0. 0. 0. 0. 0. 0. 0. 0. 0. 0. 0. 0. 0. 0. 0. 0. 0. 0.\n",
      "  0. 0. 0. 0. 0. 0. 0. 0. 0. 0. 0. 0. 0. 0. 0. 0. 0. 0. 0. 0. 0. 0. 0. 0.\n",
      "  0. 0. 0. 0. 0. 0. 0. 0. 0. 0. 0. 0. 0. 0. 0. 0. 0. 0. 0. 0. 0. 0. 0. 0.\n",
      "  0. 0. 0. 0. 0. 0. 0. 0. 0. 0. 0. 0. 0. 0. 0. 0. 0. 0. 0. 0. 0. 0. 0. 0.\n",
      "  0. 0. 0. 0.]\n",
      " [0. 0. 0. 0. 0. 0. 0. 0. 0. 0. 0. 0. 0. 0. 0. 0. 0. 0. 0. 0. 0. 0. 0. 0.\n",
      "  0. 0. 0. 0. 0. 0. 0. 0. 0. 0. 0. 0. 0. 0. 0. 0. 0. 0. 0. 0. 0. 0. 0. 0.\n",
      "  0. 0. 0. 0. 0. 0. 0. 0. 0. 0. 0. 0. 0. 0. 0. 0. 0. 0. 0. 0. 0. 0. 0. 0.\n",
      "  0. 0. 0. 0. 0. 0. 0. 0. 0. 0. 0. 0. 0. 0. 0. 0. 0. 0. 0. 0. 0. 0. 0. 0.\n",
      "  0. 0. 0. 0.]\n",
      " [0. 0. 0. 0. 0. 0. 0. 0. 0. 0. 0. 0. 0. 0. 0. 0. 0. 0. 0. 0. 0. 0. 0. 0.\n",
      "  0. 0. 0. 0. 0. 0. 0. 0. 0. 0. 0. 0. 0. 0. 0. 0. 0. 0. 0. 0. 0. 0. 0. 0.\n",
      "  0. 0. 0. 0. 0. 0. 0. 0. 0. 0. 0. 0. 0. 0. 0. 0. 0. 0. 0. 0. 0. 0. 0. 0.\n",
      "  0. 0. 0. 0. 0. 0. 0. 0. 0. 0. 0. 0. 0. 0. 0. 0. 0. 0. 0. 0. 0. 0. 0. 0.\n",
      "  0. 0. 0. 0.]\n",
      " [0. 0. 0. 0. 0. 0. 0. 0. 0. 0. 0. 0. 0. 0. 0. 0. 0. 0. 0. 0. 0. 0. 0. 0.\n",
      "  0. 0. 0. 0. 0. 0. 0. 0. 0. 0. 0. 0. 0. 0. 0. 0. 0. 0. 0. 0. 0. 0. 0. 0.\n",
      "  0. 0. 0. 0. 0. 0. 0. 0. 0. 0. 0. 0. 0. 0. 0. 0. 0. 0. 0. 0. 0. 0. 0. 0.\n",
      "  0. 0. 0. 0. 0. 0. 0. 0. 0. 0. 0. 0. 0. 0. 0. 0. 0. 0. 0. 0. 0. 0. 0. 0.\n",
      "  0. 0. 0. 0.]\n",
      " [0. 0. 0. 0. 0. 0. 0. 0. 0. 0. 0. 0. 0. 0. 0. 0. 0. 0. 0. 0. 0. 0. 0. 0.\n",
      "  0. 0. 0. 0. 0. 0. 0. 0. 0. 0. 0. 0. 0. 0. 0. 0. 0. 0. 0. 0. 0. 0. 0. 0.\n",
      "  0. 0. 0. 0. 0. 0. 0. 0. 0. 0. 0. 0. 0. 0. 0. 0. 0. 0. 0. 0. 0. 0. 0. 0.\n",
      "  0. 0. 0. 0. 0. 0. 0. 0. 0. 0. 0. 0. 0. 0. 0. 0. 0. 0. 0. 0. 0. 0. 0. 0.\n",
      "  0. 0. 0. 0.]\n",
      " [0. 0. 0. 0. 0. 0. 0. 0. 0. 0. 0. 0. 0. 0. 0. 0. 0. 0. 0. 0. 0. 0. 0. 0.\n",
      "  0. 0. 0. 0. 0. 0. 0. 0. 0. 0. 0. 0. 0. 0. 0. 0. 0. 0. 0. 0. 0. 0. 0. 0.\n",
      "  0. 0. 0. 0. 0. 0. 0. 0. 0. 0. 0. 0. 0. 0. 0. 0. 0. 0. 0. 0. 0. 0. 0. 0.\n",
      "  0. 0. 0. 0. 0. 0. 0. 0. 0. 0. 0. 0. 0. 0. 0. 0. 0. 0. 0. 0. 0. 0. 0. 0.\n",
      "  0. 0. 0. 0.]\n",
      " [0. 0. 0. 0. 0. 0. 0. 0. 0. 0. 0. 0. 0. 0. 0. 0. 0. 0. 0. 0. 0. 0. 0. 0.\n",
      "  0. 0. 0. 0. 0. 0. 0. 0. 0. 0. 0. 0. 0. 0. 0. 0. 0. 0. 0. 0. 0. 0. 0. 0.\n",
      "  0. 0. 0. 0. 0. 0. 0. 0. 0. 0. 0. 0. 0. 0. 0. 0. 0. 0. 0. 0. 0. 0. 0. 0.\n",
      "  0. 0. 0. 0. 0. 0. 0. 0. 0. 0. 0. 0. 0. 0. 0. 0. 0. 0. 0. 0. 0. 0. 0. 0.\n",
      "  0. 0. 0. 0.]\n",
      " [0. 0. 0. 0. 0. 0. 0. 0. 0. 0. 0. 0. 0. 0. 0. 0. 0. 0. 0. 0. 0. 0. 0. 0.\n",
      "  0. 0. 0. 0. 0. 0. 0. 0. 0. 0. 0. 0. 0. 0. 0. 0. 0. 0. 0. 0. 0. 0. 0. 0.\n",
      "  0. 0. 0. 0. 0. 0. 0. 0. 0. 0. 0. 0. 0. 0. 0. 0. 0. 0. 0. 0. 0. 0. 0. 0.\n",
      "  0. 0. 0. 0. 0. 0. 0. 0. 0. 0. 0. 0. 0. 0. 0. 0. 0. 0. 0. 0. 0. 0. 0. 0.\n",
      "  0. 0. 0. 0.]\n",
      " [0. 0. 0. 0. 0. 0. 0. 0. 0. 0. 0. 0. 0. 0. 0. 0. 0. 0. 0. 0. 0. 0. 0. 0.\n",
      "  0. 0. 0. 0. 0. 0. 0. 0. 0. 0. 0. 0. 0. 0. 0. 0. 0. 0. 0. 0. 0. 0. 0. 0.\n",
      "  0. 0. 0. 0. 0. 0. 0. 0. 0. 0. 0. 0. 0. 0. 0. 0. 0. 0. 0. 0. 0. 0. 0. 0.\n",
      "  0. 0. 0. 0. 0. 0. 0. 0. 0. 0. 0. 0. 0. 0. 0. 0. 0. 0. 0. 0. 0. 0. 0. 0.\n",
      "  0. 0. 0. 0.]\n",
      " [0. 0. 0. 0. 0. 0. 0. 0. 0. 0. 0. 0. 0. 0. 0. 0. 0. 0. 0. 0. 0. 0. 0. 0.\n",
      "  0. 0. 0. 0. 0. 0. 0. 0. 0. 0. 0. 0. 0. 0. 0. 0. 0. 0. 0. 0. 0. 0. 0. 0.\n",
      "  0. 0. 0. 0. 0. 0. 0. 0. 0. 0. 0. 0. 0. 0. 0. 0. 0. 0. 0. 0. 0. 0. 0. 0.\n",
      "  0. 0. 0. 0. 0. 0. 0. 0. 0. 0. 0. 0. 0. 0. 0. 0. 0. 0. 0. 0. 0. 0. 0. 0.\n",
      "  0. 0. 0. 0.]\n",
      " [0. 0. 0. 0. 0. 0. 0. 0. 0. 0. 0. 0. 0. 0. 0. 0. 0. 0. 0. 0. 0. 0. 0. 0.\n",
      "  0. 0. 0. 0. 0. 0. 0. 0. 0. 0. 0. 0. 0. 0. 0. 0. 0. 0. 0. 0. 0. 0. 0. 0.\n",
      "  0. 0. 0. 0. 0. 0. 0. 0. 0. 0. 0. 0. 0. 0. 0. 0. 0. 0. 0. 0. 0. 0. 0. 0.\n",
      "  0. 0. 0. 0. 0. 0. 0. 0. 0. 0. 0. 0. 0. 0. 0. 0. 0. 0. 0. 0. 0. 0. 0. 0.\n",
      "  0. 0. 0. 0.]\n",
      " [0. 0. 0. 0. 0. 0. 0. 0. 0. 0. 0. 0. 0. 0. 0. 0. 0. 0. 0. 0. 0. 0. 0. 0.\n",
      "  0. 0. 0. 0. 0. 0. 0. 0. 0. 0. 0. 0. 0. 0. 0. 0. 0. 0. 0. 0. 0. 0. 0. 0.\n",
      "  0. 0. 0. 0. 0. 0. 0. 0. 0. 0. 0. 0. 0. 0. 0. 0. 0. 0. 0. 0. 0. 0. 0. 0.\n",
      "  0. 0. 0. 0. 0. 0. 0. 0. 0. 0. 0. 0. 0. 0. 0. 0. 0. 0. 0. 0. 0. 0. 0. 0.\n",
      "  0. 0. 0. 0.]\n",
      " [0. 0. 0. 0. 0. 0. 0. 0. 0. 0. 0. 0. 0. 0. 0. 0. 0. 0. 0. 0. 0. 0. 0. 0.\n",
      "  0. 0. 0. 0. 0. 0. 0. 0. 0. 0. 0. 0. 0. 0. 0. 0. 0. 0. 0. 0. 0. 0. 0. 0.\n",
      "  0. 0. 0. 0. 0. 0. 0. 0. 0. 0. 0. 0. 0. 0. 0. 0. 0. 0. 0. 0. 0. 0. 0. 0.\n",
      "  0. 0. 0. 0. 0. 0. 0. 0. 0. 0. 0. 0. 0. 0. 0. 0. 0. 0. 0. 0. 0. 0. 0. 0.\n",
      "  0. 0. 0. 0.]\n",
      " [0. 0. 0. 0. 0. 0. 0. 0. 0. 0. 0. 0. 0. 0. 0. 0. 0. 0. 0. 0. 0. 0. 0. 0.\n",
      "  0. 0. 0. 0. 0. 0. 0. 0. 0. 0. 0. 0. 0. 0. 0. 0. 0. 0. 0. 0. 0. 0. 0. 0.\n",
      "  0. 0. 0. 0. 0. 0. 0. 0. 0. 0. 0. 0. 0. 0. 0. 0. 0. 0. 0. 0. 0. 0. 0. 0.\n",
      "  0. 0. 0. 0. 0. 0. 0. 0. 0. 0. 0. 0. 0. 0. 0. 0. 0. 0. 0. 0. 0. 0. 0. 0.\n",
      "  0. 0. 0. 0.]\n",
      " [0. 0. 0. 0. 0. 0. 0. 0. 0. 0. 0. 0. 0. 0. 0. 0. 0. 0. 0. 0. 0. 0. 0. 0.\n",
      "  0. 0. 0. 0. 0. 0. 0. 0. 0. 0. 0. 0. 0. 0. 0. 0. 0. 0. 0. 0. 0. 0. 0. 0.\n",
      "  0. 0. 0. 0. 0. 0. 0. 0. 0. 0. 0. 0. 0. 0. 0. 0. 0. 0. 0. 0. 0. 0. 0. 0.\n",
      "  0. 0. 0. 0. 0. 0. 0. 0. 0. 0. 0. 0. 0. 0. 0. 0. 0. 0. 0. 0. 0. 0. 0. 0.\n",
      "  0. 0. 0. 0.]\n",
      " [0. 0. 0. 0. 0. 0. 0. 0. 0. 0. 0. 0. 0. 0. 0. 0. 0. 0. 0. 0. 0. 0. 0. 0.\n",
      "  0. 0. 0. 0. 0. 0. 0. 0. 0. 0. 0. 0. 0. 0. 0. 0. 0. 0. 0. 0. 0. 0. 0. 0.\n",
      "  0. 0. 0. 0. 0. 0. 0. 0. 0. 0. 0. 0. 0. 0. 0. 0. 0. 0. 0. 0. 0. 0. 0. 0.\n",
      "  0. 0. 0. 0. 0. 0. 0. 0. 0. 0. 0. 0. 0. 0. 0. 0. 0. 0. 0. 0. 0. 0. 0. 0.\n",
      "  0. 0. 0. 0.]\n",
      " [0. 0. 0. 0. 0. 0. 0. 0. 0. 0. 0. 0. 0. 0. 0. 0. 0. 0. 0. 0. 0. 0. 0. 0.\n",
      "  0. 0. 0. 0. 0. 0. 0. 0. 0. 0. 0. 0. 0. 0. 0. 0. 0. 0. 0. 0. 0. 0. 0. 0.\n",
      "  0. 0. 0. 0. 0. 0. 0. 0. 0. 0. 0. 0. 0. 0. 0. 0. 0. 0. 0. 0. 0. 0. 0. 0.\n",
      "  0. 0. 0. 0. 0. 0. 0. 0. 0. 0. 0. 0. 0. 0. 0. 0. 0. 0. 0. 0. 0. 0. 0. 0.\n",
      "  0. 0. 0. 0.]\n",
      " [0. 0. 0. 0. 0. 0. 0. 0. 0. 0. 0. 0. 0. 0. 0. 0. 0. 0. 0. 0. 0. 0. 0. 0.\n",
      "  0. 0. 0. 0. 0. 0. 0. 0. 0. 0. 0. 0. 0. 0. 0. 0. 0. 0. 0. 0. 0. 0. 0. 0.\n",
      "  0. 0. 0. 0. 0. 0. 0. 0. 0. 0. 0. 0. 0. 0. 0. 0. 0. 0. 0. 0. 0. 0. 0. 0.\n",
      "  0. 0. 0. 0. 0. 0. 0. 0. 0. 0. 0. 0. 0. 0. 0. 0. 0. 0. 0. 0. 0. 0. 0. 0.\n",
      "  0. 0. 0. 0.]\n",
      " [0. 0. 0. 0. 0. 0. 0. 0. 0. 0. 0. 0. 0. 0. 0. 0. 0. 0. 0. 0. 0. 0. 0. 0.\n",
      "  0. 0. 0. 0. 0. 0. 0. 0. 0. 0. 0. 0. 0. 0. 0. 0. 0. 0. 0. 0. 0. 0. 0. 0.\n",
      "  0. 0. 0. 0. 0. 0. 0. 0. 0. 0. 0. 0. 0. 0. 0. 0. 0. 0. 0. 0. 0. 0. 0. 0.\n",
      "  0. 0. 0. 0. 0. 0. 0. 0. 0. 0. 0. 0. 0. 0. 0. 0. 0. 0. 0. 0. 0. 0. 0. 0.\n",
      "  0. 0. 0. 0.]\n",
      " [0. 0. 0. 0. 0. 0. 0. 0. 0. 0. 0. 0. 0. 0. 0. 0. 0. 0. 0. 0. 0. 0. 0. 0.\n",
      "  0. 0. 0. 0. 0. 0. 0. 0. 0. 0. 0. 0. 0. 0. 0. 0. 0. 0. 0. 0. 0. 0. 0. 0.\n",
      "  0. 0. 0. 0. 0. 0. 0. 0. 0. 0. 0. 0. 0. 0. 0. 0. 0. 0. 0. 0. 0. 0. 0. 0.\n",
      "  0. 0. 0. 0. 0. 0. 0. 0. 0. 0. 0. 0. 0. 0. 0. 0. 0. 0. 0. 0. 0. 0. 0. 0.\n",
      "  0. 0. 0. 0.]\n",
      " [0. 0. 0. 0. 0. 0. 0. 0. 0. 0. 0. 0. 0. 0. 0. 0. 0. 0. 0. 0. 0. 0. 0. 0.\n",
      "  0. 0. 0. 0. 0. 0. 0. 0. 0. 0. 0. 0. 0. 0. 0. 0. 0. 0. 0. 0. 0. 0. 0. 0.\n",
      "  0. 0. 0. 0. 0. 0. 0. 0. 0. 0. 0. 0. 0. 0. 0. 0. 0. 0. 0. 0. 0. 0. 0. 0.\n",
      "  0. 0. 0. 0. 0. 0. 0. 0. 0. 0. 0. 0. 0. 0. 0. 0. 0. 0. 0. 0. 0. 0. 0. 0.\n",
      "  0. 0. 0. 0.]\n",
      " [0. 0. 0. 0. 0. 0. 0. 0. 0. 0. 0. 0. 0. 0. 0. 0. 0. 0. 0. 0. 0. 0. 0. 0.\n",
      "  0. 0. 0. 0. 0. 0. 0. 0. 0. 0. 0. 0. 0. 0. 0. 0. 0. 0. 0. 0. 0. 0. 0. 0.\n",
      "  0. 0. 0. 0. 0. 0. 0. 0. 0. 0. 0. 0. 0. 0. 0. 0. 0. 0. 0. 0. 0. 0. 0. 0.\n",
      "  0. 0. 0. 0. 0. 0. 0. 0. 0. 0. 0. 0. 0. 0. 0. 0. 0. 0. 0. 0. 0. 0. 0. 0.\n",
      "  0. 0. 0. 0.]\n",
      " [0. 0. 0. 0. 0. 0. 0. 0. 0. 0. 0. 0. 0. 0. 0. 0. 0. 0. 0. 0. 0. 0. 0. 0.\n",
      "  0. 0. 0. 0. 0. 0. 0. 0. 0. 0. 0. 0. 0. 0. 0. 0. 0. 0. 0. 0. 0. 0. 0. 0.\n",
      "  0. 0. 0. 0. 0. 0. 0. 0. 0. 0. 0. 0. 0. 0. 0. 0. 0. 0. 0. 0. 0. 0. 0. 0.\n",
      "  0. 0. 0. 0. 0. 0. 0. 0. 0. 0. 0. 0. 0. 0. 0. 0. 0. 0. 0. 0. 0. 0. 0. 0.\n",
      "  0. 0. 0. 0.]\n",
      " [0. 0. 0. 0. 0. 0. 0. 0. 0. 0. 0. 0. 0. 0. 0. 0. 0. 0. 0. 0. 0. 0. 0. 0.\n",
      "  0. 0. 0. 0. 0. 0. 0. 0. 0. 0. 0. 0. 0. 0. 0. 0. 0. 0. 0. 0. 0. 0. 0. 0.\n",
      "  0. 0. 0. 0. 0. 0. 0. 0. 0. 0. 0. 0. 0. 0. 0. 0. 0. 0. 0. 0. 0. 0. 0. 0.\n",
      "  0. 0. 0. 0. 0. 0. 0. 0. 0. 0. 0. 0. 0. 0. 0. 0. 0. 0. 0. 0. 0. 0. 0. 0.\n",
      "  0. 0. 0. 0.]\n",
      " [0. 0. 0. 0. 0. 0. 0. 0. 0. 0. 0. 0. 0. 0. 0. 0. 0. 0. 0. 0. 0. 0. 0. 0.\n",
      "  0. 0. 0. 0. 0. 0. 0. 0. 0. 0. 0. 0. 0. 0. 0. 0. 0. 0. 0. 0. 0. 0. 0. 0.\n",
      "  0. 0. 0. 0. 0. 0. 0. 0. 0. 0. 0. 0. 0. 0. 0. 0. 0. 0. 0. 0. 0. 0. 0. 0.\n",
      "  0. 0. 0. 0. 0. 0. 0. 0. 0. 0. 0. 0. 0. 0. 0. 0. 0. 0. 0. 0. 0. 0. 0. 0.\n",
      "  0. 0. 0. 0.]\n",
      " [0. 0. 0. 0. 0. 0. 0. 0. 0. 0. 0. 0. 0. 0. 0. 0. 0. 0. 0. 0. 0. 0. 0. 0.\n",
      "  0. 0. 0. 0. 0. 0. 0. 0. 0. 0. 0. 0. 0. 0. 0. 0. 0. 0. 0. 0. 0. 0. 0. 0.\n",
      "  0. 0. 0. 0. 0. 0. 0. 0. 0. 0. 0. 0. 0. 0. 0. 0. 0. 0. 0. 0. 0. 0. 0. 0.\n",
      "  0. 0. 0. 0. 0. 0. 0. 0. 0. 0. 0. 0. 0. 0. 0. 0. 0. 0. 0. 0. 0. 0. 0. 0.\n",
      "  0. 0. 0. 0.]\n",
      " [0. 0. 0. 0. 0. 0. 0. 0. 0. 0. 0. 0. 0. 0. 0. 0. 0. 0. 0. 0. 0. 0. 0. 0.\n",
      "  0. 0. 0. 0. 0. 0. 0. 0. 0. 0. 0. 0. 0. 0. 0. 0. 0. 0. 0. 0. 0. 0. 0. 0.\n",
      "  0. 0. 0. 0. 0. 0. 0. 0. 0. 0. 0. 0. 0. 0. 0. 0. 0. 0. 0. 0. 0. 0. 0. 0.\n",
      "  0. 0. 0. 0. 0. 0. 0. 0. 0. 0. 0. 0. 0. 0. 0. 0. 0. 0. 0. 0. 0. 0. 0. 0.\n",
      "  0. 0. 0. 0.]\n",
      " [0. 0. 0. 0. 0. 0. 0. 0. 0. 0. 0. 0. 0. 0. 0. 0. 0. 0. 0. 0. 0. 0. 0. 0.\n",
      "  0. 0. 0. 0. 0. 0. 0. 0. 0. 0. 0. 0. 0. 0. 0. 0. 0. 0. 0. 0. 0. 0. 0. 0.\n",
      "  0. 0. 0. 0. 0. 0. 0. 0. 0. 0. 0. 0. 0. 0. 0. 0. 0. 0. 0. 0. 0. 0. 0. 0.\n",
      "  0. 0. 0. 0. 0. 0. 0. 0. 0. 0. 0. 0. 0. 0. 0. 0. 0. 0. 0. 0. 0. 0. 0. 0.\n",
      "  0. 0. 0. 0.]\n",
      " [0. 0. 0. 0. 0. 0. 0. 0. 0. 0. 0. 0. 0. 0. 0. 0. 0. 0. 0. 0. 0. 0. 0. 0.\n",
      "  0. 0. 0. 0. 0. 0. 0. 0. 0. 0. 0. 0. 0. 0. 0. 0. 0. 0. 0. 0. 0. 0. 0. 0.\n",
      "  0. 0. 0. 0. 0. 0. 0. 0. 0. 0. 0. 0. 0. 0. 0. 0. 0. 0. 0. 0. 0. 0. 0. 0.\n",
      "  0. 0. 0. 0. 0. 0. 0. 0. 0. 0. 0. 0. 0. 0. 0. 0. 0. 0. 0. 0. 0. 0. 0. 0.\n",
      "  0. 0. 0. 0.]\n",
      " [0. 0. 0. 0. 0. 0. 0. 0. 0. 0. 0. 0. 0. 0. 0. 0. 0. 0. 0. 0. 0. 0. 0. 0.\n",
      "  0. 0. 0. 0. 0. 0. 0. 0. 0. 0. 0. 0. 0. 0. 0. 0. 0. 0. 0. 0. 0. 0. 0. 0.\n",
      "  0. 0. 0. 0. 0. 0. 0. 0. 0. 0. 0. 0. 0. 0. 0. 0. 0. 0. 0. 0. 0. 0. 0. 0.\n",
      "  0. 0. 0. 0. 0. 0. 0. 0. 0. 0. 0. 0. 0. 0. 0. 0. 0. 0. 0. 0. 0. 0. 0. 0.\n",
      "  0. 0. 0. 0.]\n",
      " [0. 0. 0. 0. 0. 0. 0. 0. 0. 0. 0. 0. 0. 0. 0. 0. 0. 0. 0. 0. 0. 0. 0. 0.\n",
      "  0. 0. 0. 0. 0. 0. 0. 0. 0. 0. 0. 0. 0. 0. 0. 0. 0. 0. 0. 0. 0. 0. 0. 0.\n",
      "  0. 0. 0. 0. 0. 0. 0. 0. 0. 0. 0. 0. 0. 0. 0. 0. 0. 0. 0. 0. 0. 0. 0. 0.\n",
      "  0. 0. 0. 0. 0. 0. 0. 0. 0. 0. 0. 0. 0. 0. 0. 0. 0. 0. 0. 0. 0. 0. 0. 0.\n",
      "  0. 0. 0. 0.]\n",
      " [0. 0. 0. 0. 0. 0. 0. 0. 0. 0. 0. 0. 0. 0. 0. 0. 0. 0. 0. 0. 0. 0. 0. 0.\n",
      "  0. 0. 0. 0. 0. 0. 0. 0. 0. 0. 0. 0. 0. 0. 0. 0. 0. 0. 0. 0. 0. 0. 0. 0.\n",
      "  0. 0. 0. 0. 0. 0. 0. 0. 0. 0. 0. 0. 0. 0. 0. 0. 0. 0. 0. 0. 0. 0. 0. 0.\n",
      "  0. 0. 0. 0. 0. 0. 0. 0. 0. 0. 0. 0. 0. 0. 0. 0. 0. 0. 0. 0. 0. 0. 0. 0.\n",
      "  0. 0. 0. 0.]\n",
      " [0. 0. 0. 0. 0. 0. 0. 0. 0. 0. 0. 0. 0. 0. 0. 0. 0. 0. 0. 0. 0. 0. 0. 0.\n",
      "  0. 0. 0. 0. 0. 0. 0. 0. 0. 0. 0. 0. 0. 0. 0. 0. 0. 0. 0. 0. 0. 0. 0. 0.\n",
      "  0. 0. 0. 0. 0. 0. 0. 0. 0. 0. 0. 0. 0. 0. 0. 0. 0. 0. 0. 0. 0. 0. 0. 0.\n",
      "  0. 0. 0. 0. 0. 0. 0. 0. 0. 0. 0. 0. 0. 0. 0. 0. 0. 0. 0. 0. 0. 0. 0. 0.\n",
      "  0. 0. 0. 0.]\n",
      " [0. 0. 0. 0. 0. 0. 0. 0. 0. 0. 0. 0. 0. 0. 0. 0. 0. 0. 0. 0. 0. 0. 0. 0.\n",
      "  0. 0. 0. 0. 0. 0. 0. 0. 0. 0. 0. 0. 0. 0. 0. 0. 0. 0. 0. 0. 0. 0. 0. 0.\n",
      "  0. 0. 0. 0. 0. 0. 0. 0. 0. 0. 0. 0. 0. 0. 0. 0. 0. 0. 0. 0. 0. 0. 0. 0.\n",
      "  0. 0. 0. 0. 0. 0. 0. 0. 0. 0. 0. 0. 0. 0. 0. 0. 0. 0. 0. 0. 0. 0. 0. 0.\n",
      "  0. 0. 0. 0.]\n",
      " [0. 0. 0. 0. 0. 0. 0. 0. 0. 0. 0. 0. 0. 0. 0. 0. 0. 0. 0. 0. 0. 0. 0. 0.\n",
      "  0. 0. 0. 0. 0. 0. 0. 0. 0. 0. 0. 0. 0. 0. 0. 0. 0. 0. 0. 0. 0. 0. 0. 0.\n",
      "  0. 0. 0. 0. 0. 0. 0. 0. 0. 0. 0. 0. 0. 0. 0. 0. 0. 0. 0. 0. 0. 0. 0. 0.\n",
      "  0. 0. 0. 0. 0. 0. 0. 0. 0. 0. 0. 0. 0. 0. 0. 0. 0. 0. 0. 0. 0. 0. 0. 0.\n",
      "  0. 0. 0. 0.]\n",
      " [0. 0. 0. 0. 0. 0. 0. 0. 0. 0. 0. 0. 0. 0. 0. 0. 0. 0. 0. 0. 0. 0. 0. 0.\n",
      "  0. 0. 0. 0. 0. 0. 0. 0. 0. 0. 0. 0. 0. 0. 0. 0. 0. 0. 0. 0. 0. 0. 0. 0.\n",
      "  0. 0. 0. 0. 0. 0. 0. 0. 0. 0. 0. 0. 0. 0. 0. 0. 0. 0. 0. 0. 0. 0. 0. 0.\n",
      "  0. 0. 0. 0. 0. 0. 0. 0. 0. 0. 0. 0. 0. 0. 0. 0. 0. 0. 0. 0. 0. 0. 0. 0.\n",
      "  0. 0. 0. 0.]\n",
      " [0. 0. 0. 0. 0. 0. 0. 0. 0. 0. 0. 0. 0. 0. 0. 0. 0. 0. 0. 0. 0. 0. 0. 0.\n",
      "  0. 0. 0. 0. 0. 0. 0. 0. 0. 0. 0. 0. 0. 0. 0. 0. 0. 0. 0. 0. 0. 0. 0. 0.\n",
      "  0. 0. 0. 0. 0. 0. 0. 0. 0. 0. 0. 0. 0. 0. 0. 0. 0. 0. 0. 0. 0. 0. 0. 0.\n",
      "  0. 0. 0. 0. 0. 0. 0. 0. 0. 0. 0. 0. 0. 0. 0. 0. 0. 0. 0. 0. 0. 0. 0. 0.\n",
      "  0. 0. 0. 0.]\n",
      " [0. 0. 0. 0. 0. 0. 0. 0. 0. 0. 0. 0. 0. 0. 0. 0. 0. 0. 0. 0. 0. 0. 0. 0.\n",
      "  0. 0. 0. 0. 0. 0. 0. 0. 0. 0. 0. 0. 0. 0. 0. 0. 0. 0. 0. 0. 0. 0. 0. 0.\n",
      "  0. 0. 0. 0. 0. 0. 0. 0. 0. 0. 0. 0. 0. 0. 0. 0. 0. 0. 0. 0. 0. 0. 0. 0.\n",
      "  0. 0. 0. 0. 0. 0. 0. 0. 0. 0. 0. 0. 0. 0. 0. 0. 0. 0. 0. 0. 0. 0. 0. 0.\n",
      "  0. 0. 0. 0.]\n",
      " [0. 0. 0. 0. 0. 0. 0. 0. 0. 0. 0. 0. 0. 0. 0. 0. 0. 0. 0. 0. 0. 0. 0. 0.\n",
      "  0. 0. 0. 0. 0. 0. 0. 0. 0. 0. 0. 0. 0. 0. 0. 0. 0. 0. 0. 0. 0. 0. 0. 0.\n",
      "  0. 0. 0. 0. 0. 0. 0. 0. 0. 0. 0. 0. 0. 0. 0. 0. 0. 0. 0. 0. 0. 0. 0. 0.\n",
      "  0. 0. 0. 0. 0. 0. 0. 0. 0. 0. 0. 0. 0. 0. 0. 0. 0. 0. 0. 0. 0. 0. 0. 0.\n",
      "  0. 0. 0. 0.]]\n"
     ]
    }
   ],
   "source": [
    "np.set_printoptions(threshold=float(\"inf\"))\n",
    "array = np.zeros((100,100))\n",
    "print(array)"
   ]
  },
  {
   "cell_type": "markdown",
   "id": "e0e7d741",
   "metadata": {},
   "source": [
    "#### 50. How to find the closest value (to a given scalar) in a vector? (★★☆)"
   ]
  },
  {
   "cell_type": "code",
   "execution_count": 523,
   "id": "62cabf6f",
   "metadata": {},
   "outputs": [
    {
     "name": "stdout",
     "output_type": "stream",
     "text": [
      "The array: [ 1  4  7 10 13 16 19]\n",
      "\n",
      "The scalar: 12\n",
      "\n",
      "The closest value: 13\n"
     ]
    }
   ],
   "source": [
    "array = np.arange(1, 20, 3)\n",
    "scalar = 12\n",
    "\n",
    "print('The array:', array)\n",
    "print('\\nThe scalar:', scalar)\n",
    "\n",
    "element = np.abs(array - scalar).argmin()\n",
    "print('\\nThe closest value:', array[element])"
   ]
  },
  {
   "cell_type": "markdown",
   "id": "c5611b9e",
   "metadata": {},
   "source": [
    "#### 51. Create a structured array representing a position (x,y) and a color (r,g,b) (★★☆)"
   ]
  },
  {
   "cell_type": "code",
   "execution_count": null,
   "id": "f622939d",
   "metadata": {},
   "outputs": [
    {
     "name": "stdout",
     "output_type": "stream",
     "text": [
      "[((1, 1), (1, 1, 1)) ((1, 1), (1, 1, 1)) ((1, 1), (1, 1, 1))]\n"
     ]
    }
   ],
   "source": [
    "dtype = np.dtype([\n",
    "                ('position', [('x', int), ('y', int)]), \n",
    "                ('color', [('r', int), ('g', int), ('b', int)])\n",
    "                ])\n",
    "\n",
    "array = np.ones(3, dtype=dtype)\n",
    "print(array)"
   ]
  },
  {
   "cell_type": "markdown",
   "id": "d22b8574",
   "metadata": {},
   "source": [
    "#### 52. Consider a random vector with shape (100,2) representing coordinates, find point by point distances (★★☆)"
   ]
  },
  {
   "cell_type": "code",
   "execution_count": 529,
   "id": "d5c9cdf8",
   "metadata": {},
   "outputs": [
    {
     "name": "stdout",
     "output_type": "stream",
     "text": [
      "The array:\n",
      " [[4 2]\n",
      " [1 3]\n",
      " [1 2]\n",
      " [1 3]]\n",
      "\n",
      "The point by point distances:\n",
      " [[0.         3.16227766 3.         3.16227766]\n",
      " [3.16227766 0.         1.         0.        ]\n",
      " [3.         1.         0.         1.        ]\n",
      " [3.16227766 0.         1.         0.        ]]\n"
     ]
    }
   ],
   "source": [
    "array = np.random.randint(1, 5, (4, 2))\n",
    "print('The array:\\n', array)\n",
    "\n",
    "distances = np.linalg.norm(array[:, np.newaxis] - array, axis=2)\n",
    "print('\\nThe point by point distances:\\n', distances)"
   ]
  },
  {
   "cell_type": "markdown",
   "id": "f5c164f2",
   "metadata": {},
   "source": [
    "#### 53. How to convert a float (32 bits) array into an integer (32 bits) in place?"
   ]
  },
  {
   "cell_type": "code",
   "execution_count": null,
   "id": "ea262de8",
   "metadata": {},
   "outputs": [
    {
     "name": "stdout",
     "output_type": "stream",
     "text": [
      "The float32 array:\n",
      " [3.2979841  6.4600616  8.918187   4.963874   3.0606759  1.2971591\n",
      " 0.05631098 3.0632355  6.387721   6.8278623 ]\n",
      "\n",
      "The int32 array:\n",
      " [3 6 8 4 3 1 0 3 6 6]\n"
     ]
    }
   ],
   "source": [
    "array = np.random.random(10).astype(np.float32)*10\n",
    "print(f'The {array.dtype} array:\\n', array)\n",
    "array = array.astype(np.int32)\n",
    "print(f'\\nThe {array.dtype} array:\\n', array)"
   ]
  },
  {
   "cell_type": "markdown",
   "id": "a8b7e6f5",
   "metadata": {},
   "source": [
    "#### 54. How to read the following file? (★★☆)\n",
    "```\n",
    "1, 2, 3, 4, 5\n",
    "6,  ,  , 7, 8\n",
    " ,  , 9,10,11\n",
    "```"
   ]
  },
  {
   "cell_type": "code",
   "execution_count": null,
   "id": "bde0538a",
   "metadata": {},
   "outputs": [
    {
     "name": "stdout",
     "output_type": "stream",
     "text": [
      "[[ 1  2  3  4  5]\n",
      " [ 6  0  0  7  8]\n",
      " [ 0  0  9 10 11]]\n"
     ]
    }
   ],
   "source": [
    "file = '54.txt'\n",
    "\n",
    "array = np.genfromtxt(file, delimiter=\",\", dtype=np.int32, filling_values=0)\n",
    "print(array)"
   ]
  },
  {
   "cell_type": "markdown",
   "id": "c6b32834",
   "metadata": {},
   "source": [
    "#### 55. What is the equivalent of enumerate for numpy arrays? (★★☆)"
   ]
  },
  {
   "cell_type": "code",
   "execution_count": null,
   "id": "ab02472a",
   "metadata": {},
   "outputs": [
    {
     "name": "stdout",
     "output_type": "stream",
     "text": [
      "Index: (0, 0)\tValue: 2\n",
      "Index: (0, 1)\tValue: 3\n",
      "Index: (1, 0)\tValue: 4\n",
      "Index: (1, 1)\tValue: 5\n"
     ]
    }
   ],
   "source": [
    "array = np.arange(2, 6).reshape(2,2)\n",
    "\n",
    "for index, value in np.ndenumerate(array):\n",
    "    print(f'Index: {index}\\tValue: {value}')"
   ]
  },
  {
   "cell_type": "markdown",
   "id": "a2121a05",
   "metadata": {},
   "source": [
    "#### 56. Generate a generic 2D Gaussian-like array (★★☆)"
   ]
  },
  {
   "cell_type": "code",
   "execution_count": 534,
   "id": "18507102",
   "metadata": {},
   "outputs": [
    {
     "name": "stdout",
     "output_type": "stream",
     "text": [
      "X:\n",
      " [[-1.  0.  1.]\n",
      " [-1.  0.  1.]\n",
      " [-1.  0.  1.]]\n",
      "\n",
      "Y:\n",
      " [[-1. -1. -1.]\n",
      " [ 0.  0.  0.]\n",
      " [ 1.  1.  1.]]\n",
      "\n",
      "The result:\n",
      " [[0.36787944 0.60653066 0.36787944]\n",
      " [0.60653066 1.         0.60653066]\n",
      " [0.36787944 0.60653066 0.36787944]]\n"
     ]
    }
   ],
   "source": [
    "X, Y = np.meshgrid(np.linspace(-1,1,3), np.linspace(-1,1,3))\n",
    "print('X:\\n', X)\n",
    "print('\\nY:\\n', Y)\n",
    "\n",
    "distances = np.sqrt(X*X+Y*Y)\n",
    "sigma, mu = 1.0, 0.0\n",
    "gaussian_function = np.exp(-( (distances-mu)**2 / ( 2.0 * sigma**2 ) ) )\n",
    "\n",
    "print('\\nThe result:\\n',gaussian_function)"
   ]
  },
  {
   "cell_type": "markdown",
   "id": "97055efa",
   "metadata": {},
   "source": [
    "#### 57. How to randomly place p elements in a 2D array? (★★☆)"
   ]
  },
  {
   "cell_type": "code",
   "execution_count": null,
   "id": "292e842f",
   "metadata": {},
   "outputs": [
    {
     "name": "stdout",
     "output_type": "stream",
     "text": [
      "The initial array:\n",
      " [[0. 0. 0. 0. 0.]\n",
      " [0. 0. 0. 0. 0.]\n",
      " [0. 0. 0. 0. 0.]\n",
      " [0. 0. 0. 0. 0.]\n",
      " [0. 0. 0. 0. 0.]]\n",
      "\n",
      "The indices:\n",
      " [ 2 19 18  4  9 22  8 15  3 14]\n",
      "\n",
      "The values:\n",
      " [4 6 6 8 4 7 6 1 5 8]\n",
      "\n",
      "The resulting array:\n",
      " [[0. 0. 4. 5. 8.]\n",
      " [0. 0. 0. 6. 4.]\n",
      " [0. 0. 0. 0. 8.]\n",
      " [1. 0. 0. 6. 6.]\n",
      " [0. 0. 7. 0. 0.]]\n"
     ]
    }
   ],
   "source": [
    "array = np.zeros((5, 5))\n",
    "print('The initial array:\\n', array)\n",
    "indices = np.random.choice(range(5*5), 10, replace=False)\n",
    "print('\\nThe indices:\\n', indices)\n",
    "values = np.random.randint(1, 10, 10)\n",
    "print('\\nThe values:\\n', values)\n",
    "np.put(array, indices, values)\n",
    "print('\\nThe resulting array:\\n', array)"
   ]
  },
  {
   "cell_type": "markdown",
   "id": "bfd2513c",
   "metadata": {},
   "source": [
    "#### 58. Subtract the mean of each row of a matrix (★★☆)"
   ]
  },
  {
   "cell_type": "code",
   "execution_count": null,
   "id": "f306ab72",
   "metadata": {},
   "outputs": [
    {
     "name": "stdout",
     "output_type": "stream",
     "text": [
      "The initial array:\n",
      " [[0 5 9]\n",
      " [2 8 9]\n",
      " [7 6 7]]\n",
      "\n",
      "The mean value:\n",
      " [[4.66666667]\n",
      " [6.33333333]\n",
      " [6.66666667]]\n",
      "\n",
      "The resulting array:\n",
      " [[-4.66666667  0.33333333  4.33333333]\n",
      " [-4.33333333  1.66666667  2.66666667]\n",
      " [ 0.33333333 -0.66666667  0.33333333]]\n"
     ]
    }
   ],
   "source": [
    "array = np.random.randint(0, 10, (3, 3))\n",
    "print('The initial array:\\n', array)\n",
    "meanValues = np.mean(array, axis=1, keepdims=True)\n",
    "print('\\nThe mean value:\\n', meanValues)\n",
    "array = array - meanValues\n",
    "print('\\nThe resulting array:\\n', array)"
   ]
  },
  {
   "cell_type": "markdown",
   "id": "da9f2f9b",
   "metadata": {},
   "source": [
    "#### 59. How to sort an array by the nth column? (★★☆)"
   ]
  },
  {
   "cell_type": "code",
   "execution_count": 536,
   "id": "68cde57f",
   "metadata": {},
   "outputs": [
    {
     "name": "stdout",
     "output_type": "stream",
     "text": [
      "The initial array:\n",
      " [[7 4 8]\n",
      " [2 6 6]\n",
      " [9 9 5]]\n",
      "\n",
      "The resulting array:\n",
      " [[2 6 6]\n",
      " [7 4 8]\n",
      " [9 9 5]]\n"
     ]
    }
   ],
   "source": [
    "array = np.random.randint(1, 10, (3, 3))\n",
    "print('The initial array:\\n', array)\n",
    "n = 0\n",
    "array = array[array[:, n].argsort()]\n",
    "print('\\nThe resulting array:\\n', array)"
   ]
  },
  {
   "cell_type": "markdown",
   "id": "5b7be45c",
   "metadata": {},
   "source": [
    "#### 60. How to tell if a given 2D array has null columns? (★★☆)"
   ]
  },
  {
   "cell_type": "code",
   "execution_count": 542,
   "id": "7dbe2c27",
   "metadata": {},
   "outputs": [
    {
     "name": "stdout",
     "output_type": "stream",
     "text": [
      "The array:\n",
      " [[0 1 0]\n",
      " [1 1 0]\n",
      " [0 2 0]]\n",
      "\n",
      "The array has null columns: True\n"
     ]
    }
   ],
   "source": [
    "array = np.random.randint(0,3,(3,3))\n",
    "print('The array:\\n', array)\n",
    "nullColumns = (~array.any(axis=0)).any()\n",
    "print('\\nThe array has null columns:', nullColumns)"
   ]
  },
  {
   "cell_type": "markdown",
   "id": "7c18c02e",
   "metadata": {},
   "source": [
    "#### 61. Find the nearest value from a given value in an array (★★☆)"
   ]
  },
  {
   "cell_type": "code",
   "execution_count": 548,
   "id": "b78ae9c4",
   "metadata": {},
   "outputs": [
    {
     "name": "stdout",
     "output_type": "stream",
     "text": [
      "The array: [6 6 4 0 2]\n",
      "The given value: 3.7\n",
      "The nearest value: 4\n"
     ]
    }
   ],
   "source": [
    "array = np.random.randint(0, 10, 5)\n",
    "print('The array:', array)\n",
    "value = 3.7\n",
    "print('The given value:', value)\n",
    "print('The nearest value:', array[(np.abs(array - value)).argmin()])"
   ]
  },
  {
   "cell_type": "markdown",
   "id": "8174ba2c",
   "metadata": {},
   "source": [
    "#### 62. Considering two arrays with shape (1,3) and (3,1), how to compute their sum using an iterator? (★★☆)"
   ]
  },
  {
   "cell_type": "code",
   "execution_count": 563,
   "id": "8a18fe57",
   "metadata": {},
   "outputs": [
    {
     "name": "stdout",
     "output_type": "stream",
     "text": [
      "The first array:\n",
      " [[5 2 4]]\n",
      "\n",
      "The second array:\n",
      " [[5]\n",
      " [7]\n",
      " [9]]\n",
      "\n",
      "The sum:\n",
      " [[10  7  9]\n",
      " [12  9 11]\n",
      " [14 11 13]]\n"
     ]
    }
   ],
   "source": [
    "array1 = np.random.randint(0, 10, (1, 3))\n",
    "array2 = np.random.randint(0, 10, (3, 1))\n",
    "print('The first array:\\n', array1)\n",
    "print('\\nThe second array:\\n', array2)\n",
    "\n",
    "iterator = np.nditer([array1, array2, None])\n",
    "\n",
    "for a, b, sum in iterator:\n",
    "    sum[...] = a + b\n",
    "\n",
    "sum = iterator.operands[2]\n",
    "\n",
    "print('\\nThe sum:\\n', sum)"
   ]
  },
  {
   "cell_type": "markdown",
   "id": "9189bd7c",
   "metadata": {},
   "source": [
    "#### 63. Create an array class that has a name attribute (★★☆)"
   ]
  },
  {
   "cell_type": "code",
   "execution_count": null,
   "id": "1c01ed42",
   "metadata": {},
   "outputs": [
    {
     "name": "stdout",
     "output_type": "stream",
     "text": [
      "The array name: array name \n",
      " [0 1 2 3 4]\n"
     ]
    }
   ],
   "source": [
    "class namedArray(np.ndarray):\n",
    "    def __new__(cls, arr, name='Unnamed'):\n",
    "        obj = np.asarray(arr).view(cls)\n",
    "        obj.name = name\n",
    "        return obj\n",
    "\n",
    "array = namedArray(np.arange(5), name='array name')\n",
    "print('The array name:', array.name, '\\n', array)"
   ]
  },
  {
   "cell_type": "markdown",
   "id": "f30162d2",
   "metadata": {},
   "source": [
    "#### 64. Consider a given vector, how to add 1 to each element indexed by a second vector (be careful with repeated indices)? (★★★)"
   ]
  },
  {
   "cell_type": "code",
   "execution_count": null,
   "id": "093ba36f",
   "metadata": {},
   "outputs": [
    {
     "name": "stdout",
     "output_type": "stream",
     "text": [
      "The initial vector: [8 3 7 4 1 7 9 5 5 6]\n",
      "The indices: [1 4 8 4 4]\n",
      "\n",
      "The resulting vector: [8 4 7 4 4 7 9 5 6 6]\n"
     ]
    }
   ],
   "source": [
    "vector = np.random.randint(0, 10, 10)\n",
    "print('The initial vector:', vector)\n",
    "\n",
    "indices = np.random.choice(len(vector), 5)\n",
    "print('The indices:', indices)\n",
    "\n",
    "unique, counts = np.unique(indices, return_counts=1)\n",
    "\n",
    "vector[unique] += counts\n",
    "\n",
    "print(\"\\nThe resulting vector:\", vector)"
   ]
  },
  {
   "cell_type": "markdown",
   "id": "f5b1c584",
   "metadata": {},
   "source": [
    "#### 65. How to accumulate elements of a vector (X) to an array (F) based on an index list (I)? (★★★)"
   ]
  },
  {
   "cell_type": "code",
   "execution_count": null,
   "id": "c9d92a75",
   "metadata": {},
   "outputs": [
    {
     "name": "stdout",
     "output_type": "stream",
     "text": [
      "X: [4 1 4 1 7 1 8 3 9 1]\n",
      "I: [9 6 0 9 2 2 6 8 6 6]\n",
      "F: [ 4.  0.  8.  0.  0.  0. 19.  0.  3.  5.]\n"
     ]
    }
   ],
   "source": [
    "X = np.random.randint(0, 10, 10)\n",
    "print('X:', X)\n",
    "\n",
    "I = np.random.choice(len(X), len(X))\n",
    "print('I:', I)\n",
    "\n",
    "F = np.bincount(I,X)\n",
    "print('F:', F)"
   ]
  },
  {
   "cell_type": "markdown",
   "id": "994c452d",
   "metadata": {},
   "source": [
    "#### 66. Considering a (w,h,3) image of (dtype=ubyte), compute the number of unique colors (★★☆)"
   ]
  },
  {
   "cell_type": "code",
   "execution_count": 567,
   "id": "269cdaea",
   "metadata": {},
   "outputs": [
    {
     "name": "stdout",
     "output_type": "stream",
     "text": [
      "Image:\n",
      " [[[2 0 1]\n",
      "  [0 2 2]\n",
      "  [3 2 1]\n",
      "  [2 3 1]\n",
      "  [1 0 3]\n",
      "  [1 0 1]\n",
      "  [0 2 1]\n",
      "  [0 1 3]\n",
      "  [0 3 2]\n",
      "  [2 1 0]]\n",
      "\n",
      " [[1 2 3]\n",
      "  [1 2 2]\n",
      "  [2 0 2]\n",
      "  [1 0 2]\n",
      "  [1 3 0]\n",
      "  [2 1 1]\n",
      "  [0 0 2]\n",
      "  [2 0 2]\n",
      "  [3 2 3]\n",
      "  [2 2 3]]]\n",
      "\n",
      "The number of unique colors: 19\n"
     ]
    }
   ],
   "source": [
    "image = np.random.randint(0, 4, size=(2, 10, 3), dtype=np.ubyte)\n",
    "print('Image:\\n', image)\n",
    "unique_colors = np.unique(image.reshape(-1, 3), axis=0)\n",
    "print('\\nThe number of unique colors:', len(unique_colors))\n"
   ]
  },
  {
   "cell_type": "markdown",
   "id": "4bddeb31",
   "metadata": {},
   "source": [
    "#### 67. Considering a four dimensions array, how to get sum over the last two axis at once? (★★★)"
   ]
  },
  {
   "cell_type": "code",
   "execution_count": 569,
   "id": "32af15f5",
   "metadata": {},
   "outputs": [
    {
     "name": "stdout",
     "output_type": "stream",
     "text": [
      "The 4D array:\n",
      " [[[[3 4]\n",
      "   [3 1]]\n",
      "\n",
      "  [[3 1]\n",
      "   [2 0]]]\n",
      "\n",
      "\n",
      " [[[2 3]\n",
      "   [3 4]]\n",
      "\n",
      "  [[2 0]\n",
      "   [3 3]]]]\n",
      "\n",
      "The sum:\n",
      " [[11  6]\n",
      " [12  8]]\n"
     ]
    }
   ],
   "source": [
    "array = np.random.randint(0, 5, (2, 2, 2, 2))\n",
    "print('The 4D array:\\n', array)\n",
    "print('\\nThe sum:\\n', np.sum(array, axis=(2, 3)))"
   ]
  },
  {
   "cell_type": "markdown",
   "id": "c4cf083c",
   "metadata": {},
   "source": [
    "#### 68. Considering a one-dimensional vector D, how to compute means of subsets of D using a vector S of same size describing subset  indices? (★★★)"
   ]
  },
  {
   "cell_type": "code",
   "execution_count": null,
   "id": "9600a2dd",
   "metadata": {},
   "outputs": [
    {
     "name": "stdout",
     "output_type": "stream",
     "text": [
      "The 1D vector D: [8 8 4 1 1 9 8 2 6]\n",
      "The means of subsets: [8.0, 2.5, 5.0, 5.333333333333333]\n"
     ]
    }
   ],
   "source": [
    "D = np.random.randint(0, 10, 9)\n",
    "S = np.array([0, 0, 1, 1, 2, 2, 3, 3, 3]) \n",
    "\n",
    "print('The 1D vector D:', D)\n",
    "\n",
    "means = [D[S == i].mean() for i in np.unique(S)]\n",
    "print(\"The means of subsets:\", means)"
   ]
  },
  {
   "cell_type": "markdown",
   "id": "a5e316db",
   "metadata": {},
   "source": [
    "#### 69. How to get the diagonal of a dot product? (★★★)"
   ]
  },
  {
   "cell_type": "code",
   "execution_count": null,
   "id": "94735dbd",
   "metadata": {},
   "outputs": [
    {
     "name": "stdout",
     "output_type": "stream",
     "text": [
      "The first array:\n",
      " [[2 2 2]\n",
      " [3 0 0]\n",
      " [2 1 2]]\n",
      "\n",
      "The second array:\n",
      " [[3 1 0]\n",
      " [0 2 0]\n",
      " [3 1 0]]\n",
      "\n",
      "The dot product:\n",
      " [[12  8  0]\n",
      " [ 9  3  0]\n",
      " [12  6  0]]\n",
      "\n",
      "The diagonal of a dot product:\n",
      " [12  3  0]\n"
     ]
    }
   ],
   "source": [
    "array1 = np.random.randint(0, 5, (3,3))\n",
    "array2 = np.random.randint(0, 5, (3,3))\n",
    "\n",
    "print('The first array:\\n', array1)\n",
    "print('\\nThe second array:\\n', array2)\n",
    "\n",
    "result = np.diag(np.dot(array1, array2))\n",
    "\n",
    "print('\\nThe dot product:\\n', np.dot(array1, array2))\n",
    "print('\\nThe diagonal of a dot product:\\n', result)"
   ]
  },
  {
   "cell_type": "markdown",
   "id": "de727a7b",
   "metadata": {},
   "source": [
    "#### 70. Consider the vector [1, 2, 3, 4, 5], how to build a new vector with 3 consecutive zeros interleaved between each value? (★★★)"
   ]
  },
  {
   "cell_type": "code",
   "execution_count": null,
   "id": "982be812",
   "metadata": {},
   "outputs": [
    {
     "name": "stdout",
     "output_type": "stream",
     "text": [
      "[1. 0. 0. 0. 2. 0. 0. 0. 3. 0. 0. 0. 4. 0. 0. 0. 5.]\n"
     ]
    }
   ],
   "source": [
    "vector = np.array([1, 2, 3, 4, 5])\n",
    "\n",
    "result = np.zeros(len(vector)*3+2)\n",
    "result[::4] = vector\n",
    "\n",
    "print(result)"
   ]
  },
  {
   "cell_type": "markdown",
   "id": "a9a73d6b",
   "metadata": {},
   "source": [
    "#### 71. Consider an array of dimension (5,5,3), how to mulitply it by an array with dimensions (5,5)? (★★★)"
   ]
  },
  {
   "cell_type": "code",
   "execution_count": null,
   "id": "282a90cc",
   "metadata": {},
   "outputs": [
    {
     "name": "stdout",
     "output_type": "stream",
     "text": [
      "The 3D array:\n",
      " [[1 2 3]\n",
      " [1 2 3]\n",
      " [1 2 3]\n",
      " [1 2 3]\n",
      " [1 2 3]]\n",
      "\n",
      "The 2D array:\n",
      " [[0 1 2 3 4]\n",
      " [0 1 2 3 4]\n",
      " [0 1 2 3 4]\n",
      " [0 1 2 3 4]\n",
      " [0 1 2 3 4]]\n",
      "\n",
      "The result:\n",
      " [[[ 0  0  0]\n",
      "  [ 1  2  3]\n",
      "  [ 2  4  6]\n",
      "  [ 3  6  9]\n",
      "  [ 4  8 12]]\n",
      "\n",
      " [[ 0  0  0]\n",
      "  [ 1  2  3]\n",
      "  [ 2  4  6]\n",
      "  [ 3  6  9]\n",
      "  [ 4  8 12]]\n",
      "\n",
      " [[ 0  0  0]\n",
      "  [ 1  2  3]\n",
      "  [ 2  4  6]\n",
      "  [ 3  6  9]\n",
      "  [ 4  8 12]]\n",
      "\n",
      " [[ 0  0  0]\n",
      "  [ 1  2  3]\n",
      "  [ 2  4  6]\n",
      "  [ 3  6  9]\n",
      "  [ 4  8 12]]\n",
      "\n",
      " [[ 0  0  0]\n",
      "  [ 1  2  3]\n",
      "  [ 2  4  6]\n",
      "  [ 3  6  9]\n",
      "  [ 4  8 12]]]\n"
     ]
    }
   ],
   "source": [
    "array1 = np.tile(np.array(np.arange(1, 4)), (5, 5, 1))\n",
    "print('The 3D array:\\n', array1[0])\n",
    "\n",
    "array2 = np.tile(np.array(np.arange(5)), (5, 1))\n",
    "\n",
    "print('\\nThe 2D array:\\n', array2)\n",
    "print('\\nThe result:\\n', array1 * array2[:,:,np.newaxis])\n",
    "\n"
   ]
  },
  {
   "cell_type": "markdown",
   "id": "a951c78f",
   "metadata": {},
   "source": [
    "#### 72. How to swap two rows of an array? (★★★)"
   ]
  },
  {
   "cell_type": "code",
   "execution_count": null,
   "id": "e29b3fde",
   "metadata": {},
   "outputs": [
    {
     "name": "stdout",
     "output_type": "stream",
     "text": [
      "The initial array:\n",
      " [[0 1 2]\n",
      " [3 4 5]\n",
      " [6 7 8]]\n",
      "\n",
      "The resulting array:\n",
      " [[6 7 8]\n",
      " [3 4 5]\n",
      " [0 1 2]]\n"
     ]
    }
   ],
   "source": [
    "array = np.arange(9).reshape(3, 3)\n",
    "print('The initial array:\\n', array)\n",
    "array[[0, 2]] = array[[2, 0]]\n",
    "print('\\nThe resulting array:\\n', array)"
   ]
  },
  {
   "cell_type": "markdown",
   "id": "43b639e8",
   "metadata": {},
   "source": [
    "#### 73. Consider a set of 10 triplets describing 10 triangles (with shared vertices), find the set of unique line segments composing all the  triangles (★★★)"
   ]
  },
  {
   "cell_type": "code",
   "execution_count": null,
   "id": "147e1034",
   "metadata": {},
   "outputs": [
    {
     "name": "stdout",
     "output_type": "stream",
     "text": [
      "The lines:\n",
      " [[3 8]\n",
      " [1 8]\n",
      " [1 3]\n",
      " [5 6]\n",
      " [5 6]\n",
      " [5 5]\n",
      " [4 4]\n",
      " [3 4]\n",
      " [3 4]\n",
      " [2 3]\n",
      " [2 9]\n",
      " [3 9]\n",
      " [3 7]\n",
      " [3 6]\n",
      " [6 7]\n",
      " [1 8]\n",
      " [4 8]\n",
      " [1 4]\n",
      " [1 1]\n",
      " [1 8]\n",
      " [1 8]\n",
      " [0 4]\n",
      " [0 4]\n",
      " [0 0]\n",
      " [1 8]\n",
      " [1 1]\n",
      " [1 8]\n",
      " [2 8]\n",
      " [6 8]\n",
      " [2 6]]\n",
      "\n",
      "The number of lines: 30\n",
      "\n",
      "The unique lines:\n",
      " [[0 0]\n",
      " [0 4]\n",
      " [1 1]\n",
      " [1 3]\n",
      " [1 4]\n",
      " [1 8]\n",
      " [2 3]\n",
      " [2 6]\n",
      " [2 8]\n",
      " [2 9]\n",
      " [3 4]\n",
      " [3 6]\n",
      " [3 7]\n",
      " [3 8]\n",
      " [3 9]\n",
      " [4 4]\n",
      " [4 8]\n",
      " [5 5]\n",
      " [5 6]\n",
      " [6 7]\n",
      " [6 8]]\n",
      "\n",
      "The number of lines: 21\n"
     ]
    }
   ],
   "source": [
    "lines = np.random.randint(0,10,(10,3))\n",
    "lines = np.roll(lines.repeat(2,axis=1),-1,axis=1).reshape(len(lines)*3, 2)\n",
    "\n",
    "lines = np.sort(lines,axis=1)\n",
    "print('The lines:\\n', lines)\n",
    "print('\\nThe number of lines:', len(lines))\n",
    "\n",
    "result = np.unique(lines, axis=0)\n",
    "print('\\nThe unique lines:\\n', result)\n",
    "print('\\nThe number of lines:', len(result))"
   ]
  },
  {
   "cell_type": "markdown",
   "id": "d41de585",
   "metadata": {},
   "source": [
    "#### 74. Given a sorted array C that corresponds to a bincount, how to produce an array A such that np.bincount(A) == C? (★★★)"
   ]
  },
  {
   "cell_type": "code",
   "execution_count": null,
   "id": "5f5d6e36",
   "metadata": {},
   "outputs": [
    {
     "name": "stdout",
     "output_type": "stream",
     "text": [
      "C: [2 1 2 1 0 1]\n",
      "A: [0 0 1 2 2 3 5]\n"
     ]
    }
   ],
   "source": [
    "C = np.bincount([0, 2, 1, 2, 5, 3, 0])\n",
    "print('C:', C)\n",
    "A = np.repeat(np.arange(len(C)), C)\n",
    "print('A:', A)\n",
    "#print(np.bincount(A) == C)"
   ]
  },
  {
   "cell_type": "markdown",
   "id": "b50adf7c",
   "metadata": {},
   "source": [
    "#### 75. How to compute averages using a sliding window over an array? (★★★)"
   ]
  },
  {
   "cell_type": "code",
   "execution_count": null,
   "id": "e631a9d2",
   "metadata": {},
   "outputs": [
    {
     "name": "stdout",
     "output_type": "stream",
     "text": [
      "The array: [0 1 2 3 4 5 6 7 8 9]\n",
      "The averages: [0.5 1.5 2.5 3.5 4.5 5.5 6.5 7.5 8.5]\n"
     ]
    }
   ],
   "source": [
    "from numpy.lib.stride_tricks import sliding_window_view\n",
    "\n",
    "array = np.arange(10)\n",
    "print('The array:', array)\n",
    "window = 2\n",
    "\n",
    "#averages = np.convolve(array, np.ones(window) / window, mode='valid')\n",
    "\n",
    "averages = sliding_window_view(array, window).mean(axis=-1)\n",
    "\n",
    "print('The averages:', averages)"
   ]
  },
  {
   "cell_type": "markdown",
   "id": "1ab4c50d",
   "metadata": {},
   "source": [
    "#### 76. Consider a one-dimensional array Z, build a two-dimensional array whose first row is (Z[0],Z[1],Z[2]) and each subsequent row is  shifted by 1 (last row should be (Z[-3],Z[-2],Z[-1]) (★★★)"
   ]
  },
  {
   "cell_type": "code",
   "execution_count": null,
   "id": "3ccfe2c0",
   "metadata": {},
   "outputs": [
    {
     "name": "stdout",
     "output_type": "stream",
     "text": [
      "The 1D array: [0 1 2 3 4 5 6 7 8 9]\n",
      "The 2D array:\n",
      " [[0 1 2]\n",
      " [1 2 3]\n",
      " [2 3 4]\n",
      " [3 4 5]\n",
      " [4 5 6]\n",
      " [5 6 7]\n",
      " [6 7 8]\n",
      " [7 8 9]]\n"
     ]
    }
   ],
   "source": [
    "Z = np.arange(10)\n",
    "print('The 1D array:', Z)\n",
    "\n",
    "\"\"\" result = np.ones((len(Z) - 2, 3), dtype=Z.dtype)\n",
    "\n",
    "for i in range(len(result)):\n",
    "    result[i] = Z[i:i + 3] \"\"\"\n",
    "\n",
    "result = sliding_window_view(Z, 3)\n",
    "print('The 2D array:\\n', result)"
   ]
  },
  {
   "cell_type": "markdown",
   "id": "5b4fe59d",
   "metadata": {},
   "source": [
    "#### 77. How to negate a boolean, or to change the sign of a float inplace? (★★★)"
   ]
  },
  {
   "cell_type": "code",
   "execution_count": null,
   "id": "3c2373ff",
   "metadata": {},
   "outputs": [
    {
     "name": "stdout",
     "output_type": "stream",
     "text": [
      "The boolean array: [False False  True  True False False  True  True  True False]\n",
      "The negated boolean array: [ True  True False False  True  True False False False  True]\n",
      "The float array: [ -4   8 -10   3   0   8  -7  -6  -6  -9]\n",
      "The float array with changed sign: [ 4 -8 10 -3  0 -8  7  6  6  9]\n"
     ]
    }
   ],
   "source": [
    "boolean_array = np.random.choice((True, False), 10)\n",
    "print('The boolean array:', boolean_array)\n",
    "\n",
    "boolean_array = np.logical_not(boolean_array)\n",
    "print('The negated boolean array:', boolean_array)\n",
    "\n",
    "float_array = np.random.randint(-10, 10, 10)\n",
    "print('The float array:', float_array)\n",
    "\n",
    "float_array = np.negative(float_array)\n",
    "print('The float array with changed sign:', float_array)"
   ]
  },
  {
   "cell_type": "markdown",
   "id": "119ab5af",
   "metadata": {},
   "source": [
    "#### 78. Consider 2 sets of points P0,P1 describing lines (2d) and a point p, how to compute distance from p to each line i (P0[i],P1[i])? (★★★)"
   ]
  },
  {
   "cell_type": "code",
   "execution_count": null,
   "id": "1d8d06dc",
   "metadata": {},
   "outputs": [
    {
     "name": "stdout",
     "output_type": "stream",
     "text": [
      "P0:\n",
      " [[5 2]\n",
      " [2 0]\n",
      " [4 3]]\n",
      "\n",
      "P1:\n",
      " [[2 4]\n",
      " [5 1]\n",
      " [5 8]]\n",
      "\n",
      "The distance from [2 2] to line: [1.6641005886756874, 1.8973665961010275, 1.7650452162436565]\n"
     ]
    }
   ],
   "source": [
    "def computeDistance(P0, P1, p):\n",
    "    distances = list()\n",
    "\n",
    "    for i in range(len(P0)):\n",
    "        distance = np.abs(np.cross(P1[i] - P0[i], p - P0[i])) / np.linalg.norm(P1[i] - P0[i])\n",
    "        distances.append(distance)\n",
    "    \n",
    "    return distances\n",
    "\n",
    "P0 = np.random.randint(0, 9, (3, 2))\n",
    "print('P0:\\n', P0)\n",
    "P1 = np.random.randint(0, 9, (3, 2))\n",
    "print('\\nP1:\\n', P1)\n",
    "p = np.array([2, 2])\n",
    "\n",
    "distances = computeDistance(P0, P1, p)\n",
    "print(f'\\nThe distance from {p} to line:', distances)"
   ]
  },
  {
   "cell_type": "markdown",
   "id": "e5e7f323",
   "metadata": {},
   "source": [
    "#### 79. Consider 2 sets of points P0,P1 describing lines (2d) and a set of points P, how to compute distance from each point j (P[j]) to each line i (P0[i],P1[i])? (★★★)"
   ]
  },
  {
   "cell_type": "code",
   "execution_count": null,
   "id": "d0ce77e2",
   "metadata": {},
   "outputs": [
    {
     "name": "stdout",
     "output_type": "stream",
     "text": [
      "p:\n",
      " [[3 6]\n",
      " [6 8]]\n",
      "\n",
      "The distance from p to line:\n",
      " [[2.21880078 5.37587202 1.56892908]\n",
      " [5.54700196 6.32455532 0.98058068]]\n"
     ]
    }
   ],
   "source": [
    "p = np.random.randint(0, 9, (2, 2))\n",
    "print('p:\\n', p)\n",
    "\n",
    "distances = np.array([computeDistance(P0, P1, p[i]) for i in range(len(p))])\n",
    "print('\\nThe distance from p to line:\\n', distances)"
   ]
  },
  {
   "cell_type": "markdown",
   "id": "9b9d03eb",
   "metadata": {},
   "source": [
    "#### 80. Consider an arbitrary array, write a function that extract a subpart with a fixed shape and centered on a given element (pad with a `fill` value when necessary) (★★★)"
   ]
  },
  {
   "cell_type": "code",
   "execution_count": null,
   "id": "ec2b7ae3",
   "metadata": {},
   "outputs": [
    {
     "name": "stdout",
     "output_type": "stream",
     "text": [
      "The array:\n",
      " [[7 2 7 4 2 4 5 4 3 6]\n",
      " [8 4 6 7 9 4 7 7 8 1]\n",
      " [7 3 8 7 3 6 6 8 3 8]\n",
      " [4 6 0 4 1 7 3 7 6 6]\n",
      " [6 6 5 8 4 5 1 0 5 6]\n",
      " [9 9 0 1 0 5 4 9 2 2]\n",
      " [3 7 2 3 7 7 2 0 4 4]\n",
      " [4 6 0 0 0 4 2 8 9 9]\n",
      " [0 9 8 2 4 7 8 6 2 6]\n",
      " [3 4 1 0 7 3 4 0 8 1]]\n",
      "\n",
      "The result:\n",
      " [[0 0 0 0 0 0 0]\n",
      " [0 0 0 0 0 0 0]\n",
      " [0 0 0 0 0 0 0]\n",
      " [0 0 0 7 2 7 4]\n",
      " [0 0 0 8 4 6 7]\n",
      " [0 0 0 7 3 8 7]\n",
      " [0 0 0 4 6 0 4]]\n"
     ]
    }
   ],
   "source": [
    "array = np.random.randint(0, 10, (10, 10))\n",
    "print('The array:\\n', array)\n",
    "\n",
    "shape = (7, 7)\n",
    "position = (0, 0)\n",
    "\n",
    "\n",
    "result = np.zeros(shape, dtype=array.dtype)\n",
    "\n",
    "shape0 = shape[0] // 2\n",
    "shape1 = shape[1] // 2\n",
    "\n",
    "start1 = int(max(shape0 - position[0], 0))\n",
    "start2 = int(max(shape1 - position[1], 0))\n",
    "end1 = int(min(len(array) - position[0] + shape0, shape[0]))\n",
    "end2 = int(min(len(array) - position[1] + shape1, shape[1]))\n",
    "\n",
    "startArray1 = int(max(position[0] - shape0, 0))\n",
    "startArray2 = int(max(position[1] - shape1, 0))\n",
    "endArray1 = int(min(position[0] + shape0 + 1, len(array)))\n",
    "endArray2 = int(min(position[1] + shape1 + 1, len(array)))\n",
    "\n",
    "result[start1 : end1, start2 : end2] = array[startArray1 : endArray1, startArray2 : endArray2]\n",
    "\n",
    "print('\\nThe result:\\n', result)"
   ]
  },
  {
   "cell_type": "markdown",
   "id": "27794913",
   "metadata": {},
   "source": [
    "#### 81. Consider an array Z = [1,2,3,4,5,6,7,8,9,10,11,12,13,14], how to generate an array R = [[1,2,3,4], [2,3,4,5], [3,4,5,6], ..., [11,12,13,14]]? (★★★)"
   ]
  },
  {
   "cell_type": "code",
   "execution_count": null,
   "id": "f3e7878b",
   "metadata": {},
   "outputs": [
    {
     "name": "stdout",
     "output_type": "stream",
     "text": [
      "The 1D array: [ 0  1  2  3  4  5  6  7  8  9 10 11 12 13 14]\n",
      "The 2D array:\n",
      " [[ 0  1  2  3]\n",
      " [ 1  2  3  4]\n",
      " [ 2  3  4  5]\n",
      " [ 3  4  5  6]\n",
      " [ 4  5  6  7]\n",
      " [ 5  6  7  8]\n",
      " [ 6  7  8  9]\n",
      " [ 7  8  9 10]\n",
      " [ 8  9 10 11]\n",
      " [ 9 10 11 12]\n",
      " [10 11 12 13]\n",
      " [11 12 13 14]]\n"
     ]
    }
   ],
   "source": [
    "Z = np.arange(0, 15)\n",
    "print('The 1D array:', Z)\n",
    "\n",
    "R = sliding_window_view(Z, 4)\n",
    "\n",
    "print('The 2D array:\\n', R)"
   ]
  },
  {
   "cell_type": "code",
   "execution_count": null,
   "id": "84b5294d",
   "metadata": {},
   "outputs": [
    {
     "name": "stdout",
     "output_type": "stream",
     "text": [
      "[[ 1  2  3  4]\n",
      " [ 2  3  4  5]\n",
      " [ 3  4  5  6]\n",
      " [ 4  5  6  7]\n",
      " [ 5  6  7  8]\n",
      " [ 6  7  8  9]\n",
      " [ 7  8  9 10]\n",
      " [ 8  9 10 11]\n",
      " [ 9 10 11 12]\n",
      " [10 11 12 13]\n",
      " [11 12 13 14]]\n"
     ]
    }
   ],
   "source": [
    "from numpy.lib import stride_tricks\n",
    "Z = np.arange(1,15,dtype=np.uint32)\n",
    "R = stride_tricks.as_strided(Z,(11,4),(4,4))\n",
    "print(R)\n",
    "\n"
   ]
  },
  {
   "cell_type": "markdown",
   "id": "fae786f5",
   "metadata": {},
   "source": [
    "#### 82. Compute a matrix rank (★★★)"
   ]
  },
  {
   "cell_type": "code",
   "execution_count": null,
   "id": "64b9615b",
   "metadata": {},
   "outputs": [
    {
     "name": "stdout",
     "output_type": "stream",
     "text": [
      "The array:\n",
      " [[ 1  3  1  2  1]\n",
      " [ 2  2  1  3  1]\n",
      " [ 3  1  4 -1  0]\n",
      " [ 4  4  2  6  2]]\n",
      "\n",
      "The matrix rank: 3\n"
     ]
    }
   ],
   "source": [
    "array = np.array([[1, 3, 1, 2, 1], \n",
    "                  [2, 2, 1, 3, 1],\n",
    "                  [3, 1, 4, -1, 0],\n",
    "                  [4, 4, 2, 6, 2]])\n",
    "print('The array:\\n', array)\n",
    "\n",
    "rank = np.linalg.matrix_rank(array)\n",
    "print('\\nThe matrix rank:', rank)"
   ]
  },
  {
   "cell_type": "markdown",
   "id": "c85aa0b9",
   "metadata": {},
   "source": [
    "#### 83. How to find the most frequent value in an array?"
   ]
  },
  {
   "cell_type": "code",
   "execution_count": null,
   "id": "056be85b",
   "metadata": {},
   "outputs": [
    {
     "name": "stdout",
     "output_type": "stream",
     "text": [
      "The array: [3 0 3 3 2 2 2 1 1 0]\n",
      "The frequent value: 2\n"
     ]
    }
   ],
   "source": [
    "array = np.random.randint(0, 4, 10)\n",
    "print('The array:', array)\n",
    "value = np.bincount(array).argmax()\n",
    "print('The frequent value:', value)"
   ]
  },
  {
   "cell_type": "markdown",
   "id": "0ff2344d",
   "metadata": {},
   "source": [
    "#### 84. Extract all the contiguous 3x3 blocks from a random 10x10 matrix (★★★)"
   ]
  },
  {
   "cell_type": "code",
   "execution_count": null,
   "id": "d58b1318",
   "metadata": {},
   "outputs": [
    {
     "name": "stdout",
     "output_type": "stream",
     "text": [
      "The array:\n",
      " [[1 9 0 5 6 6 4 0 8 6]\n",
      " [4 3 2 2 9 4 4 0 0 7]\n",
      " [1 2 8 9 8 2 6 5 4 9]\n",
      " [2 4 3 6 8 5 7 3 2 6]\n",
      " [4 5 7 7 7 4 6 4 2 0]\n",
      " [9 0 2 5 1 5 2 3 7 3]\n",
      " [4 5 1 9 4 9 6 2 0 9]\n",
      " [7 3 7 3 4 9 3 2 8 3]\n",
      " [3 7 7 4 0 6 2 6 3 9]\n",
      " [1 5 7 5 9 1 0 7 5 2]]\n",
      "\n",
      "The result:\n",
      " [[[[1 9 0]\n",
      "   [4 3 2]\n",
      "   [1 2 8]]\n",
      "\n",
      "  [[9 0 5]\n",
      "   [3 2 2]\n",
      "   [2 8 9]]\n",
      "\n",
      "  [[0 5 6]\n",
      "   [2 2 9]\n",
      "   [8 9 8]]\n",
      "\n",
      "  [[5 6 6]\n",
      "   [2 9 4]\n",
      "   [9 8 2]]\n",
      "\n",
      "  [[6 6 4]\n",
      "   [9 4 4]\n",
      "   [8 2 6]]\n",
      "\n",
      "  [[6 4 0]\n",
      "   [4 4 0]\n",
      "   [2 6 5]]\n",
      "\n",
      "  [[4 0 8]\n",
      "   [4 0 0]\n",
      "   [6 5 4]]\n",
      "\n",
      "  [[0 8 6]\n",
      "   [0 0 7]\n",
      "   [5 4 9]]]\n",
      "\n",
      "\n",
      " [[[4 3 2]\n",
      "   [1 2 8]\n",
      "   [2 4 3]]\n",
      "\n",
      "  [[3 2 2]\n",
      "   [2 8 9]\n",
      "   [4 3 6]]\n",
      "\n",
      "  [[2 2 9]\n",
      "   [8 9 8]\n",
      "   [3 6 8]]\n",
      "\n",
      "  [[2 9 4]\n",
      "   [9 8 2]\n",
      "   [6 8 5]]\n",
      "\n",
      "  [[9 4 4]\n",
      "   [8 2 6]\n",
      "   [8 5 7]]\n",
      "\n",
      "  [[4 4 0]\n",
      "   [2 6 5]\n",
      "   [5 7 3]]\n",
      "\n",
      "  [[4 0 0]\n",
      "   [6 5 4]\n",
      "   [7 3 2]]\n",
      "\n",
      "  [[0 0 7]\n",
      "   [5 4 9]\n",
      "   [3 2 6]]]\n",
      "\n",
      "\n",
      " [[[1 2 8]\n",
      "   [2 4 3]\n",
      "   [4 5 7]]\n",
      "\n",
      "  [[2 8 9]\n",
      "   [4 3 6]\n",
      "   [5 7 7]]\n",
      "\n",
      "  [[8 9 8]\n",
      "   [3 6 8]\n",
      "   [7 7 7]]\n",
      "\n",
      "  [[9 8 2]\n",
      "   [6 8 5]\n",
      "   [7 7 4]]\n",
      "\n",
      "  [[8 2 6]\n",
      "   [8 5 7]\n",
      "   [7 4 6]]\n",
      "\n",
      "  [[2 6 5]\n",
      "   [5 7 3]\n",
      "   [4 6 4]]\n",
      "\n",
      "  [[6 5 4]\n",
      "   [7 3 2]\n",
      "   [6 4 2]]\n",
      "\n",
      "  [[5 4 9]\n",
      "   [3 2 6]\n",
      "   [4 2 0]]]\n",
      "\n",
      "\n",
      " [[[2 4 3]\n",
      "   [4 5 7]\n",
      "   [9 0 2]]\n",
      "\n",
      "  [[4 3 6]\n",
      "   [5 7 7]\n",
      "   [0 2 5]]\n",
      "\n",
      "  [[3 6 8]\n",
      "   [7 7 7]\n",
      "   [2 5 1]]\n",
      "\n",
      "  [[6 8 5]\n",
      "   [7 7 4]\n",
      "   [5 1 5]]\n",
      "\n",
      "  [[8 5 7]\n",
      "   [7 4 6]\n",
      "   [1 5 2]]\n",
      "\n",
      "  [[5 7 3]\n",
      "   [4 6 4]\n",
      "   [5 2 3]]\n",
      "\n",
      "  [[7 3 2]\n",
      "   [6 4 2]\n",
      "   [2 3 7]]\n",
      "\n",
      "  [[3 2 6]\n",
      "   [4 2 0]\n",
      "   [3 7 3]]]\n",
      "\n",
      "\n",
      " [[[4 5 7]\n",
      "   [9 0 2]\n",
      "   [4 5 1]]\n",
      "\n",
      "  [[5 7 7]\n",
      "   [0 2 5]\n",
      "   [5 1 9]]\n",
      "\n",
      "  [[7 7 7]\n",
      "   [2 5 1]\n",
      "   [1 9 4]]\n",
      "\n",
      "  [[7 7 4]\n",
      "   [5 1 5]\n",
      "   [9 4 9]]\n",
      "\n",
      "  [[7 4 6]\n",
      "   [1 5 2]\n",
      "   [4 9 6]]\n",
      "\n",
      "  [[4 6 4]\n",
      "   [5 2 3]\n",
      "   [9 6 2]]\n",
      "\n",
      "  [[6 4 2]\n",
      "   [2 3 7]\n",
      "   [6 2 0]]\n",
      "\n",
      "  [[4 2 0]\n",
      "   [3 7 3]\n",
      "   [2 0 9]]]\n",
      "\n",
      "\n",
      " [[[9 0 2]\n",
      "   [4 5 1]\n",
      "   [7 3 7]]\n",
      "\n",
      "  [[0 2 5]\n",
      "   [5 1 9]\n",
      "   [3 7 3]]\n",
      "\n",
      "  [[2 5 1]\n",
      "   [1 9 4]\n",
      "   [7 3 4]]\n",
      "\n",
      "  [[5 1 5]\n",
      "   [9 4 9]\n",
      "   [3 4 9]]\n",
      "\n",
      "  [[1 5 2]\n",
      "   [4 9 6]\n",
      "   [4 9 3]]\n",
      "\n",
      "  [[5 2 3]\n",
      "   [9 6 2]\n",
      "   [9 3 2]]\n",
      "\n",
      "  [[2 3 7]\n",
      "   [6 2 0]\n",
      "   [3 2 8]]\n",
      "\n",
      "  [[3 7 3]\n",
      "   [2 0 9]\n",
      "   [2 8 3]]]\n",
      "\n",
      "\n",
      " [[[4 5 1]\n",
      "   [7 3 7]\n",
      "   [3 7 7]]\n",
      "\n",
      "  [[5 1 9]\n",
      "   [3 7 3]\n",
      "   [7 7 4]]\n",
      "\n",
      "  [[1 9 4]\n",
      "   [7 3 4]\n",
      "   [7 4 0]]\n",
      "\n",
      "  [[9 4 9]\n",
      "   [3 4 9]\n",
      "   [4 0 6]]\n",
      "\n",
      "  [[4 9 6]\n",
      "   [4 9 3]\n",
      "   [0 6 2]]\n",
      "\n",
      "  [[9 6 2]\n",
      "   [9 3 2]\n",
      "   [6 2 6]]\n",
      "\n",
      "  [[6 2 0]\n",
      "   [3 2 8]\n",
      "   [2 6 3]]\n",
      "\n",
      "  [[2 0 9]\n",
      "   [2 8 3]\n",
      "   [6 3 9]]]\n",
      "\n",
      "\n",
      " [[[7 3 7]\n",
      "   [3 7 7]\n",
      "   [1 5 7]]\n",
      "\n",
      "  [[3 7 3]\n",
      "   [7 7 4]\n",
      "   [5 7 5]]\n",
      "\n",
      "  [[7 3 4]\n",
      "   [7 4 0]\n",
      "   [7 5 9]]\n",
      "\n",
      "  [[3 4 9]\n",
      "   [4 0 6]\n",
      "   [5 9 1]]\n",
      "\n",
      "  [[4 9 3]\n",
      "   [0 6 2]\n",
      "   [9 1 0]]\n",
      "\n",
      "  [[9 3 2]\n",
      "   [6 2 6]\n",
      "   [1 0 7]]\n",
      "\n",
      "  [[3 2 8]\n",
      "   [2 6 3]\n",
      "   [0 7 5]]\n",
      "\n",
      "  [[2 8 3]\n",
      "   [6 3 9]\n",
      "   [7 5 2]]]]\n"
     ]
    }
   ],
   "source": [
    "array = np.random.randint(0, 10, (10, 10))\n",
    "print('The array:\\n', array)\n",
    "result = sliding_window_view(array, (3, 3))\n",
    "print('\\nThe result:\\n', result)"
   ]
  },
  {
   "cell_type": "markdown",
   "id": "1a18b263",
   "metadata": {},
   "source": [
    "#### 85. Create a 2D array subclass such that Z[i,j] == Z[j,i] (★★★)"
   ]
  },
  {
   "cell_type": "code",
   "execution_count": null,
   "id": "87f17adc",
   "metadata": {},
   "outputs": [
    {
     "name": "stdout",
     "output_type": "stream",
     "text": [
      "[[1 2 5]\n",
      " [2 4 5]\n",
      " [5 5 6]]\n"
     ]
    }
   ],
   "source": [
    "class subclass(np.ndarray):\n",
    "    def __new__(cls, input_array):\n",
    "        obj = np.asarray(input_array).view(cls)\n",
    "        return obj\n",
    "\n",
    "    def __getitem__(self, index):\n",
    "        i, j = index\n",
    "        if i < j:\n",
    "            return self.data[j, i]\n",
    "        else:\n",
    "            return self.data[i, j]\n",
    "\n",
    "array = np.array([[1, 2, 1],\n",
    "                [2, 4, 4],\n",
    "                [5, 5, 6]])\n",
    "\n",
    "result = subclass(array)\n",
    "\n",
    "print(result)"
   ]
  },
  {
   "cell_type": "markdown",
   "id": "f85f2cad",
   "metadata": {},
   "source": [
    "#### 86. Consider a set of p matrices wich shape (n,n) and a set of p vectors with shape (n,1). How to compute the sum of of the p matrix products at once? (result has shape (n,1)) (★★★)"
   ]
  },
  {
   "cell_type": "code",
   "execution_count": null,
   "id": "8d230557",
   "metadata": {},
   "outputs": [
    {
     "name": "stdout",
     "output_type": "stream",
     "text": [
      "The matrices:\n",
      " [[[2. 2. 2. 2.]\n",
      "  [1. 1. 1. 1.]\n",
      "  [2. 2. 2. 2.]\n",
      "  [2. 2. 2. 2.]]\n",
      "\n",
      " [[1. 1. 1. 1.]\n",
      "  [1. 1. 1. 1.]\n",
      "  [1. 1. 1. 1.]\n",
      "  [1. 1. 1. 1.]]\n",
      "\n",
      " [[1. 1. 1. 1.]\n",
      "  [1. 1. 1. 1.]\n",
      "  [1. 1. 1. 1.]\n",
      "  [1. 1. 1. 1.]]]\n",
      "\n",
      "The vectors:\n",
      " [[[2.]\n",
      "  [2.]\n",
      "  [2.]\n",
      "  [2.]]\n",
      "\n",
      " [[1.]\n",
      "  [1.]\n",
      "  [1.]\n",
      "  [1.]]\n",
      "\n",
      " [[1.]\n",
      "  [1.]\n",
      "  [1.]\n",
      "  [1.]]]\n",
      "The result:\n",
      " [[24.]\n",
      " [16.]\n",
      " [24.]\n",
      " [24.]]\n"
     ]
    }
   ],
   "source": [
    "p, n = 3, 4\n",
    "matrices = np.ones((p,n,n))\n",
    "matrices[0] *= 2\n",
    "matrices[0, 1] -= 1\n",
    "print('The matrices:\\n', matrices)\n",
    "vectors = np.ones((p,n,1))\n",
    "vectors[0] *= 2\n",
    "#vectors[0, 0] -= 1\n",
    "print('\\nThe vectors:\\n', vectors)\n",
    "result = np.tensordot(matrices, vectors, axes=[[0, 2], [0, 1]])\n",
    "print('The result:\\n', result)\n"
   ]
  },
  {
   "cell_type": "markdown",
   "id": "5afb72c8",
   "metadata": {},
   "source": [
    "#### 87. Consider a 16x16 array, how to get the block-sum (block size is 4x4)? (★★★)"
   ]
  },
  {
   "cell_type": "code",
   "execution_count": null,
   "id": "c4bd6b38",
   "metadata": {},
   "outputs": [
    {
     "name": "stdout",
     "output_type": "stream",
     "text": [
      "The array:\n",
      " [[1 2 3 4 5 6 7 8 1 2 3 4 5 6 7 8]\n",
      " [1 2 3 4 5 6 7 8 1 2 3 4 5 6 7 8]\n",
      " [1 2 3 4 5 6 7 8 1 2 3 4 5 6 7 8]\n",
      " [1 2 3 4 5 6 7 8 1 2 3 4 5 6 7 8]\n",
      " [1 2 3 4 5 6 7 8 1 2 3 4 5 6 7 8]\n",
      " [1 2 3 4 5 6 7 8 1 2 3 4 5 6 7 8]\n",
      " [1 2 3 4 5 6 7 8 1 2 3 4 5 6 7 8]\n",
      " [1 2 3 4 5 6 7 8 1 2 3 4 5 6 7 8]\n",
      " [1 2 3 4 5 6 7 8 1 2 3 4 5 6 7 8]\n",
      " [1 2 3 4 5 6 7 8 1 2 3 4 5 6 7 8]\n",
      " [1 2 3 4 5 6 7 8 1 2 3 4 5 6 7 8]\n",
      " [1 2 3 4 5 6 7 8 1 2 3 4 5 6 7 8]\n",
      " [1 2 3 4 5 6 7 8 1 2 3 4 5 6 7 8]\n",
      " [1 2 3 4 5 6 7 8 1 2 3 4 5 6 7 8]\n",
      " [1 2 3 4 5 6 7 8 1 2 3 4 5 6 7 8]\n",
      " [1 2 3 4 5 6 7 8 1 2 3 4 5 6 7 8]]\n",
      "\n",
      "The block-sum\n",
      " [[ 40 104  40 104]\n",
      " [ 40 104  40 104]\n",
      " [ 40 104  40 104]\n",
      " [ 40 104  40 104]]\n"
     ]
    }
   ],
   "source": [
    "array = np.tile(np.array(np.arange(1, 9)), (16, 2))\n",
    "print('The array:\\n', array)\n",
    "array = sliding_window_view(array, (4, 4))[::4, ::4]\n",
    "result = array.sum(axis=(-2, -1))\n",
    "\n",
    "\"\"\" result = list()\n",
    "for i in range(4):\n",
    "    for j in range(4):\n",
    "        result.append(np.sum(arr[i, j]))\n",
    "result = np.array(result).reshape(4, 4) \"\"\"\n",
    "\n",
    "print('\\nThe block-sum\\n', result)"
   ]
  },
  {
   "cell_type": "markdown",
   "id": "6094d37c",
   "metadata": {},
   "source": [
    "#### 88. How to implement the Game of Life using numpy arrays? (★★★)"
   ]
  },
  {
   "cell_type": "code",
   "execution_count": null,
   "id": "950b72a0",
   "metadata": {},
   "outputs": [
    {
     "name": "stdout",
     "output_type": "stream",
     "text": [
      "0\t1\t1\t0\t0\t\n",
      "1\t1\t0\t0\t1\t\n",
      "0\t1\t0\t0\t1\t\n",
      "0\t0\t1\t1\t0\t\n",
      "0\t0\t0\t1\t0\t\n",
      "\n",
      "[[4 4 3]\n",
      " [3 4 4]\n",
      " [2 3 3]]\n",
      "0\t0\t0\t0\t0\t\n",
      "0\t0\t0\t1\t0\t\n",
      "0\t1\t0\t0\t0\t\n",
      "0\t0\t1\t1\t0\t\n",
      "0\t0\t0\t0\t0\t\n",
      "\n",
      "[[1 2 0]\n",
      " [1 4 3]\n",
      " [2 2 1]]\n",
      "0\t0\t0\t0\t0\t\n",
      "0\t0\t0\t0\t0\t\n",
      "0\t0\t0\t1\t0\t\n",
      "0\t0\t1\t0\t0\t\n",
      "0\t0\t0\t0\t0\t\n",
      "\n",
      "[[0 1 1]\n",
      " [1 2 1]\n",
      " [1 1 2]]\n",
      "0\t0\t0\t0\t0\t\n",
      "0\t0\t0\t0\t0\t\n",
      "0\t0\t0\t0\t0\t\n",
      "0\t0\t0\t0\t0\t\n",
      "0\t0\t0\t0\t0\t\n",
      "\n"
     ]
    }
   ],
   "source": [
    "def output_2D_array(matrix):\n",
    "    for row in matrix:\n",
    "        for item in row:\n",
    "            print(f\"{round(item, 2)}\\t\", end='')\n",
    "        print()\n",
    "    print()\n",
    "\n",
    "def step(array):\n",
    "    number = sliding_window_view(array, (3, 3))\n",
    "    number = number.sum(axis=(-2, -1)) - number[:, 1, 1]\n",
    "\n",
    "    print(number)\n",
    "\n",
    "    new = (number==3) & (array[1:-1,1:-1]==0)\n",
    "    save = ((number==2) | (number==3)) & (array[1:-1,1:-1]==1)\n",
    "    array[:, :] = 0\n",
    "    array[1:-1,1:-1][new | save] = 1\n",
    "    return array\n",
    "\n",
    "maxSize = 5\n",
    "\n",
    "array = np.random.randint(0,2,(maxSize, maxSize))\n",
    "output_2D_array(array)\n",
    "continueGame = True\n",
    "l = 0\n",
    "while continueGame:\n",
    "    array = step(array)\n",
    "    output_2D_array(array)\n",
    "    continueGame = not np.array_equal(array, np.zeros((maxSize, maxSize)))\n",
    "    l += 1\n",
    "    if l == 10:\n",
    "        break"
   ]
  },
  {
   "cell_type": "markdown",
   "id": "a173cf96",
   "metadata": {},
   "source": [
    "#### 89. How to get the n largest values of an array (★★★)"
   ]
  },
  {
   "cell_type": "code",
   "execution_count": null,
   "id": "b7c2ff35",
   "metadata": {},
   "outputs": [
    {
     "name": "stdout",
     "output_type": "stream",
     "text": [
      "The array: [44 41 13  6 38 37 33 48 31 17]\n",
      "[44 48]\n"
     ]
    }
   ],
   "source": [
    "array = np.random.choice(50, 10, replace=False)\n",
    "print('The array:', array)\n",
    "n = 2\n",
    "\n",
    "values = array[np.argpartition(-array,n)[:n]]\n",
    "values = np.sort(values)[::1]\n",
    "print(values)"
   ]
  },
  {
   "cell_type": "markdown",
   "id": "15db2d01",
   "metadata": {},
   "source": [
    "#### 90. Given an arbitrary number of vectors, build the cartesian product (every combinations of every item) (★★★)"
   ]
  },
  {
   "cell_type": "code",
   "execution_count": null,
   "id": "34e81631",
   "metadata": {},
   "outputs": [
    {
     "name": "stdout",
     "output_type": "stream",
     "text": [
      "[[1 4 6]\n",
      " [1 4 7]\n",
      " [2 4 6]\n",
      " [2 4 7]\n",
      " [3 4 6]\n",
      " [3 4 7]\n",
      " [1 5 6]\n",
      " [1 5 7]\n",
      " [2 5 6]\n",
      " [2 5 7]\n",
      " [3 5 6]\n",
      " [3 5 7]]\n"
     ]
    }
   ],
   "source": [
    "vector1 = np.array([1, 2, 3])\n",
    "vector2 = np.array([4, 5])\n",
    "vector3 = np.array([6, 7])\n",
    "\n",
    "meshgrid = np.meshgrid(vector1, vector2, vector3)\n",
    "#print(meshgrid)\n",
    "\n",
    "result = np.column_stack([m.ravel() for m in meshgrid])\n",
    "\n",
    "print(result)"
   ]
  },
  {
   "cell_type": "markdown",
   "id": "5d94d1ef",
   "metadata": {},
   "source": [
    "#### 91. How to create a record array from a regular array? (★★★)"
   ]
  },
  {
   "cell_type": "code",
   "execution_count": null,
   "id": "b1dae380",
   "metadata": {},
   "outputs": [
    {
     "name": "stdout",
     "output_type": "stream",
     "text": [
      "The regular array:\n",
      " [['name1' '10']\n",
      " ['name2' '15']]\n",
      "\n",
      "The record array:\n",
      " [('name1', 10) ('name2', 15)]\n",
      "\n",
      " [10 15]\n"
     ]
    }
   ],
   "source": [
    "array = np.array([(\"name1\", 10),\n",
    "                  (\"name2\", 15)])\n",
    "\n",
    "print('The regular array:\\n', array)\n",
    "\n",
    "record_array = np.core.records.fromarrays(array.T, \n",
    "                                          names='name, number',\n",
    "                                          formats= 'U10, int')\n",
    "print('\\nThe record array:\\n', record_array)\n",
    "print('\\n', record_array['number'])"
   ]
  },
  {
   "cell_type": "markdown",
   "id": "114ccc36",
   "metadata": {},
   "source": [
    "#### 92. Consider a large vector Z, compute Z to the power of 3 using 3 different methods (★★★)"
   ]
  },
  {
   "cell_type": "code",
   "execution_count": null,
   "id": "877c65d6",
   "metadata": {},
   "outputs": [
    {
     "name": "stdout",
     "output_type": "stream",
     "text": [
      "The vector: [6 8 5 6 2 3 9 9 8 9] \n",
      "\n",
      "The first method: [216 512 125 216   8  27 729 729 512 729] \n",
      "\n",
      "The second method: [216 512 125 216   8  27 729 729 512 729] \n",
      "\n",
      "The third method: [216 512 125 216   8  27 729 729 512 729]\n"
     ]
    }
   ],
   "source": [
    "Z = np.random.randint(0, 10, 10)\n",
    "print('The vector:', Z, '\\n')\n",
    "\n",
    "result = Z ** 3\n",
    "print('The first method:', result, '\\n')\n",
    "\n",
    "result = np.power(Z, 3)\n",
    "print('The second method:', result, '\\n')\n",
    "\n",
    "result = Z * Z * Z\n",
    "print('The third method:', result)"
   ]
  },
  {
   "cell_type": "markdown",
   "id": "d614fee4",
   "metadata": {},
   "source": [
    "#### 93. Consider two arrays A and B of shape (8,3) and (2,2). How to find rows of A that contain elements of each row of B regardless of the order of the elements in B? (★★★)"
   ]
  },
  {
   "cell_type": "code",
   "execution_count": null,
   "id": "e6807a84",
   "metadata": {},
   "outputs": [
    {
     "name": "stdout",
     "output_type": "stream",
     "text": [
      "A:\n",
      " [[3 0 2]\n",
      " [3 2 1]\n",
      " [2 0 0]\n",
      " [2 3 1]\n",
      " [2 3 1]\n",
      " [2 2 3]\n",
      " [2 0 2]\n",
      " [2 0 2]]\n",
      "B:\n",
      " [[1 1]\n",
      " [3 2]]\n",
      "The indices of rows:\n",
      " [1 3 4]\n"
     ]
    }
   ],
   "source": [
    "A = np.random.randint(0, 4, (8, 3))\n",
    "print('A:\\n', A)\n",
    "B = np.random.randint(0, 4, (2, 2))\n",
    "print('B:\\n', B)\n",
    "result = (A[..., np.newaxis, np.newaxis] == B)\n",
    "result = np.where(result.any((3,1)).all(1))[0]\n",
    "print('The indices of rows:\\n', result)"
   ]
  },
  {
   "cell_type": "markdown",
   "id": "b0eedca6",
   "metadata": {},
   "source": [
    "#### 94. Considering a 10x3 matrix, extract rows with unequal values (e.g. [2,2,3]) (★★★)"
   ]
  },
  {
   "cell_type": "code",
   "execution_count": null,
   "id": "87495c56",
   "metadata": {},
   "outputs": [
    {
     "name": "stdout",
     "output_type": "stream",
     "text": [
      "The initial array:\n",
      " [[1 0 0]\n",
      " [2 0 2]\n",
      " [1 1 0]\n",
      " [1 0 1]\n",
      " [2 2 0]\n",
      " [2 1 2]\n",
      " [2 2 2]\n",
      " [0 0 0]\n",
      " [2 1 2]\n",
      " [1 0 2]]\n",
      "\n",
      "The resulting array:\n",
      " [[1 0 0]\n",
      " [2 0 2]\n",
      " [1 1 0]\n",
      " [1 0 1]\n",
      " [2 2 0]\n",
      " [2 1 2]\n",
      " [2 1 2]\n",
      " [1 0 2]]\n"
     ]
    }
   ],
   "source": [
    "array = np.random.randint(0, 3, (10, 3))\n",
    "print('The initial array:\\n', array)\n",
    "\n",
    "array = array[~np.all(array[:, 1:] == array[:, :-1], axis=1)]\n",
    "print('\\nThe resulting array:\\n', array)"
   ]
  },
  {
   "cell_type": "markdown",
   "id": "a65ec1cf",
   "metadata": {},
   "source": [
    "#### 95. Convert a vector of ints into a matrix binary representation (★★★)"
   ]
  },
  {
   "cell_type": "code",
   "execution_count": null,
   "id": "323cdf4c",
   "metadata": {},
   "outputs": [
    {
     "name": "stdout",
     "output_type": "stream",
     "text": [
      "The initial array:\n",
      " [4 1 1 0 3]\n",
      "The resulting array:\n",
      " [[0 0 0 0 0 1 0 0]\n",
      " [0 0 0 0 0 0 0 1]\n",
      " [0 0 0 0 0 0 0 1]\n",
      " [0 0 0 0 0 0 0 0]\n",
      " [0 0 0 0 0 0 1 1]]\n"
     ]
    }
   ],
   "source": [
    "array = np.random.randint(0, 5, 5, dtype=np.uint8)\n",
    "print('The initial array:\\n', array)\n",
    "array = np.unpackbits(array[:, np.newaxis], axis=1)\n",
    "print('The resulting array:\\n', array)"
   ]
  },
  {
   "cell_type": "markdown",
   "id": "75b9397f",
   "metadata": {},
   "source": [
    "#### 96. Given a two dimensional array, how to extract unique rows? (★★★)"
   ]
  },
  {
   "cell_type": "code",
   "execution_count": null,
   "id": "9bb56a47",
   "metadata": {},
   "outputs": [
    {
     "name": "stdout",
     "output_type": "stream",
     "text": [
      "The array:\n",
      " [[3 1 2]\n",
      " [3 1 0]\n",
      " [0 2 1]\n",
      " [1 2 0]\n",
      " [3 1 2]\n",
      " [1 1 0]\n",
      " [2 0 3]]\n",
      "(7, 3)\n",
      "\n",
      "The unique rows:\n",
      " [[0 2 1]\n",
      " [1 1 0]\n",
      " [1 2 0]\n",
      " [2 0 3]\n",
      " [3 1 0]\n",
      " [3 1 2]]\n",
      "(6, 3)\n"
     ]
    }
   ],
   "source": [
    "array = np.random.randint(0, 4, (7, 3))\n",
    "print('The array:\\n', array)\n",
    "print(array.shape)\n",
    "rows = np.unique(array, axis=0)\n",
    "print('\\nThe unique rows:\\n', rows)\n",
    "print(rows.shape)"
   ]
  },
  {
   "cell_type": "markdown",
   "id": "82aaf21b",
   "metadata": {},
   "source": [
    "#### 97. Considering 2 vectors A & B, write the einsum equivalent of inner, outer, sum, and mul function (★★★)"
   ]
  },
  {
   "cell_type": "code",
   "execution_count": null,
   "id": "cedcefd9",
   "metadata": {},
   "outputs": [
    {
     "name": "stdout",
     "output_type": "stream",
     "text": [
      "A: [0 1 2 2 0 0]\n",
      "\n",
      "B: [2 3 4 3 0 0]\n",
      "\n",
      "The inner function: 17\n",
      "The outer function:\n",
      " [[0 0 0 0 0 0]\n",
      " [2 3 4 3 0 0]\n",
      " [4 6 8 6 0 0]\n",
      " [4 6 8 6 0 0]\n",
      " [0 0 0 0 0 0]\n",
      " [0 0 0 0 0 0]]\n",
      "The sum function: 5\n",
      "The mul function: [0 3 8 6 0 0]\n"
     ]
    }
   ],
   "source": [
    "A = np.random.randint(0, 5, 6)\n",
    "B = np.random.randint(0, 5, 6)\n",
    "print('A:', A)\n",
    "print()\n",
    "print('B:', B)\n",
    "print()\n",
    "inner = np.einsum('i,i->', A, B)\n",
    "print('The inner function:', inner)\n",
    "outer = np.einsum('i,j->ij', A, B)\n",
    "print('The outer function:\\n', outer)\n",
    "sum = np.einsum('i->', A)\n",
    "print('The sum function:', sum)\n",
    "mul = np.einsum('i, i -> i', A, B)\n",
    "print('The mul function:', mul)"
   ]
  },
  {
   "cell_type": "markdown",
   "id": "7741e17f",
   "metadata": {},
   "source": [
    "#### 98. Considering a path described by two vectors (X,Y), how to sample it using equidistant samples (★★★)?"
   ]
  },
  {
   "cell_type": "code",
   "execution_count": 574,
   "id": "0b2432fe",
   "metadata": {},
   "outputs": [],
   "source": [
    "phi = np.arange(0, 10*np.pi, 0.1)\n",
    "a = 1\n",
    "x = a*phi*np.cos(phi)\n",
    "y = a*phi*np.sin(phi)\n",
    "\n",
    "dr = (np.diff(x)**2 + np.diff(y)**2)**.5\n",
    "r = np.zeros_like(x)\n",
    "r[1:] = np.cumsum(dr)                \n",
    "r_int = np.linspace(0, r.max(), 200) \n",
    "x_int = np.interp(r_int, r, x)      \n",
    "y_int = np.interp(r_int, r, y)"
   ]
  },
  {
   "cell_type": "markdown",
   "id": "340d6f36",
   "metadata": {},
   "source": [
    "#### 99. Given an integer n and a 2D array X, select from X the rows which can be interpreted as draws from a multinomial distribution with n degrees, i.e., the rows which only contain integers and which sum to n. (★★★)"
   ]
  },
  {
   "cell_type": "code",
   "execution_count": null,
   "id": "a75323ae",
   "metadata": {},
   "outputs": [
    {
     "name": "stdout",
     "output_type": "stream",
     "text": [
      "[[2. 0. 1. 1.]]\n"
     ]
    }
   ],
   "source": [
    "X = np.array([[1.0, 0.0, 3.0, 8.0],\n",
    "            [2.0, 0.0, 1.0, 1.0],\n",
    "            [1.5, 2.5, 1.0, 0.0]])\n",
    "n = 4\n",
    "\n",
    "row_sums = np.sum(X, axis=1)\n",
    "\n",
    "mask = (row_sums == n) & np.all(X.astype(int) == X, axis=1)\n",
    "\n",
    "selected_rows = X[mask]\n",
    "\n",
    "print(selected_rows)"
   ]
  },
  {
   "cell_type": "markdown",
   "id": "19721849",
   "metadata": {},
   "source": [
    "#### 100. Compute bootstrapped 95% confidence intervals for the mean of a 1D array X (i.e., resample the elements of an array with replacement N times, compute the mean of each sample, and then compute percentiles over the means). (★★★)"
   ]
  },
  {
   "cell_type": "code",
   "execution_count": null,
   "id": "87309c6f",
   "metadata": {},
   "outputs": [
    {
     "name": "stdout",
     "output_type": "stream",
     "text": [
      "The 1D array: [ 1.97962261  0.60810547 -0.05471478  0.63841141  0.05104713]\n",
      "\n",
      "The means of each sample:\n",
      " [-0.01241002  0.07784927  0.09900165  0.09900165  0.12621522  0.12621522\n",
      "  0.22253569  0.2315657   0.24368808  0.24368808  0.25271808  0.25877927\n",
      "  0.25877927  0.25877927  0.25877927  0.27993165  0.28599284  0.35509975\n",
      "  0.38528213  0.39134332  0.39740451  0.47554142  0.48160261  0.48471675\n",
      "  0.48471675  0.4876638   0.4876638   0.4876638   0.49372499  0.50586913\n",
      "  0.51193032  0.51193032  0.52702151  0.52702151  0.5330827   0.5330827\n",
      "  0.5330827   0.5330827   0.5330827   0.54817389  0.54817389  0.54817389\n",
      "  0.54817389  0.6172808   0.62022785  0.62334199  0.62334199  0.62940317\n",
      "  0.62940317  0.63843318  0.64449437  0.64449437  0.64449437  0.65958556\n",
      "  0.66564675  0.66564675  0.67170794  0.67170794  0.67170794  0.67170794\n",
      "  0.75590604  0.75590604  0.75590604  0.75902018  0.77099723  0.77099723\n",
      "  0.77705842  0.77705842  0.77705842  0.78017256  0.78017256  0.78311961\n",
      "  0.78311961  0.78311961  0.80132494  0.89158423  0.89453128  0.89453128\n",
      "  0.89764541  0.91273661  0.91273661  0.93995018  1.03020947  1.03020947\n",
      "  1.05742304  1.16277352  1.16277352  1.16277352  1.16277352  1.16588765\n",
      "  1.16883471  1.16883471  1.18704004  1.18704004  1.18704004  1.31960409\n",
      "  1.31960409  1.32566528  1.43101576  1.43707695]\n",
      "\n",
      "The 95% confidence intervals: [0.09900165 1.32278621]\n"
     ]
    }
   ],
   "source": [
    "X = np.random.randn(5)\n",
    "print('The 1D array:', X)\n",
    "N = 100\n",
    "\n",
    "sample_means = np.empty(N)\n",
    "\n",
    "for i in range(N):\n",
    "    resample = np.random.choice(X, size=len(X), replace=True)\n",
    "    means[i] = np.mean(resample)\n",
    "\n",
    "print()\n",
    "print('The means of each sample:\\n', np.sort(means))\n",
    "\n",
    "interval = np.percentile(means, [2.5, 97.5])\n",
    "print(\"\\nThe 95% confidence intervals:\", interval)"
   ]
  }
 ],
 "metadata": {
  "kernelspec": {
   "display_name": "base",
   "language": "python",
   "name": "python3"
  },
  "language_info": {
   "codemirror_mode": {
    "name": "ipython",
    "version": 3
   },
   "file_extension": ".py",
   "mimetype": "text/x-python",
   "name": "python",
   "nbconvert_exporter": "python",
   "pygments_lexer": "ipython3",
   "version": "3.11.5"
  }
 },
 "nbformat": 4,
 "nbformat_minor": 5
}
